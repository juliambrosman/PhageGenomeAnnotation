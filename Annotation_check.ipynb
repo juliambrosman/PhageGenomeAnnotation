{
 "cells": [
  {
   "cell_type": "code",
   "execution_count": null,
   "metadata": {
    "collapsed": true
   },
   "outputs": [],
   "source": [
    "#ran on server to extract basic information about annotations:\n",
    "import glob\n",
    "\n",
    "gff3s=glob.glob(\"./gff3/*\")\n",
    "#gff3s=[\"1.161.O.cds.gff3\"]\n",
    "\n",
    "out=open(\"cds.annotation.info.txt\",\"w\")\n",
    "\n",
    "for g in gff3s:\n",
    "    phage=g.split(\"/\")[-1].replace(\"cds.gff3\",\"\")\n",
    "    cog_ct=0\n",
    "    pfam_ct=0\n",
    "    ann=open(g).readlines()\n",
    "    total=len(ann)\n",
    "    for line in ann:\n",
    "        if \"COG\" in line:\n",
    "            cog_ct+=1\n",
    "        if \"Pfam\" in line:\n",
    "            pfam_ct+=1\n",
    "    out.write(phage+\"\\t\"+str(total)+\"\\t\"+str(cog_ct)+\"\\t\"+str(pfam_ct))\n",
    "out.close()"
   ]
  },
  {
   "cell_type": "code",
   "execution_count": 1,
   "metadata": {
    "collapsed": false
   },
   "outputs": [
    {
     "data": {
      "text/plain": [
       "\n",
       "Attaching package: ‘dplyr’\n",
       "\n",
       "The following object is masked from ‘package:stats’:\n",
       "\n",
       "    filter\n",
       "\n",
       "The following objects are masked from ‘package:base’:\n",
       "\n",
       "    intersect, setdiff, setequal, union\n",
       "\n"
      ]
     },
     "metadata": {},
     "output_type": "display_data"
    },
    {
     "data": {
      "text/plain": [
       "<StrVector - Python:0x10a3cb7e8 / R:0x100d041f0>\n",
       "[str, str, str, ..., str, str, str]"
      ]
     },
     "execution_count": 1,
     "metadata": {},
     "output_type": "execute_result"
    }
   ],
   "source": [
    "%load_ext rpy2.ipython\n",
    "%R library(dplyr);library(magrittr);library(ggplot2); library(reshape)"
   ]
  },
  {
   "cell_type": "code",
   "execution_count": 2,
   "metadata": {
    "collapsed": false
   },
   "outputs": [
    {
     "data": {
      "text/plain": [
       "     phage total_orfs total_cogs total_pfam hypotheticals\n",
       "1 1.245.O.         94          8         13            68\n",
       "2 1.082.O.         57         13         15            45\n",
       "3 1.040.O.         21          1          2            19\n",
       "4 1.043.O.         21          0          1            20\n",
       "5 1.074.O.         64          8         12            55\n",
       "6 1.293.O.         76          4         15            68\n"
      ]
     },
     "metadata": {},
     "output_type": "display_data"
    }
   ],
   "source": [
    "%%R\n",
    "ai<-read.table(\"cds.annotation.info1.txt\", header=TRUE, sep=\"\\t\")\n",
    "head(ai)"
   ]
  },
  {
   "cell_type": "code",
   "execution_count": 3,
   "metadata": {
    "collapsed": true
   },
   "outputs": [],
   "source": [
    "%%R\n",
    "ai<-mutate(ai, frac_cogs=total_cogs/total_orfs, frac_pfam=total_pfam/total_orfs, frac_hyp=hypotheticals/total_orfs)"
   ]
  },
  {
   "cell_type": "code",
   "execution_count": 4,
   "metadata": {
    "collapsed": false
   },
   "outputs": [
    {
     "data": {
      "text/plain": [
       "     phage total_orfs total_cogs total_pfam hypotheticals  frac_cogs  frac_pfam\n",
       "1 1.245.O.         94          8         13            68 0.08510638 0.13829787\n",
       "2 1.082.O.         57         13         15            45 0.22807018 0.26315789\n",
       "3 1.040.O.         21          1          2            19 0.04761905 0.09523810\n",
       "4 1.043.O.         21          0          1            20 0.00000000 0.04761905\n",
       "5 1.074.O.         64          8         12            55 0.12500000 0.18750000\n",
       "6 1.293.O.         76          4         15            68 0.05263158 0.19736842\n",
       "   frac_hyp\n",
       "1 0.7234043\n",
       "2 0.7894737\n",
       "3 0.9047619\n",
       "4 0.9523810\n",
       "5 0.8593750\n",
       "6 0.8947368\n"
      ]
     },
     "metadata": {},
     "output_type": "display_data"
    }
   ],
   "source": [
    "%%R \n",
    "head(ai)"
   ]
  },
  {
   "cell_type": "code",
   "execution_count": 29,
   "metadata": {
    "collapsed": false
   },
   "outputs": [
    {
     "data": {
      "text/plain": [
       "[1] 0.1462707\n",
       "[1] 0.2173152\n",
       "[1] 0.7625658\n",
       "   total_orfs    total_cogs    total_pfam hypotheticals     frac_cogs \n",
       "  12055.00000    1695.00000    2565.00000    9055.00000      22.08687 \n",
       "    frac_pfam      frac_hyp \n",
       "     32.81459     115.14744 \n"
      ]
     },
     "metadata": {},
     "output_type": "display_data"
    }
   ],
   "source": [
    "%%R\n",
    "with(ai, mean(frac_cogs))%>%print\n",
    "with(ai, mean(frac_pfam))%>%print\n",
    "with(ai, mean(frac_hyp))%>%print\n",
    "sums<-colSums(ai[2:8],)\n",
    "print(sums)"
   ]
  },
  {
   "cell_type": "code",
   "execution_count": null,
   "metadata": {
    "collapsed": true
   },
   "outputs": [],
   "source": []
  }
 ],
 "metadata": {
  "kernelspec": {
   "display_name": "Python 2",
   "language": "python",
   "name": "python2"
  },
  "language_info": {
   "codemirror_mode": {
    "name": "ipython",
    "version": 2
   },
   "file_extension": ".py",
   "mimetype": "text/x-python",
   "name": "python",
   "nbconvert_exporter": "python",
   "pygments_lexer": "ipython2",
   "version": "2.7.10"
  }
 },
 "nbformat": 4,
 "nbformat_minor": 0
}
