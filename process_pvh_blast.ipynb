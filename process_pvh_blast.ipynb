{
 "cells": [
  {
   "cell_type": "code",
   "execution_count": 12,
   "metadata": {
    "collapsed": false
   },
   "outputs": [],
   "source": [
    "from pyfaidx import Fasta\n",
    "\n",
    "def set_org_name_dict(codenames1, codenames2):\n",
    "    codefiles=[codenames1, codenames2]\n",
    "    org_dict={}\n",
    "    for c in codefiles:\n",
    "        orgs=open(c).readlines()\n",
    "        for o in orgs:\n",
    "            vec=o.split(\"\\t\")\n",
    "            organism=vec[0].split(\"/\")[-1].replace(\"fasta\",\"\").replace(\"faa\",\"\").split(\"_\")[0]\n",
    "            code=vec[1].replace(\"\\n\",\"\")\n",
    "            org_dict[code]=organism\n",
    "    return org_dict\n",
    "\n",
    "#get original organism name from a orthomcl protein ID\n",
    "def pull_org_id(prot, org_dict):\n",
    "    org_id=prot.split(\"|\")[0]\n",
    "    orig_name=org_dict.get(org_id,\"NA\")\n",
    "    return orig_name"
   ]
  },
  {
   "cell_type": "code",
   "execution_count": 13,
   "metadata": {
    "collapsed": false
   },
   "outputs": [],
   "source": [
    "def get_prot_lens(faa_file):\n",
    "    len_dict={}\n",
    "    f=Fasta(faa_file)\n",
    "    for i in f.keys():\n",
    "        name=i\n",
    "        length=len(str(f[i]))\n",
    "        len_dict[name]=length\n",
    "    return len_dict\n",
    "\n",
    "\n",
    "def filter_blast(input1, faa, outfile, name_dict, cov_thresh=75):\n",
    "    len_dict=get_prot_lens(faa)\n",
    "    out=open(outfile, \"w\")\n",
    "    out.write(\"name\\tphage\\tlocus_tag\\thitt\\thost\\thost_locus_tag\\taln_len\\tpct_id\\teval\\tpct_cov\\n\")\n",
    "    with open(input1) as infile:\n",
    "        for line in infile:\n",
    "            name=line.split(\"\\t\")[0]\n",
    "            phage=pull_org_id(name, name_dict)\n",
    "            lt=name.split(\"|\")[1]\n",
    "            \n",
    "            hit=line.split(\"\\t\")[1]\n",
    "            host=pull_org_id(hit.split(\"|\")[0], name_dict)\n",
    "            host_lt=hit.split(\"|\")[1]\n",
    "            \n",
    "            prot_len=len_dict[name]\n",
    "            aln_len=int(line.split(\"\\t\")[3])\n",
    "            pct_id=float(line.split(\"\\t\")[2])\n",
    "            ev=line.split(\"\\t\")[-2]\n",
    "            pct_cov=(aln_len/prot_len)*100\n",
    "            \n",
    "            if pct_id>35 and pct_cov>cov_thresh:\n",
    "                out.write((\"\\t\".join([name, phage, lt, hit, host,host_lt, str(aln_len), str(pct_id), str(ev), str(pct_cov)]))+\"\\n\")\n",
    "\n",
    "    out.close()\n"
   ]
  },
  {
   "cell_type": "code",
   "execution_count": 14,
   "metadata": {
    "collapsed": false
   },
   "outputs": [],
   "source": [
    "name_dict=set_org_name_dict(\"../OrthoMCL/phage_v_phage/phage_taxon_codes.txt\",\"../OrthoMCL/host_taxon_codes.txt\")\n",
    "\n",
    "filter_blast(\"phage_vs_host.out\",\"allphage_goodProteins.fasta\", \"pvh_blast_summary.txt\",name_dict)"
   ]
  },
  {
   "cell_type": "code",
   "execution_count": 15,
   "metadata": {
    "collapsed": false
   },
   "outputs": [],
   "source": [
    "blast=open(\"pvh_blast_summary.txt\").readlines()\n",
    "out=open(\"pvh_blast_cytoscape1.txt\",\"w\")\n",
    "out_ponly=open(\"pvh_blast_cytoscape2.txt\",\"w\")\n",
    "out_ponlyi=open(\"pvh_blast_cytoscape2_info.txt\",\"w\")\n",
    "out_ponly.write(\"organism\\tprotein\\n\")\n",
    "out_ponlyi.write(\"name\\ttype\\n\")\n",
    "out2=open(\"pvh_blast_cytoscape1_nodeinfo.txt\",\"w\")\n",
    "out2.write(\"name\\ttype\\n\")\n",
    "out.write(\"organism\\tprotien\\n\")\n",
    "for l in blast[1:]:\n",
    "    phage=l.split(\"\\t\")[1]\n",
    "    host=l.split(\"\\t\")[4]\n",
    "    prot=l.split(\"\\t\")[5]\n",
    "    out.write(\"%s\\t%s\\n%s\\t%s\\n\"% (phage, prot, host, prot))\n",
    "    out_ponly.write(\"%s\\t%s\\n\"% (phage, prot))\n",
    "    out_ponlyi.write(\"%s\\tphage\\n%s\\tprotein\\n\"% (phage, prot))\n",
    "    out2.write(\"%s\\tphage\\n%s\\thost\\n%s\\tprotein\\n\"% (phage, host, prot))\n",
    "    \n",
    "out.close()\n",
    "out2.close()\n",
    "out_ponly.close()\n",
    "out_ponlyi.close()\n",
    "!open pvh_blast_cytoscape* -a textedit\n"
   ]
  },
  {
   "cell_type": "code",
   "execution_count": 3,
   "metadata": {
    "collapsed": true
   },
   "outputs": [],
   "source": [
    "name_dict=set_org_name_dict(\"../OrthoMCL/phage_v_phage/phage_taxon_codes.txt\",\"../OrthoMCL/host_taxon_codes.txt\")\n",
    "\n",
    "filter_blast(\"phage_vs_host_derep.out\",\"allphage_goodProteins.fasta\", \"pvh_derep_blast_summary.txt\",name_dict)"
   ]
  },
  {
   "cell_type": "code",
   "execution_count": 5,
   "metadata": {
    "collapsed": true
   },
   "outputs": [],
   "source": [
    "blast=open(\"pvh_derep_blast_summary.txt\").readlines()\n",
    "out=open(\"pvh_derep_blast_cytoscape1.txt\",\"w\")\n",
    "out_ponly=open(\"pvh_derep_blast_cytoscape2.txt\",\"w\")\n",
    "out_ponlyi=open(\"pvh_derep_blast_cytoscape2_info.txt\",\"w\")\n",
    "out_ponly.write(\"organism\\tprotein\\n\")\n",
    "out_ponlyi.write(\"name\\ttype\\n\")\n",
    "out2=open(\"pvh_blast_cytoscape1_nodeinfo.txt\",\"w\")\n",
    "out2.write(\"name\\ttype\\n\")\n",
    "out.write(\"organism\\tprotien\\n\")\n",
    "for l in blast[1:]:\n",
    "    phage=l.split(\"\\t\")[1]\n",
    "    host=l.split(\"\\t\")[4]\n",
    "    prot=l.split(\"\\t\")[5]\n",
    "    out.write(\"%s\\t%s\\n%s\\t%s\\n\"% (phage, prot, host, prot))\n",
    "    out_ponly.write(\"%s\\t%s\\n\"% (phage, prot))\n",
    "    out_ponlyi.write(\"%s\\tphage\\n%s\\tprotein\\n\"% (phage, prot))\n",
    "    out2.write(\"%s\\tphage\\n%s\\thost\\n%s\\tprotein\\n\"% (phage, host, prot))\n",
    "    \n",
    "out.close()\n",
    "out2.close()\n",
    "out_ponly.close()\n",
    "out_ponlyi.close()\n",
    "!open pvh_derep_blast_cytoscape* -a textedit\n"
   ]
  },
  {
   "cell_type": "code",
   "execution_count": 17,
   "metadata": {
    "collapsed": false
   },
   "outputs": [],
   "source": [
    "f=open(\"pvh_derep_blast_summary.txt\").readlines()\n",
    "protlist=[]\n",
    "\n",
    "for l in f:\n",
    "    vec=l.split(\"\\t\")\n",
    "    hit=vec[5]\n",
    "    if hit not in protlist:\n",
    "        protlist.append(hit)"
   ]
  },
  {
   "cell_type": "code",
   "execution_count": null,
   "metadata": {
    "collapsed": true
   },
   "outputs": [],
   "source": []
  }
 ],
 "metadata": {
  "kernelspec": {
   "display_name": "Python 2",
   "language": "python",
   "name": "python2"
  },
  "language_info": {
   "codemirror_mode": {
    "name": "ipython",
    "version": 2
   },
   "file_extension": ".py",
   "mimetype": "text/x-python",
   "name": "python",
   "nbconvert_exporter": "python",
   "pygments_lexer": "ipython2",
   "version": "2.7.10"
  }
 },
 "nbformat": 4,
 "nbformat_minor": 0
}
