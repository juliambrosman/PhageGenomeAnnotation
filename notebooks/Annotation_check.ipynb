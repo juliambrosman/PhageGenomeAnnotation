{
 "cells": [
  {
   "cell_type": "code",
   "execution_count": null,
   "metadata": {
    "collapsed": true
   },
   "outputs": [],
   "source": [
    "#ran on server to extract basic information about annotations:\n",
    "import glob\n",
    "\n",
    "gff3s=glob.glob(\"./gff3/*\")\n",
    "#gff3s=[\"1.161.O.cds.gff3\"]\n",
    "\n",
    "out=open(\"cds.annotation.info.txt\",\"w\")\n",
    "\n",
    "for g in gff3s:\n",
    "    phage=g.split(\"/\")[-1].replace(\"cds.gff3\",\"\")\n",
    "    cog_ct=0\n",
    "    pfam_ct=0\n",
    "    ann=open(g).readlines()\n",
    "    total=len(ann)\n",
    "    for line in ann:\n",
    "        if \"COG\" in line:\n",
    "            cog_ct+=1\n",
    "        if \"Pfam\" in line:\n",
    "            pfam_ct+=1\n",
    "    out.write(phage+\"\\t\"+str(total)+\"\\t\"+str(cog_ct)+\"\\t\"+str(pfam_ct))\n",
    "out.close()"
   ]
  },
  {
   "cell_type": "code",
   "execution_count": 1,
   "metadata": {
    "collapsed": false
   },
   "outputs": [
    {
     "name": "stderr",
     "output_type": "stream",
     "text": [
      "/Users/jmb/anaconda/lib/python2.7/site-packages/rpy2/robjects/functions.py:106: UserWarning: \n",
      "Attaching package: ‘dplyr’\n",
      "\n",
      "\n",
      "  res = super(Function, self).__call__(*new_args, **new_kwargs)\n",
      "/Users/jmb/anaconda/lib/python2.7/site-packages/rpy2/robjects/functions.py:106: UserWarning: The following objects are masked from ‘package:stats’:\n",
      "\n",
      "    filter, lag\n",
      "\n",
      "\n",
      "  res = super(Function, self).__call__(*new_args, **new_kwargs)\n",
      "/Users/jmb/anaconda/lib/python2.7/site-packages/rpy2/robjects/functions.py:106: UserWarning: The following objects are masked from ‘package:base’:\n",
      "\n",
      "    intersect, setdiff, setequal, union\n",
      "\n",
      "\n",
      "  res = super(Function, self).__call__(*new_args, **new_kwargs)\n",
      "/Users/jmb/anaconda/lib/python2.7/site-packages/rpy2/robjects/functions.py:106: UserWarning: Error in library(reshape) : there is no package called ‘reshape’\n",
      "\n",
      "  res = super(Function, self).__call__(*new_args, **new_kwargs)\n"
     ]
    },
    {
     "name": "stdout",
     "output_type": "stream",
     "text": [
      "\n",
      "Error in library(reshape) : there is no package called ‘reshape’\n"
     ]
    }
   ],
   "source": [
    "%load_ext rpy2.ipython\n",
    "%R library(dplyr);library(magrittr);library(ggplot2); library(reshape)"
   ]
  },
  {
   "cell_type": "code",
   "execution_count": 2,
   "metadata": {
    "collapsed": false
   },
   "outputs": [
    {
     "data": {
      "text/plain": [
       "     phage total_orfs total_cogs total_pfam hypotheticals\n",
       "1 1.245.O.         94          8         13            68\n",
       "2 1.082.O.         57         13         15            45\n",
       "3 1.040.O.         21          1          2            19\n",
       "4 1.043.O.         21          0          1            20\n",
       "5 1.074.O.         64          8         12            55\n",
       "6 1.293.O.         76          4         15            68\n"
      ]
     },
     "metadata": {},
     "output_type": "display_data"
    }
   ],
   "source": [
    "%%R\n",
    "ai<-read.table(\"cds.annotation.info1.txt\", header=TRUE, sep=\"\\t\")\n",
    "head(ai)"
   ]
  },
  {
   "cell_type": "code",
   "execution_count": 3,
   "metadata": {
    "collapsed": true
   },
   "outputs": [],
   "source": [
    "%%R\n",
    "ai<-mutate(ai, frac_cogs=total_cogs/total_orfs, frac_pfam=total_pfam/total_orfs, frac_hyp=hypotheticals/total_orfs)"
   ]
  },
  {
   "cell_type": "code",
   "execution_count": 4,
   "metadata": {
    "collapsed": false
   },
   "outputs": [
    {
     "data": {
      "text/plain": [
       "     phage total_orfs total_cogs total_pfam hypotheticals  frac_cogs  frac_pfam\n",
       "1 1.245.O.         94          8         13            68 0.08510638 0.13829787\n",
       "2 1.082.O.         57         13         15            45 0.22807018 0.26315789\n",
       "3 1.040.O.         21          1          2            19 0.04761905 0.09523810\n",
       "4 1.043.O.         21          0          1            20 0.00000000 0.04761905\n",
       "5 1.074.O.         64          8         12            55 0.12500000 0.18750000\n",
       "6 1.293.O.         76          4         15            68 0.05263158 0.19736842\n",
       "   frac_hyp\n",
       "1 0.7234043\n",
       "2 0.7894737\n",
       "3 0.9047619\n",
       "4 0.9523810\n",
       "5 0.8593750\n",
       "6 0.8947368\n"
      ]
     },
     "metadata": {},
     "output_type": "display_data"
    }
   ],
   "source": [
    "%%R \n",
    "head(ai)"
   ]
  },
  {
   "cell_type": "code",
   "execution_count": 29,
   "metadata": {
    "collapsed": false
   },
   "outputs": [
    {
     "data": {
      "text/plain": [
       "[1] 0.1462707\n",
       "[1] 0.2173152\n",
       "[1] 0.7625658\n",
       "   total_orfs    total_cogs    total_pfam hypotheticals     frac_cogs \n",
       "  12055.00000    1695.00000    2565.00000    9055.00000      22.08687 \n",
       "    frac_pfam      frac_hyp \n",
       "     32.81459     115.14744 \n"
      ]
     },
     "metadata": {},
     "output_type": "display_data"
    }
   ],
   "source": [
    "%%R\n",
    "with(ai, mean(frac_cogs))%>%print\n",
    "with(ai, mean(frac_pfam))%>%print\n",
    "with(ai, mean(frac_hyp))%>%print\n",
    "sums<-colSums(ai[2:8],)\n",
    "print(sums)"
   ]
  },
  {
   "cell_type": "markdown",
   "metadata": {
    "collapsed": true
   },
   "source": [
    "### Looking into kegg annotations via comparison to TARA versus comparison directly to kegg:"
   ]
  },
  {
   "cell_type": "code",
   "execution_count": 73,
   "metadata": {
    "collapsed": false
   },
   "outputs": [
    {
     "data": {
      "text/plain": [
       "                locus_tag                  V2 tara_egg tara_kegg tara_kfunc\n",
       "NVP1161O_119 NVP1161O_119 OM-RGC.v1.031044528     <NA>      <NA>       <NA>\n",
       "NVP1161O_118 NVP1161O_118 OM-RGC.v1.029216919     <NA>      <NA>       <NA>\n",
       "NVP1161O_223 NVP1161O_223 OM-RGC.v1.023443165     <NA>      <NA>       <NA>\n",
       "NVP1161O_110 NVP1161O_110 OM-RGC.v1.005269655  COG4294    K13281       <NA>\n",
       "NVP1161O_117 NVP1161O_117 OM-RGC.v1.036345776     <NA>      <NA>       <NA>\n",
       "NVP1161O_224 NVP1161O_224 OM-RGC.v1.018155996 NOG82947      <NA>       <NA>\n"
      ]
     },
     "metadata": {},
     "output_type": "display_data"
    }
   ],
   "source": [
    "%%R\n",
    "tara<-read.table(\"./1.161.O.tara.txt\", sep=\"\\t\", header=FALSE, na.strings=c(\"\",\"NA\"))\n",
    "head(tara)\n",
    "rownames(tara)<-tara$V1\n",
    "colnames(tara)[c(1,7,8,9)]<-c(\"locus_tag\",\"tara_egg\",\"tara_kegg\",\"tara_kfunc\")\n",
    "head(tara)\n",
    "tann<-tara[,c(1,2,7,8,9)]\n",
    "head(tann)"
   ]
  },
  {
   "cell_type": "code",
   "execution_count": 109,
   "metadata": {
    "collapsed": false
   },
   "outputs": [
    {
     "data": {
      "text/plain": [
       "[1] 228\n",
       "             type  start   stop strand            best_hit_annotation KEGG PFam\n",
       "NVP1161O_223  cds 136065 136541      +          hypothetical protein  <NA> <NA>\n",
       "NVP1161O_224  cds 136547 137098      + putative phage-related protein <NA> <NA>\n",
       "NVP1161O_225  cds 137723 137424      -           hypothetical protein <NA> <NA>\n",
       "NVP1161O_226  cds 137968 138540      +           hypothetical protein <NA> <NA>\n",
       "NVP1161O_227  cds 138960 139349      +             predicted protein  <NA> <NA>\n",
       "NVP1161O_228  cds 139446 140666      +           hypothetical protein <NA> <NA>\n",
       "              COG            ACLAME               CVP                TARA\n",
       "NVP1161O_223 <NA>              <NA> CAMPEP_0000014776 OM-RGC.v1.023443165\n",
       "NVP1161O_224 <NA> protein:vir:96721 CAMPEP_0000014874 OM-RGC.v1.019388685\n",
       "NVP1161O_225 <NA>              <NA>              <NA>                <NA>\n",
       "NVP1161O_226 <NA>              <NA>              <NA>                <NA>\n",
       "NVP1161O_227 <NA>              <NA> CAMPEP_0000011814 OM-RGC.v1.025937621\n",
       "NVP1161O_228 <NA>              <NA>              <NA>                <NA>\n",
       "                locus_tag\n",
       "NVP1161O_223 NVP1161O_223\n",
       "NVP1161O_224 NVP1161O_224\n",
       "NVP1161O_225 NVP1161O_225\n",
       "NVP1161O_226 NVP1161O_226\n",
       "NVP1161O_227 NVP1161O_227\n",
       "NVP1161O_228 NVP1161O_228\n",
       "                             best_hit_annotation KEGG    PFam  COG ACLAME\n",
       "NVP1161O_001                hypothetical protein <NA>    <NA> <NA>   <NA>\n",
       "NVP1161O_002               Terminase-like family <NA> PF03237 <NA>   <NA>\n",
       "NVP1161O_003 C-5 cytosine-specific DNA methylase <NA> PF00145 <NA>   <NA>\n",
       "NVP1161O_004                hypothetical protein <NA>    <NA> <NA>   <NA>\n",
       "NVP1161O_005                  predicted protein  <NA>    <NA> <NA>   <NA>\n",
       "NVP1161O_006                  predicted protein  <NA>    <NA> <NA>   <NA>\n",
       "                            CVP                TARA    locus_tag\n",
       "NVP1161O_001               <NA> OM-RGC.v1.021919001 NVP1161O_001\n",
       "NVP1161O_002 NCBI_PEP_323514092 OM-RGC.v1.003885702 NVP1161O_002\n",
       "NVP1161O_003    NCBI_PEP_535137 OM-RGC.v1.004849675 NVP1161O_003\n",
       "NVP1161O_004               <NA>                <NA> NVP1161O_004\n",
       "NVP1161O_005  CAMPEP_0000011774 OM-RGC.v1.028578108 NVP1161O_005\n",
       "NVP1161O_006  CAMPEP_0000011360 OM-RGC.v1.027951854 NVP1161O_006\n"
      ]
     },
     "metadata": {},
     "output_type": "display_data"
    }
   ],
   "source": [
    "%%R\n",
    "others<-read.csv(\"1.161.O.annotations.txt\", sep=\"\\t\", header=TRUE, na.strings=c(\"\",\" \",\"NA\"))\n",
    "ocn<-colnames(others)\n",
    "colnames(others)<-ocn[2:length(ocn)]\n",
    "\n",
    "others$locus_tag<-rownames(others)\n",
    "others$\"NA\"<-NULL\n",
    "nrow(others)%>%print\n",
    "print(tail(others))\n",
    "oann<-others[,c(5,6,7,8,9,10,11,12)]\n",
    "head(oann)"
   ]
  },
  {
   "cell_type": "code",
   "execution_count": 110,
   "metadata": {
    "collapsed": false
   },
   "outputs": [
    {
     "data": {
      "text/plain": [
       "'data.frame':\t228 obs. of  12 variables:\n",
       " $ locus_tag          : Factor w/ 228 levels \"NVP1161O_003\",..: 1 2 3 4 5 6 7 8 9 10 ...\n",
       " $ V2                 : Factor w/ 88 levels \"OM-RGC.v1.000339379\",..: 16 6 40 15 61 18 39 22 52 35 ...\n",
       " $ tara_egg           : Factor w/ 22 levels \"COG0207\",\"COG0208\",..: 4 14 NA NA NA 16 NA NA NA NA ...\n",
       " $ tara_kegg          : Factor w/ 8 levels \"K00287\",\"K00526\",..: 3 NA NA NA NA NA NA NA NA NA ...\n",
       " $ tara_kfunc         : Factor w/ 4 levels \"M00035\",\"M00050,M00053,M00049\",..: 1 NA NA NA NA NA NA NA NA NA ...\n",
       " $ best_hit_annotation: Factor w/ 28 levels \"5' nucleotidase, deoxy (Pyrimidine), cytosolic type C protein (NT5C)\",..: 2 17 17 17 17 15 12 17 17 12 ...\n",
       " $ KEGG               : Factor w/ 2 levels \"K00287\",\"K00560\": NA NA NA NA NA NA NA NA NA NA ...\n",
       " $ PFam               : Factor w/ 14 levels \"PF00145\",\"PF00186\",..: 1 NA NA NA NA 10 NA NA NA NA ...\n",
       " $ COG                : Factor w/ 5 levels \"COG0207\",\"COG0216\",..: NA NA NA NA NA NA NA NA NA NA ...\n",
       " $ ACLAME             : Factor w/ 5 levels \"protein:plasmid:119505\",..: NA NA NA NA NA NA NA NA NA NA ...\n",
       " $ CVP                : Factor w/ 144 levels \"CAMPEP_0000007816\",..: 137 27 12 33 15 115 102 55 40 84 ...\n",
       " $ TARA               : Factor w/ 133 levels \"OM-RGC.v1.000339379\",..: 22 7 51 20 86 23 50 29 70 44 ...\n"
      ]
     },
     "metadata": {},
     "output_type": "display_data"
    }
   ],
   "source": [
    "%%R\n",
    "anns<-merge(tann, oann, by=\"locus_tag\", all.x=TRUE, all.y=TRUE)\n",
    "str(anns)"
   ]
  },
  {
   "cell_type": "code",
   "execution_count": 111,
   "metadata": {
    "collapsed": false
   },
   "outputs": [],
   "source": [
    "%%R\n",
    "kegg_compare<-anns[,c(1,6,4,7)]\n",
    "kegg_compare%>%.[which(.$tara_kegg!=\"<NA>\"|.$KEGG!=\"<NA>\"),]%>%write.table(.,file=\"1.161.O.kegg.comp.txt\",sep=\"\\t\", quote=FALSE, row.names=FALSE)"
   ]
  },
  {
   "cell_type": "code",
   "execution_count": 112,
   "metadata": {
    "collapsed": false
   },
   "outputs": [],
   "source": [
    "%%R\n",
    "cog_compare<-anns[,c(1,6,3,9)]\n",
    "cog_compare%>%.[which(.[,3]!=\"<NA>\"|.[,4]!=\"<NA>\"),]%>%write.table(.,file=\"1.161.O.cog.comp.txt\", sep=\"\\t\", quote=FALSE, row.names=FALSE)"
   ]
  },
  {
   "cell_type": "code",
   "execution_count": 119,
   "metadata": {
    "collapsed": false
   },
   "outputs": [],
   "source": [
    "%%R\n",
    "anns%>%.[which(.[,c(3:11)]!=\"<NA>\"),]%>%write.table(.,file=\"1.161.O.any.annote.txt\", sep=\"\\t\",quote=FALSE, row.names=FALSE)"
   ]
  },
  {
   "cell_type": "code",
   "execution_count": 120,
   "metadata": {
    "collapsed": false
   },
   "outputs": [
    {
     "data": {
      "text/plain": [
       "[1] 228\n",
       "[1] 435\n"
      ]
     },
     "metadata": {},
     "output_type": "display_data"
    }
   ],
   "source": [
    "%%R\n",
    "print(nrow(others))\n",
    "anns%>%.[which(.[,c(3:11)]!=\"<NA>\"),]%>%nrow%>%print"
   ]
  },
  {
   "cell_type": "code",
   "execution_count": null,
   "metadata": {
    "collapsed": true
   },
   "outputs": [],
   "source": []
  },
  {
   "cell_type": "code",
   "execution_count": null,
   "metadata": {
    "collapsed": true
   },
   "outputs": [],
   "source": []
  },
  {
   "cell_type": "code",
   "execution_count": null,
   "metadata": {
    "collapsed": true
   },
   "outputs": [],
   "source": []
  }
 ],
 "metadata": {
  "kernelspec": {
   "display_name": "Python 2",
   "language": "python",
   "name": "python2"
  },
  "language_info": {
   "codemirror_mode": {
    "name": "ipython",
    "version": 2
   },
   "file_extension": ".py",
   "mimetype": "text/x-python",
   "name": "python",
   "nbconvert_exporter": "python",
   "pygments_lexer": "ipython2",
   "version": "2.7.10"
  }
 },
 "nbformat": 4,
 "nbformat_minor": 0
}
