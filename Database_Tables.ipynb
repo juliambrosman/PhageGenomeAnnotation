{
 "cells": [
  {
   "cell_type": "code",
   "execution_count": 30,
   "metadata": {
    "collapsed": false
   },
   "outputs": [],
   "source": [
    "!mkdir ./databases/DB_Info/CVP/"
   ]
  },
  {
   "cell_type": "code",
   "execution_count": 31,
   "metadata": {
    "collapsed": false
   },
   "outputs": [],
   "source": [
    "!grep ^\">\" ./databases/CVP.fa > ./databases/DB_Info/CVP/CVP_titles.txt"
   ]
  },
  {
   "cell_type": "code",
   "execution_count": 64,
   "metadata": {
    "collapsed": false
   },
   "outputs": [
    {
     "name": "stdout",
     "output_type": "stream",
     "text": [
      ">NCBI_PEP_371783045 /NCBI_ACCESSION=CCE57270.1 /GI=371783045 /TAXON_ID=10366 /DESCRIPTION=\"e1 protein\" /LENGTH=329\n",
      "\n",
      ">RF_PEP_377830075 /NCBI_ACCESSION=YP_005296290.1 /GI=377830075 /TAXON_ID=930275 /DESCRIPTION=\"unnamed protein product [Cotia virus SPAn232].\" /LENGTH=324\n",
      "\n",
      ">SP_PEP_P19385 /ACCESSION=P19385 /DNA_SOURCE=LYS_BPCP7 /ORGANISM=\"Streptococcus phage CP-7\" /TAXON_ID=10748 /DESCRIPTION=\"Lysozyme (EC 3.2.1.17) (Endolysin) (Muramidase) (CP-7 lysin).\" /LENGTH=342 /ASSEMBLY_STATUS= \n",
      "\n",
      ">>RF_PEP_124484623/ACCESSION=YP_001031226.1/GI=124484623/DNA_SOURCE=NC_008949/ORGANISM=\"Hyposoter fugitivus ichnovirus\"/TAXON_ID=265522/DESCRIPTION=\"innexin Vnx-b7\"/LENGTH=376/KEYWORDS=\"assembly_status:finished, data_type:peptide, taxon_group:Viruses, project:\"\n",
      "\n",
      ">OMNI_PEP_KVP40_0136 /ACCESSION=KVP40_0136 /GI= /DNA_SOURCE=KVP40_0136 /ORGANISM=\"Vibrio phage KVP40\" /TAXON_ID=75320 /DESCRIPTION=\"cytochrome-c oxidase, subunit 2, truncation\" /LENGTH=178 /ASSEMBLY_STATUS= \n",
      "\n",
      ">CAMPEP_0000021618 /definition=\"hypothetical protein\" /assembly_id=\"CAM_ASM_000063\" /sample_id=\"CAM_SMPL_001177\" /taxon_id=181210 /ORGANISM=\"Emiliania huxleyi virus 201\" /DNA_ID=CAMNT_0000000417 /DNA_start=384373 /DNA_end=385101 /DNA_orientation='+'\n",
      "\n"
     ]
    }
   ],
   "source": [
    "cvp=open(\"./databases/DB_Info/CVP/CVP_titles.txt\").readlines()\n",
    "\n",
    "cvp_dict={}\n",
    "\n",
    "headers=[]\n",
    "\n",
    "for line in cvp:\n",
    "    defs={}\n",
    "    annotation=\"\"\n",
    "    info=line.split(\"/\")[1:]\n",
    "    ID=line.split(\"/\")[0]\n",
    "    head=line[1:5]\n",
    "    for i in info: \n",
    "        if \"=\" in i:\n",
    "            defs[i.split(\"=\")[0]]=i.split(\"=\")[1]\n",
    "    if \"DESCRIPTION\" in defs.keys():\n",
    "        annotation=defs[\"DESCRIPTION\"]\n",
    "    elif \"definition\" in defs.keys():\n",
    "        annotation=defs[\"definition\"]\n",
    "    if head not in headers:\n",
    "        headers.append(head)\n",
    "        print(line)\n",
    "    cvp_dict[ID]=annotation\n"
   ]
  },
  {
   "cell_type": "code",
   "execution_count": 2,
   "metadata": {
    "collapsed": false
   },
   "outputs": [],
   "source": [
    "%%bash\n",
    "mkdir ./databases/DB_Info/kegg\n",
    "grep ^\">\" ./databases/kegg.reduced.fasta > ./databases/DB_Info/kegg/kegg.reduced.titles.txt"
   ]
  },
  {
   "cell_type": "code",
   "execution_count": 51,
   "metadata": {
    "collapsed": false
   },
   "outputs": [],
   "source": [
    "import re\n",
    "\n",
    "k_func_dict={}\n",
    "kegg_grp_dict={}\n",
    "kegg_dict={}\n",
    "\n",
    "kegg=open(\"./databases/DB_Info/kegg/kegg.reduced.titles.txt\").readlines()\n",
    "for k in kegg:\n",
    "    k= k.replace(\"\\n\",\"\").replace(\">\",\"\").split(\" \")\n",
    "    name=k[0]\n",
    "    info=\" \".join(k[1:len(k)]).split(\";\")\n",
    "    function=info[0]\n",
    "    \n",
    "    if len(info)>1:\n",
    "        kegginfo=info[1].split(\" \")\n",
    "        if len(kegginfo)>1 and kegginfo[1].startswith(\"K\"):\n",
    "            K_group=kegginfo[1]\n",
    "            kfunc=\" \".join(kegginfo[2:len(kegginfo)])\n",
    "            if K_group not in k_func_dict.keys():\n",
    "                k_func_dict[K_group]=kfunc\n",
    "                kegg_dict[name]=kfunc\n",
    "                kegg_grp_dict[name]=K_group\n",
    "            else:\n",
    "                kegg_dict[name]=function\n",
    "        else:\n",
    "            kegg_dict[name]=function\n",
    "    else:\n",
    "        kegg_dict[name]=function"
   ]
  },
  {
   "cell_type": "code",
   "execution_count": 52,
   "metadata": {
    "collapsed": false
   },
   "outputs": [
    {
     "name": "stdout",
     "output_type": "stream",
     "text": [
      "1291309\n",
      "1291307\n"
     ]
    }
   ],
   "source": [
    "print len(kegg)\n",
    "print (len(kegg_dict.keys()))"
   ]
  },
  {
   "cell_type": "code",
   "execution_count": 34,
   "metadata": {
    "collapsed": false
   },
   "outputs": [
    {
     "name": "stdout",
     "output_type": "stream",
     "text": [
      "1.161.O.vs.aclame.out                         100%   32KB  31.6KB/s   00:00    \n",
      "1.161.O.vs.cogs_2003-2014.out                 100%  271KB 270.7KB/s   00:00    \n",
      "1.161.O.vs.CVP.out                            100%  260KB 259.9KB/s   00:00    \n",
      "1.161.O.vs.kegg.out                           100%  190KB 189.7KB/s   00:00    \n",
      "1.161.O.vs.Pfam.out                           100%  771KB 771.3KB/s   00:00    \n"
     ]
    }
   ],
   "source": [
    "!scp jbrown@eofe4.mit.edu:/nobackup1/jbrown/annotation/blasts/*/1.161.O.* ./"
   ]
  },
  {
   "cell_type": "code",
   "execution_count": 53,
   "metadata": {
    "collapsed": false
   },
   "outputs": [],
   "source": [
    "def get_digits(prodfile):\n",
    "    prod=open(prodfile).readlines()\n",
    "    digits=len(str(len(prod)/2))\n",
    "    return digits\n",
    "\n",
    "\n",
    "def get_locus_tag(line, digits, phage):\n",
    "    query=line.split(\"\\t\")[0].split(\" \")[0]\n",
    "    number=query.split(\"_\")[-1]\n",
    "    z=\"0\"*(digits-len(number))\n",
    "    return \"NVP\"+phage.replace(\".\",\"\")+\"_\"+z+number"
   ]
  },
  {
   "cell_type": "code",
   "execution_count": 60,
   "metadata": {
    "collapsed": false
   },
   "outputs": [
    {
     "name": "stdout",
     "output_type": "stream",
     "text": [
      "dcm\t\n",
      "CRISPR-associated helicase Cas3\t\n",
      "sin\t\n",
      "dihydrofolate reductase (EC:1.5.1.3)\t\n",
      "nrdF\t\n",
      "DNA-methyltransferase\t\n",
      "putative Clp protease, phage associated\t\n",
      "thyA\t\n",
      "ribonucleotide-diphosphate reductase subunit alpha (EC:1.17.4.1)\t\n",
      "rdgC\t\n",
      "prfB\t\n",
      "DnaB domain-containing protein\t\n"
     ]
    }
   ],
   "source": [
    "blast=open(\"1.161.O.vs.kegg.out\").readlines()\n",
    "digits=get_digits(\"1.161.O.gene\")\n",
    "phage=\"1.161.O.\"\n",
    "\n",
    "kegg_blast_dict={}\n",
    "\n",
    "for line in blast:\n",
    "\n",
    "    locus_tag=get_locus_tag(line, digits, phage)\n",
    "    hit=line.split(\"\\t\")[1]\n",
    "    e=line.split(\"\\t\")[-2]\n",
    "    bitscore=line.split(\"\\t\")[-1].replace(\"\\n\",\"\")\n",
    "    kfunc=kegg_dict.get(hit,\"\")\n",
    "    kgroup=kegg_grp_dict.get(hit,\"\")\n",
    "    info=[hit, e, bitscore, kfunc]\n",
    "    if locus_tag not in kegg_blast_dict.keys():\n",
    "        kegg_blast_dict[locus_tag]=info\n",
    "        print(kfunc+\"\\t\"+kgroup)"
   ]
  },
  {
   "cell_type": "code",
   "execution_count": null,
   "metadata": {
    "collapsed": true
   },
   "outputs": [],
   "source": []
  }
 ],
 "metadata": {
  "kernelspec": {
   "display_name": "Python 2",
   "language": "python",
   "name": "python2"
  },
  "language_info": {
   "codemirror_mode": {
    "name": "ipython",
    "version": 2
   },
   "file_extension": ".py",
   "mimetype": "text/x-python",
   "name": "python",
   "nbconvert_exporter": "python",
   "pygments_lexer": "ipython2",
   "version": "2.7.10"
  }
 },
 "nbformat": 4,
 "nbformat_minor": 0
}
