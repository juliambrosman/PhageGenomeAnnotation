{
 "cells": [
  {
   "cell_type": "code",
   "execution_count": 30,
   "metadata": {
    "collapsed": false
   },
   "outputs": [],
   "source": [
    "!mkdir ./databases/DB_Info/CVP/"
   ]
  },
  {
   "cell_type": "code",
   "execution_count": 31,
   "metadata": {
    "collapsed": false
   },
   "outputs": [],
   "source": [
    "!grep ^\">\" ./databases/CVP.fa > ./databases/DB_Info/CVP/CVP_titles.txt"
   ]
  },
  {
   "cell_type": "code",
   "execution_count": 29,
   "metadata": {
    "collapsed": false
   },
   "outputs": [
    {
     "name": "stdout",
     "output_type": "stream",
     "text": [
      "NCBI_PEP_371783045 \n",
      "\"e1 protein\" \n",
      "RF_PEP_377830075 \n",
      "\"unnamed protein product [Cotia virus SPAn232].\" \n",
      "SP_PEP_P19385 \n",
      "\"Lysozyme (EC 3.2.1.17) (Endolysin) (Muramidase) (CP-7 lysin).\" \n",
      "OMNI_PEP_KVP40_0136 \n",
      "\"cytochrome-c oxidase, subunit 2, truncation\" \n",
      "CAMPEP_0000021618 \n",
      "\"hypothetical protein\" \n",
      "['CBI_', 'F_PE', 'P_PE', 'MNI_', 'AMPE']\n"
     ]
    }
   ],
   "source": [
    "cvp=open(\"./databases/DB_Info/CVP/CVP_titles.txt\").readlines()\n",
    "\n",
    "cvp_dict={}\n",
    "\n",
    "headers=[]\n",
    "\n",
    "for line in cvp:\n",
    "    defs={}\n",
    "    annotation=\"\"\n",
    "    info=line.split(\"/\")[1:]\n",
    "    ID=line.split(\"/\")[0]\n",
    "    for i in info: \n",
    "        if \"=\" in i:\n",
    "            defs[i.split(\"=\")[0]]=i.split(\"=\")[1]\n",
    "    if \"DESCRIPTION\" in defs.keys():\n",
    "        annotation=defs[\"DESCRIPTION\"]\n",
    "    elif \"definition\" in defs.keys():\n",
    "        annotation=defs[\"definition\"]\n",
    "    if head not in headers:\n",
    "        headers.append(head)\n",
    "    cvp_dict[ID]=annotation\n"
   ]
  },
  {
   "cell_type": "code",
   "execution_count": 6,
   "metadata": {
    "collapsed": false
   },
   "outputs": [
    {
     "data": {
      "text/plain": [
       "['>NCBI_PEP_371783045 /NCBI_ACCESSION=CCE57270.1 /GI=371783045 /TAXON_ID=10366 /DESCRIPTION=\"e1 protein\" /LENGTH=329\\n',\n",
       " '>NCBI_PEP_371484977 /NCBI_ACCESSION=AEX30832.1 /GI=371484977 /TAXON_ID=31563 /DESCRIPTION=\"structural protein VP7\" /LENGTH=329\\n',\n",
       " '>NCBI_PEP_373447862 /NCBI_ACCESSION=AEY73246.1 /GI=373447862 /TAXON_ID=10245 /DESCRIPTION=\"IL-1-beta-inhibitor\" /LENGTH=326\\n',\n",
       " '>NCBI_PEP_373448818 /NCBI_ACCESSION=AEY74198.1 /GI=373448818 /TAXON_ID=10245 /DESCRIPTION=\"IL-1-beta-inhibitor\" /LENGTH=326\\n',\n",
       " '>NCBI_PEP_373449530 /NCBI_ACCESSION=AEY74907.1 /GI=373449530 /TAXON_ID=10245 /DESCRIPTION=\"IL-1-beta-inhibitor\" /LENGTH=326\\n',\n",
       " '>NCBI_PEP_373448348 /NCBI_ACCESSION=AEY73730.1 /GI=373448348 /TAXON_ID=10245 /DESCRIPTION=\"IL-1-beta-inhibitor\" /LENGTH=326\\n',\n",
       " '>NCBI_PEP_373447386 /NCBI_ACCESSION=AEY72772.1 /GI=373447386 /TAXON_ID=10245 /DESCRIPTION=\"IL-1-beta-inhibitor\" /LENGTH=326\\n',\n",
       " '>NCBI_PEP_373448577 /NCBI_ACCESSION=AEY73958.1 /GI=373448577 /TAXON_ID=10245 /DESCRIPTION=\"IL-1-beta-inhibitor\" /LENGTH=326\\n',\n",
       " '>NCBI_PEP_373449289 /NCBI_ACCESSION=AEY74667.1 /GI=373449289 /TAXON_ID=10245 /DESCRIPTION=\"IL-1-beta-inhibitor\" /LENGTH=326\\n',\n",
       " '>NCBI_PEP_373449771 /NCBI_ACCESSION=AEY75147.1 /GI=373449771 /TAXON_ID=10245 /DESCRIPTION=\"IL-1-beta-inhibitor\" /LENGTH=326\\n',\n",
       " '>NCBI_PEP_373447625 /NCBI_ACCESSION=AEY73010.1 /GI=373447625 /TAXON_ID=10245 /DESCRIPTION=\"IL-1-beta-inhibitor\" /LENGTH=326\\n',\n",
       " '>NCBI_PEP_371574731 /NCBI_ACCESSION=AEX49920.1 /GI=371574731 /TAXON_ID=10937 /DESCRIPTION=\"VP7\" /LENGTH=326\\n',\n",
       " '>NCBI_PEP_371455817 /NCBI_ACCESSION=AEX30701.1 /GI=371455817 /TAXON_ID=10941 /DESCRIPTION=\"VP7\" /LENGTH=326\\n',\n",
       " '>NCBI_PEP_371455807 /NCBI_ACCESSION=AEX30696.1 /GI=371455807 /TAXON_ID=10941 /DESCRIPTION=\"VP7\" /LENGTH=326\\n',\n",
       " '>NCBI_PEP_371455785 /NCBI_ACCESSION=AEX30685.1 /GI=371455785 /TAXON_ID=10941 /DESCRIPTION=\"VP7\" /LENGTH=326\\n',\n",
       " '>NCBI_PEP_371455779 /NCBI_ACCESSION=AEX30682.1 /GI=371455779 /TAXON_ID=10941 /DESCRIPTION=\"VP7\" /LENGTH=326\\n',\n",
       " '>NCBI_PEP_371944372 /NCBI_ACCESSION=AEX62198.1 /GI=371944372 /TAXON_ID=1128135 /DESCRIPTION=\"hypothetical protein\" /LENGTH=325\\n',\n",
       " '>NCBI_PEP_374427705 /NCBI_ACCESSION=AEZ50601.1 /GI=374427705 /TAXON_ID=1131248 /DESCRIPTION=\"LysB\" /LENGTH=325\\n',\n",
       " '>NCBI_PEP_361584274 /NCBI_ACCESSION=AEW11967.1 /GI=361584274 /TAXON_ID=11676 /DESCRIPTION=\"pol protein\" /LENGTH=325\\n',\n",
       " '>RF_PEP_377830075 /NCBI_ACCESSION=YP_005296290.1 /GI=377830075 /TAXON_ID=930275 /DESCRIPTION=\"unnamed protein product [Cotia virus SPAn232].\" /LENGTH=324\\n']"
      ]
     },
     "execution_count": 6,
     "metadata": {},
     "output_type": "execute_result"
    }
   ],
   "source": [
    "for line in cvp:"
   ]
  },
  {
   "cell_type": "code",
   "execution_count": null,
   "metadata": {
    "collapsed": true
   },
   "outputs": [],
   "source": []
  }
 ],
 "metadata": {
  "kernelspec": {
   "display_name": "Python 2",
   "language": "python",
   "name": "python2"
  },
  "language_info": {
   "codemirror_mode": {
    "name": "ipython",
    "version": 2
   },
   "file_extension": ".py",
   "mimetype": "text/x-python",
   "name": "python",
   "nbconvert_exporter": "python",
   "pygments_lexer": "ipython2",
   "version": "2.7.10"
  }
 },
 "nbformat": 4,
 "nbformat_minor": 0
}
