{
 "cells": [
  {
   "cell_type": "code",
   "execution_count": null,
   "metadata": {
    "collapsed": true
   },
   "outputs": [],
   "source": [
    "#annotation database tests:\n",
    "##kegg:\n",
    "assert add_kegg_descript('vfi:VF_2030')==['none', 'exodeoxyribonuclease VIII (EC:3.1.11.-)']\n",
    "assert add_kegg_descript('bme:BMEII0653')==['K01161', 'endonuclease V (EC:3.1.25.1)']\n",
    "assert add_kegg_descript('vfi:VF_2030')==['none', 'exodeoxyribonuclease VIII (EC:3.1.11.-)']\n",
    "assert add_kegg_descript2('ece:Z5100')==['M00542', 'K12786', 'espF; espF; K12786 LEE-encoded effector EspF']\n",
    "assert add_kegg_descript2('bme:BMEII0653')==['none', 'K01161', 'endonuclease V (EC:3.1.25.1)']\n",
    "assert add_kegg_descript2('vfi:VF_2030')==['none', 'none', 'exodeoxyribonuclease VIII (EC:3.1.11.-)']\n",
    "\n",
    "\n",
    "##pfam:\n",
    "\n",
    "assert query_og1_tbl(\"K9EHL4_9CYAN/78-495\",\"pfam1\")==\"PF03237.11\"\n",
    "result1=query_og1_tbl(\"K9EHL4_9CYAN/78-495\",\"pfam1\")\n",
    "assert query_og2_tbl(result1.split(\".\")[0], \"pfam2\")==u'Terminase-like family\\n'\n",
    "assert add_pfam_descript(\"K9EHL4_9CYAN/78-495\")==[u'PF03237', u'Terminase-like family']\n",
    "\n",
    "##cog:\n",
    "\n",
    "assert query_og1_tbl(\"327403407\",\"cog1\")==\"COG0270\"\n",
    "result1=query_og1_tbl(\"327403407\",\"cog1\")\n",
    "assert query_og2_tbl(result1, \"cog2\")==u'Site-specific DNA-cytosine methylase\\n'\n",
    "assert add_cog_descript(\"gi|327403407|ref|YP_004344245.1|\")==[u'COG0270', u'Site-specific DNA-cytosine methylase']\n",
    "\n",
    "#test aclame:\n",
    "\n",
    "assert query_func_tbl(\"protein:proph:166313\",\"aclame\")==(u'site-specific DNA methylase or',)\n",
    "assert add_aclame_descript(\"protein:proph:166313\")==['protein:proph:166313', u'site-specific DNA methylase or']\n",
    "\n",
    "#test cvp:\n",
    "\n",
    "assert query_func_tbl(\"NCBI_PEP_323514089\",\"cvp\")==(u'hypothetical protein ',)\n",
    "assert add_cvp_descript(\"NCBI_PEP_323514089\")==['NCBI_PEP_323514089', u'hypothetical protein ']\n",
    "\n",
    "#test eggnog:\n",
    "assert query_og1_tbl(\"557723.HAPS_2119\",\"egg1\")==u'COG0270'\n",
    "result1=query_og1_tbl(\"557723.HAPS_2119\",\"egg1\")\n",
    "assert query_og2_tbl(result1, \"egg2\")==u'Cytosine-specific methyltransferase'\n",
    "assert add_egg_descript(\"557723.HAPS_2119\")==[u'L', u'COG0270', u'Cytosine-specific methyltransferase']\n",
    "assert query_og3_tbl(\"557723.HAPS_2119\", \"egg1\")==u'L'\n",
    "assert add_egg_descript2(\"557723.HAPS_2119\")==[u'L', u'COG0270', u'Cytosine-specific methyltransferase']\n",
    "\n",
    "#test pog:\n",
    "assert query_og1_tbl(\"350280598\",\"pog\")==u'POG0001'\n",
    "og=query_og1_tbl(\"350280598\",\"pog\")\n",
    "assert query_og2_tbl(og, \"pog\")==u' protein V'\n",
    "assert query_phy_tbl(\"350280598\",\"pog\")==(u'[10860] Inoviridae',u'[10861] Inovirus',u'[10863] Bacteriophage f1 ; Enterobacteria phage f1 ; coliphage f1 ; phage f1\\n')\n",
    "\n",
    "assert add_pog_descript(\"gi|350280598|ref|AEQ25522.1|\")==[u'POG0001', u' protein V']\n",
    "assert add_pog_descript2(\"gi|350280598|ref|AEQ25522.1|\")==[u'POG0001',u' protein V',u' Inoviridae',u' Inovirus',u' Bacteriophage f1 ; Enterobacteria phage f1 ; coliphage f1 ; phage f1\\n']"
   ]
  },
  {
   "cell_type": "code",
   "execution_count": 6,
   "metadata": {
    "collapsed": false
   },
   "outputs": [],
   "source": [
    "#nvp_output tests:\n",
    "import re\n",
    "if re.search(r\"(\\d){1,}\\.\\.(\\d){1,}\",\"84895..85143 + strand 83 aa\"):\n",
    "    search=\"good\"\n",
    "assert search==\"good\"\n",
    "\n",
    "\n",
    "\n",
    "#test phage=\"1.182.O.\"\n",
    "#test id: NVP1182O_32, NVP1182O_20\n",
    "    \n",
    "#blast_dict=load_blast_files(\"1.182.O.\")\n",
    "#find_best_hit2(\"NVP1182O_32\", blast_dict)"
   ]
  },
  {
   "cell_type": "code",
   "execution_count": 15,
   "metadata": {
    "collapsed": false
   },
   "outputs": [],
   "source": [
    "if re.search(r\"none|NA|[\\d]{1,5}\\.\\.[\\d]{1,5}|hypothetical|unknown\",\"84895..85143 + strand 83 aa\"):\n",
    "    search=True\n",
    "assert search==True\n",
    "\n",
    "if re.search(r\"none|NA|[\\d]{1,5}\\.\\.[\\d]{1,5}|hypothetical|unknown\",\"knone\"):\n",
    "    search=True\n",
    "assert search==True\n",
    "\n",
    "if re.search(r\"none|NA|[\\d]{1,5}\\.\\.[\\d]{1,5}|hypothetical|unknown\",\"NA\"):\n",
    "    search=True\n",
    "assert search==True"
   ]
  },
  {
   "cell_type": "code",
   "execution_count": 2,
   "metadata": {
    "collapsed": false
   },
   "outputs": [
    {
     "name": "stdout",
     "output_type": "stream",
     "text": [
      "NA\tNA\tNA\tNA\tNA\tNA\tNA\t\n",
      "NA\tNA\tNA\tNA\tNA\tNA\tNA\t\n",
      "NA\tNA\tNA\tNA\tNA\tNA\tNA\tNA\tNA\t\n"
     ]
    }
   ],
   "source": [
    "og_lens={\"kegg\":7,\"egg\":7,\"pog\":9}\n",
    "#out+=\"NA\\t\"*og_lens[ogs[d]]\n",
    "ogs=[\"kegg\",\"egg\",\"pog\"]\n",
    "\n",
    "for i in range(0, len(ogs)):\n",
    "    d=ogs[i]\n",
    "\n",
    "    print \"NA\\t\"*og_lens[ogs[i]]"
   ]
  },
  {
   "cell_type": "code",
   "execution_count": null,
   "metadata": {
    "collapsed": true
   },
   "outputs": [],
   "source": [
    "function=\"ant protein, range; 1..149 HHsearch against CDD matches; pfam10547;P22_AR_N P22_AR N-te; pfam02498;Bro-N BRO family, N-\"\n",
    "function2=\"SNF2 family helicase, range; 181..738 HHsearch against CDD matches; PLN03142;Probable chromatin-re; pfam00176;SNF2_N SNF2 family N; pfam11496;HDA2-3 Class II hist; PRK13766;Hef nuclease; Provisi; PHA02558;uvsW UvsW helicase; P; TIGR00614;recQ_fam ATP-depende; PRK11057;ATP-dependent DNA hel; PTZ00110;helicase; Provisional; PRK11192;ATP-dependent RNA hel; PRK01297;ATP-dependent RNA hel; TIGR01389;recQ ATP-dependent D; PRK11776;ATP-dependent RNA hel; PRK10590;ATP-dependent RNA hel; PRK04837;ATP-dependent RNA hel; PRK10917;ATP-dependent DNA hel; PRK04537;ATP-dependent RNA hel; PTZ00424;helicase 45; Provisio; PLN00206;DEAD-box ATP-dependen; TIGR03714;secA2 accessory Sec ; cd00079;HELICc Helicase superf; PRK12898;secA preprotein trans; PRK09200;preprotein translocas; TIGR01587;cas3_core CRISPR-ass; TIGR00963;secA preprotein tran; TIGR00348;hsdR type I site-spe; smart00487;DEXDc DEAD-like hel; pfam00270;DEAD DEAD/DEAH box h; cd00046;DEXDc DEAD-like helica; PHA02653;RNA helicase NPH-II; ; PRK05580;primosome assembly pr; TIGR03158;cas3_cyano CRISPR-as; TIGR00595;priA primosomal prot; smart00490;HELICc helicase sup; pfam00271;Helicase_C Helicase ; cd00268;DEADc DEAD-box helicas; pfam04851;ResIII Type III rest; pfam07652;Flavi_DEAD Flaviviru\"\n",
    "function3=\"\"\n",
    "reduce_function_length()"
   ]
  }
 ],
 "metadata": {
  "kernelspec": {
   "display_name": "Python 2",
   "language": "python",
   "name": "python2"
  },
  "language_info": {
   "codemirror_mode": {
    "name": "ipython",
    "version": 2
   },
   "file_extension": ".py",
   "mimetype": "text/x-python",
   "name": "python",
   "nbconvert_exporter": "python",
   "pygments_lexer": "ipython2",
   "version": "2.7.10"
  }
 },
 "nbformat": 4,
 "nbformat_minor": 0
}
