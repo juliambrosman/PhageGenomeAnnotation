{
 "cells": [
  {
   "cell_type": "markdown",
   "metadata": {
    "collapsed": true
   },
   "source": [
    "##Protocol for annotation of Nahant phage genomes\n",
    "\n",
    "No more waiting for other folks to get pipelines up and running... let's figure this out.\n",
    "\n",
    ">UBLAST of prodigal-identified proteins against several sequence databases:\n",
    ">>COG\n",
    "\n",
    ">>PFam\n",
    "\n",
    ">>ACLAME\n",
    "\n",
    ">>Camera Viral Proteins (CVP)\n",
    "\n",
    ">>KEGG\n",
    "\n",
    ">>TARA Oceans Database--TBD\n",
    "\n",
    ">>EggNOG--TBD\n",
    "\n",
    ">UBLAST run via run_ublasts.py script in ./scripts; implemented on server using ./scripts/ublast_runs.slurm"
   ]
  },
  {
   "cell_type": "code",
   "execution_count": 1,
   "metadata": {
    "collapsed": false
   },
   "outputs": [],
   "source": [
    "import subprocess\n",
    "import os\n",
    "\n",
    "def run_prodigal_phage(inputfasta, out_gene, out_prot):\n",
    "    to_run=\"prodigal -i \"+inputfasta+\" -o \"+out_gene+\" -a \"+out_prot+\" -p meta\"\n",
    "    subprocess.call(to_run.split(\" \"))\n",
    "    \n",
    "def run_formatudb(fastafile, databasefile=\"db.udb\", ublast_path=\"/home/sbiller/usearch7.0.1090_i86linux64\"):\n",
    "    to_run=ublast_path+\" -makeudb_ublast \"+fastafile+\" -output \"+databasefile\n",
    "    subprocess.call(to_run.split(\" \"))\n",
    "    \n",
    "def run_ublastp(fastafile, out_file, udb, evalue, ublast_path=\"/home/sbiller/usearch7.0.1090_i86linux64\"):\n",
    "    to_run=ublast_path+\" -ublast \"+fastafile+\" -db \"+udb+\" -evalue \"+evalue+\" -accel 0.5 -blast6out \"+out_file+\" -top_hit_only\"\n",
    "    subprocess.call(to_run.split(\" \"))\n",
    "    \n",
    "def run_trna_scan(input_file, output):\n",
    "    if os.path.exists(output):\n",
    "        os.remove(output)\n",
    "    args=[\"tRNAscan-SE\", \"-o\", output, \"-G\", \"-D\",\"-N\", input_file]\n",
    "    subprocess.call(args)\n",
    "    print(\"tRNA scan of \"+input_file+\" is done!\")\n"
   ]
  },
  {
   "cell_type": "markdown",
   "metadata": {},
   "source": [
    "Below: Creating DB dicts for quick access to blast DB sequence codes, annotations and OGs"
   ]
  },
  {
   "cell_type": "code",
   "execution_count": 49,
   "metadata": {
    "collapsed": false
   },
   "outputs": [],
   "source": [
    "#create DB dicts for BLAST file analysis:\n",
    "\n",
    "#ACLAME:\n",
    "aclame=open(\"./databases/DB_Info/aclame/aclame_proteins_all_0.4.tab\").readlines()\n",
    "aclame_dict={}\n",
    "\n",
    "for line in aclame[2:-1]:\n",
    "    protein=line.split(\"\\t\")[0]\n",
    "    ncbi_ann=line.split(\"\\t\")[2]\n",
    "    aclame_dict[protein]=ncbi_ann\n",
    "\n",
    "##COG needs two dbs:\n",
    "cogs=open(\"./databases/DB_Info/COG/cog2003-2014.csv\").readlines()         #all COG sequences and COG groups\n",
    "cogs2=open(\"./databases/DB_Info/COG/cognames2003-2014.tab\").readlines()   #COG group definitions/functions\n",
    "\n",
    "cog_dict={}\n",
    "cog_defs={}\n",
    "\n",
    "#dict from gi to COG:\n",
    "for line in cogs:\n",
    "    gi=line.split(\",\")[0]\n",
    "    cog=line.split(\",\")[6]\n",
    "    cog_dict[gi]=cog\n",
    "#dict from COG to function definition:\n",
    "for line in cogs2:\n",
    "    cog=line.split(\"\\t\")[0]\n",
    "    func=line.split(\"\\t\")[2]\n",
    "    cog_defs[cog]=func\n",
    "\n",
    "##Pfam needs two DBs as well:\n",
    "pfams=open(\"./databases/DB_Info/PFam/Pfam-A.titles.txt\").readlines()   #ID all pfam sequences in BLAST db\n",
    "pfams2=open(\"./databases/DB_Info/PFam/Pfam-A.clans.tsv\").readlines()   #Matches IDs to \"clans\" with functions\n",
    "pfam_dict={}\n",
    "pfam_defs={}\n",
    "\n",
    "#sequence to pfam:\n",
    "for line in pfams:\n",
    "    seq=line.split(\" \")[0].replace(\">\",\"\")\n",
    "    pfam=line.split(\" \")[2].split(\";\")[0]\n",
    "    pfam_dict[seq]=pfam\n",
    "#pfam to function:\n",
    "for line in pfams2:\n",
    "    pfam=line.split(\"\\t\")[0]\n",
    "    function=line.split(\"\\t\")[4]\n",
    "    pfam_defs[pfam]=function\n",
    "    \n",
    "##CAMERA Viral Proteins annotations are complicated; extracting definitions from sequence titles:\n",
    "cvp=open(\"./databases/DB_Info/CVP/CVP_titles.txt\").readlines()\n",
    "\n",
    "cvp_dict={}\n",
    "\n",
    "headers=[]\n",
    "\n",
    "for line in cvp:\n",
    "    defs={}\n",
    "    line=line.replace(\">\",\"\")\n",
    "    annotation=\"\"\n",
    "    info=line.split(\"/\")[1:]\n",
    "    ID=line.split(\"/\")[0].replace(\" \",\"\")\n",
    "    for i in info: \n",
    "        if \"=\" in i:\n",
    "            defs[i.split(\"=\")[0]]=i.split(\"=\")[1]\n",
    "    if \"DESCRIPTION\" in defs.keys():\n",
    "        annotation=defs[\"DESCRIPTION\"]\n",
    "    elif \"definition\" in defs.keys():\n",
    "        annotation=defs[\"definition\"]\n",
    "    \n",
    "    cvp_dict[ID]=annotation.replace('\"','')\n"
   ]
  },
  {
   "cell_type": "markdown",
   "metadata": {},
   "source": [
    "###Now to dig into the BLAST files:"
   ]
  },
  {
   "cell_type": "code",
   "execution_count": 50,
   "metadata": {
    "collapsed": false
   },
   "outputs": [],
   "source": [
    "#general info\n",
    "\n",
    "#get number of genes in genome to know how many digits to use in locus tag\n",
    "def get_digits(prodfile):\n",
    "    prod=open(prodfile).readlines()\n",
    "    digits=len(str(len(prod)/2))\n",
    "    return digits\n",
    "\n",
    "#create locus tag from protein sequence names:\n",
    "def get_locus_tag(line, digits, phage):\n",
    "    query=line.split(\"\\t\")[0].split(\" \")[0]\n",
    "    number=query.split(\"_\")[-1]\n",
    "    z=\"0\"*(digits-len(number))\n",
    "    return \"NVP\"+phage.replace(\".\",\"\")+\"_\"+z+number"
   ]
  },
  {
   "cell_type": "code",
   "execution_count": 57,
   "metadata": {
    "collapsed": false
   },
   "outputs": [],
   "source": [
    "from pyfaidx import Fasta\n",
    "\n",
    "faa=\"./1.161.O.faa\"\n",
    "phage=\"1.161.O.\"\n",
    "\n",
    "def get_prot_lens(faa_file, gene_file):\n",
    "    len_dict={}\n",
    "    digits=get_digits(gene_file)\n",
    "    #def make_seq_len_dict(faa):\n",
    "    f=Fasta(faa_file)\n",
    "    for i in f.keys():\n",
    "        name=get_locus_tag(i, digits=digits, phage=phage)\n",
    "        length=len(str(f[i]))\n",
    "        len_dict[name]=length\n",
    "    return len_dict\n",
    "\n",
    "#prot_lens=get_prot_lens(faa_file=faa, gene_file=phage+\"gene\")"
   ]
  },
  {
   "cell_type": "code",
   "execution_count": 61,
   "metadata": {
    "collapsed": false
   },
   "outputs": [],
   "source": [
    "from __future__ import division\n",
    "from Bio.KEGG import REST\n",
    "\n",
    "def create_blast_dict(blast, len_dict, phage, digits, db):\n",
    "    blast=open(blast).readlines()\n",
    "\n",
    "    records=[]\n",
    "    blast_dict={}\n",
    "\n",
    "    for line in blast:\n",
    "        name=line.split(\" \")[0]\n",
    "        hit=line.split(\"\\t\")[1]\n",
    "        lt=get_locus_tag(name, digits=digits, phage=phage)\n",
    "        prot_len=len_dict[lt]\n",
    "        aln_len=int(line.split(\"\\t\")[3])\n",
    "        pct_id=float(line.split(\"\\t\")[2])\n",
    "        ev=line.split(\"\\t\")[-2]\n",
    "        pct_cov=(aln_len/prot_len)*100\n",
    "\n",
    "        if pct_id>35 and pct_cov>75 and lt not in records:\n",
    "            \n",
    "            records.append(lt)\n",
    "            blast_dict[lt]=[hit, pct_cov, pct_id, ev]\n",
    "    \n",
    "    if db==\"kegg\":\n",
    "        for k in blast_dict.keys():\n",
    "            desc= REST.kegg_find(\"genes\", blast_dict[k][0]).read()\n",
    "            K=re.search(r\"K[0-9]{5}\", desc)\n",
    "            KEGG=K.group(0)\n",
    "            a=re.search(r\"(?<=K[0-9]{5}).*\", desc)\n",
    "            ann=a.group(0)\n",
    "            blast_dict[k]+=[KEGG, ann]\n",
    "    \n",
    "    if db==\"cog\":\n",
    "        for c in blast_dict.keys():\n",
    "            hit=blast_dict[c][0]\n",
    "            cog=cog_dict[(hit.split(\"|\")[1])]\n",
    "            func=cog_defs[cog].replace(\"\\n\",\"\")\n",
    "            blast_dict[c]+=[cog, func]\n",
    "    \n",
    "    if db==\"pfam\":\n",
    "        for p in blast_dict.keys():\n",
    "            hit=blast_dict[p][0]\n",
    "            pfam=pfam_dict[hit].split(\".\")[0]\n",
    "            function=pfam_defs[pfam].replace(\"\\n\",\"\")\n",
    "            blast_dict[p]+=[pfam, function]\n",
    "            \n",
    "    if db==\"aclame\":\n",
    "        for a in blast_dict.keys():\n",
    "            hit=blast_dict[a][0]\n",
    "            annotation=aclame_dict[hit]\n",
    "            blast_dict[a]+=[hit, annotation]\n",
    "            \n",
    "    if db==\"cvp\":\n",
    "        for v in blast_dict.keys():\n",
    "            hit=blast_dict[v][0]\n",
    "            func=cvp_dict[hit]\n",
    "            blast_dict[v]+=[hit, func]\n",
    "            \n",
    "    \n",
    "    return blast_dict"
   ]
  },
  {
   "cell_type": "code",
   "execution_count": 53,
   "metadata": {
    "collapsed": true
   },
   "outputs": [],
   "source": [
    "def find_best_hit(gene_id, dict_list):\n",
    "    evals=1\n",
    "    annotation=\"\"\n",
    "    best_hit=\"\"\n",
    "    for i in range(0, len(first_look)):\n",
    "        if gene_id in dict_list[i].keys():\n",
    "            hit=dict_list[i][gene_id]\n",
    "            #print hit[1]\n",
    "            if float(hit[3])<evals:\n",
    "                evals=float(hit[3])\n",
    "                best_hit=dict_names[i]\n",
    "                annotation=hit[-1]\n",
    "            #print(dict_names[i]+\"\\t\"+hit[1]+\"\\t\"+hit[-1])    \n",
    "    #print(\"best annotation for\"+gene_id+\" is from \"+best_hit+\" with e-value \"+str(evals)+\" and annotation of \"+annotation)\n",
    "    return [annotation, best_hit]\n",
    "\n",
    "\n",
    "\n",
    "#below: considers hits to more informative databases before less informative databases\n",
    "#dict_list* are lists of blast_dicts and dl*_names are the names of the dicts in the same order\n",
    "\n",
    "def find_best_hit2(gene_id, dict_list1, dl1_names, dict_list2=[], dl2_names=[]):\n",
    "    evals=1\n",
    "    annotation=\"\"\n",
    "    best_hit=\"\"\n",
    "    hits=[]\n",
    "    es=[]\n",
    "    names=[]\n",
    "    for i in range(0, len(dict_list1)):\n",
    "        if gene_id in dict_list1[i].keys():\n",
    "            hit=dict_list1[i][gene_id]\n",
    "            hits.append(hit[-1])\n",
    "            es.append(float(hit[3]))\n",
    "            names.append(dl1_names[i])\n",
    "    if len(hits)>0:\n",
    "        best_annotation=[hits[es.index(min(es))],names[es.index(min(es))]]\n",
    "    else:\n",
    "        for i in range(0, len(dict_list2)):\n",
    "            if gene_id in dict_list2[i].keys():\n",
    "                hit=dict_list2[i][gene_id]\n",
    "                hits.append(hit[-1])\n",
    "                es.append(float(hit[3]))\n",
    "                names.append(dl2_names[i])\n",
    "        if len(hits)>0:\n",
    "            best_annotation=[hits[es.index(min(es))],names[es.index(min(es))]]\n",
    "        else:\n",
    "            best_annotation=[\"\",\"\"]\n",
    "\n",
    "    #print(\"best annotation for\"+gene_id+\" is from \"+best_hit+\" with e-value \"+str(evals)+\" and annotation of \"+annotation)\n",
    "    return best_annotation "
   ]
  },
  {
   "cell_type": "code",
   "execution_count": 68,
   "metadata": {
    "collapsed": false
   },
   "outputs": [],
   "source": [
    "##putting together info for .ggf3 file\n",
    "\n",
    "phages=[\"1.161.O.\"]\n",
    "\n",
    "import re\n",
    "from Bio.KEGG import REST\n",
    "    \n",
    "for phage in phages:\n",
    "    \n",
    "    #prodigal and fasta files:\n",
    "    prod=phage+\"gene\"\n",
    "    faa=phage+\"faa\"\n",
    "    \n",
    "    #blast files:\n",
    "    pfam_blast=phage+\"vs.Pfam.out\"\n",
    "    cog_blast=phage+\"vs.cogs_2003-2014.out\"\n",
    "    aclame_blast=phage+\"vs.aclame.out\"\n",
    "    cvp_blast=phage+\"vs.CVP.out\"\n",
    "    kegg_blast=phage+\"vs.kegg.out\"\n",
    "    \n",
    "    Sequence=open(prod).readlines()[0].split(\";\")[2].split(\"=\")[1].replace('\"','')\n",
    "    \n",
    "    #how many genes are we dealing with?\n",
    "    digits=get_digits(prod)\n",
    "    \n",
    "    #create protein length dictionary\n",
    "    len_dict=get_prot_lens(faa_file=faa, gene_file=prod)\n",
    "    \n",
    "    #kegg blast dict processing: finding KO's by calling kegg's REST API\n",
    "    kegg_blast_dict=create_blast_dict(blast=kegg_blast, len_dict=len_dict, phage=phage, digits=digits, db=\"kegg\")\n",
    "    \n",
    "    #pfam blast dict processing:\n",
    "    pfam_blast_dict=create_blast_dict(blast=pfam_blast, len_dict=len_dict, phage=phage, digits=digits, db=\"pfam\")\n",
    "    \n",
    "    #cog blast dict processing:\n",
    "    cog_blast_dict=create_blast_dict(blast=cog_blast, len_dict=len_dict, phage=phage, digits=digits, db=\"cog\")\n",
    "        \n",
    "    #aclame blast dict processing:\n",
    "    aclame_blast_dict=create_blast_dict(blast=aclame_blast, len_dict=len_dict, phage=phage, digits=digits, db=\"aclame\")\n",
    "        \n",
    "    #cvp blast dict processing:\n",
    "    cvp_blast_dict=create_blast_dict(blast=cvp_blast, len_dict=len_dict, phage=phage, digits=digits, db=\"cvp\")\n",
    "    \n",
    "    #prioritize and name dicts:\n",
    "    first_looks=[kegg_blast_dict, pfam_blast_dict, cog_blast_dict, aclame_blast_dict]\n",
    "    flnames=[\"kegg\",\"pfam\",\"cog\",\"aclame\"]\n",
    "    second_look=[cvp_blast_dict]\n",
    "    slnames=[\"CVP\"]\n",
    "    OGs=[kegg_blast_dict, pfam_blast_dict, cog_blast_dict]\n",
    "    OG_names=[\"KEGG\",\"PFam\",\"COG\"]\n",
    "    annotes=[aclame_blast_dict, cvp_blast_dict]\n",
    "    annotes_names=[\"ACLAME\",\"CAMERA_viral_proteins\"]\n",
    "    \n",
    "    #run through annotations of each prodigal-identified CDS:\n",
    "    prod=open(prod).readlines()\n",
    "    \n",
    "    out=open(phage+\".gff3\",\"w\")\n",
    "    out.write(Sequence+\"\\n\")\n",
    "    \n",
    "    for i in range(2,len(prod)-1,2):\n",
    "        \n",
    "        #extract locus tag:\n",
    "        info=prod[i+1]\n",
    "        number=info.split(\";\")[0].split(\"=\")[2].split(\"_\")[1]\n",
    "        z=\"0\"*(digits-len(number))\n",
    "        t=\"NVP\"+phage.replace(\".\",\"\")+\"_\"+z+number\n",
    "        col9=\"ID=\"+t\n",
    "        \n",
    "        #ID best hit:\n",
    "        best_hits=find_best_hit2(t, dict_list1=first_looks, dl1_names=flnames, dict_list2=second_look, dl2_names=slnames)\n",
    "        \n",
    "        #ID CDS start, stop and orientation:\n",
    "        loc=prod[i]\n",
    "        if len(loc.split())==2:\n",
    "            if \"complement\" in prod[i].split()[1]:\n",
    "                strand=\"-\"\n",
    "                start=loc.split(\"..\")[1].replace(\")\\n\",\"\")\n",
    "                stop=loc.split(\"(\")[1].split(\"..\")[0]\n",
    "            else:\n",
    "                strand=\"+\"\n",
    "                start=loc.split()[1].split(\"..\")[0]\n",
    "                stop=loc.split()[1].split(\"..\")[1].replace(\"\\n\",\"\")\n",
    "        #establish name:\n",
    "        Name=best_hits[0]\n",
    "        if len(Name)==0:\n",
    "            col9+=', Name=hypothetical protein'\n",
    "        else:\n",
    "            col9+=\", Name=\"+Name.replace('\"','')\n",
    "\n",
    "        #Add OG annotations:\n",
    "        for d in range(0, len(OGs)):\n",
    "            db=OGs[d]\n",
    "            if t in db.keys():\n",
    "                col9+=', Ontology_term=\"'+OG_names[d]+\":\"+db[t][-2]+'\"'\n",
    "        \n",
    "        #Add db closest hits to notes\n",
    "        for d in range(0, len(annotes)):\n",
    "            db=annotes[d]\n",
    "            if t in db.keys():\n",
    "                col9+=', note=\"'+annotes_names[d]+\":\"+db[t][-2]+'\"'\n",
    "        #print(col9)\n",
    "        line=Sequence+\"\\t\"+\"prod\"+\"\\t\"+\"CDS\"+\"\\t\"+start+\"\\t\"+stop+\"\\t\"+\".\"+\"\\t\"+strand+\"\\t\"+\"0\"+\"\\t\"+col9+\"\\n\"\n",
    "        \n",
    "        out.write(line)\n",
    "    out.close()"
   ]
  },
  {
   "cell_type": "code",
   "execution_count": null,
   "metadata": {
    "collapsed": false
   },
   "outputs": [],
   "source": []
  },
  {
   "cell_type": "markdown",
   "metadata": {
    "collapsed": false
   },
   "source": [
    "###Adding tRNA-Scan annotations to the gff3 file if phage encodes tRNAs:\n",
    "\n",
    ">>In progress"
   ]
  },
  {
   "cell_type": "code",
   "execution_count": 46,
   "metadata": {
    "collapsed": false
   },
   "outputs": [
    {
     "name": "stdout",
     "output_type": "stream",
     "text": [
      "NVP1012O_tRNA_1\n",
      "16475\t16405\t\n",
      "['Vibriophage_1.012.O._10N.261.48.C12 ', '1', '16475', '16405', 'Tyr', 'TAC', '0', '0', '32.76\\n']\n"
     ]
    }
   ],
   "source": [
    "tRNA=\"/Users/jmb/Desktop/ViralFate/tRNA_info/data/nahant_tRNA_count/1.161.O.trnas.txt\"\n",
    "import os\n",
    "import glob\n",
    "\n",
    "tRNAs=glob.glob(\"/Users/jmb/Desktop/ViralFate/tRNA_info/data/nahant_tRNA_count/*\")\n",
    "\n",
    "tyes=[]\n",
    "\n",
    "for t in tRNAs:\n",
    "    if os.path.getsize(t)>0:\n",
    "        \n",
    "        tyes.append(t)\n",
    "    \n",
    "\n",
    "t=open(tyes[1]).readlines()\n",
    "\n",
    "for line in t[3:]:\n",
    "    l=line.split(\"\\t\")\n",
    "    \n",
    "    locus_tag=\"NVP\"+l[0].split(\"_\")[1].replace(\".\",\"\")+\"_tRNA_\"+l[1]\n",
    "    print locus_tag\n",
    "    start=l[2]\n",
    "    stop=l[3]\n",
    "    aa=l[4]\n",
    "    codon=l[5]\n",
    "\n",
    "    \n",
    "    print(start+\"\\t\"+stop+\"\\t\")\n",
    "    print line.split(\"\\t\")"
   ]
  },
  {
   "cell_type": "code",
   "execution_count": 26,
   "metadata": {
    "collapsed": false
   },
   "outputs": [
    {
     "data": {
      "text/plain": [
       "[]"
      ]
     },
     "execution_count": 26,
     "metadata": {},
     "output_type": "execute_result"
    }
   ],
   "source": [
    "tRNA"
   ]
  },
  {
   "cell_type": "code",
   "execution_count": null,
   "metadata": {
    "collapsed": true
   },
   "outputs": [],
   "source": []
  },
  {
   "cell_type": "code",
   "execution_count": null,
   "metadata": {
    "collapsed": true
   },
   "outputs": [],
   "source": []
  },
  {
   "cell_type": "code",
   "execution_count": null,
   "metadata": {
    "collapsed": true
   },
   "outputs": [],
   "source": []
  },
  {
   "cell_type": "code",
   "execution_count": null,
   "metadata": {
    "collapsed": true
   },
   "outputs": [],
   "source": []
  },
  {
   "cell_type": "code",
   "execution_count": null,
   "metadata": {
    "collapsed": true
   },
   "outputs": [],
   "source": []
  },
  {
   "cell_type": "code",
   "execution_count": null,
   "metadata": {
    "collapsed": false
   },
   "outputs": [],
   "source": []
  },
  {
   "cell_type": "code",
   "execution_count": 48,
   "metadata": {
    "collapsed": true
   },
   "outputs": [],
   "source": []
  },
  {
   "cell_type": "code",
   "execution_count": 23,
   "metadata": {
    "collapsed": false
   },
   "outputs": [],
   "source": []
  },
  {
   "cell_type": "code",
   "execution_count": null,
   "metadata": {
    "collapsed": false
   },
   "outputs": [],
   "source": []
  },
  {
   "cell_type": "code",
   "execution_count": null,
   "metadata": {
    "collapsed": true
   },
   "outputs": [],
   "source": []
  }
 ],
 "metadata": {
  "kernelspec": {
   "display_name": "Python 2",
   "language": "python",
   "name": "python2"
  },
  "language_info": {
   "codemirror_mode": {
    "name": "ipython",
    "version": 2
   },
   "file_extension": ".py",
   "mimetype": "text/x-python",
   "name": "python",
   "nbconvert_exporter": "python",
   "pygments_lexer": "ipython2",
   "version": "2.7.10"
  }
 },
 "nbformat": 4,
 "nbformat_minor": 0
}
