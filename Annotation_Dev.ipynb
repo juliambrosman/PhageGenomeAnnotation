{
 "cells": [
  {
   "cell_type": "markdown",
   "metadata": {
    "collapsed": true
   },
   "source": [
    "##Protocol for annotation of Nahant phage genomes\n",
    "\n",
    "No more waiting for other folks to get pipelines up and running... let's figure this out.\n",
    "\n",
    ">UBLAST of prodigal-identified proteins against several sequence databases:\n",
    ">>COG\n",
    "\n",
    ">>PFam\n",
    "\n",
    ">>ACLAME\n",
    "\n",
    ">>Camera Viral Proteins (CVP)\n",
    "\n",
    ">>KEGG\n",
    "\n",
    ">>TARA Oceans Database\n",
    "\n",
    ">UBLAST run via run_ublasts.py script in ./submissions; implemented on server using ./submissions/ublast_runs.slurm"
   ]
  },
  {
   "cell_type": "code",
   "execution_count": 87,
   "metadata": {
    "collapsed": false
   },
   "outputs": [],
   "source": [
    "#Functions to run annotation-associated programs:\n",
    "\n",
    "import subprocess\n",
    "import os\n",
    "\n",
    "def run_prodigal_phage(inputfasta, out_gene, out_prot):\n",
    "    to_run=\"prodigal -i \"+inputfasta+\" -o \"+out_gene+\" -a \"+out_prot+\" -p meta\"\n",
    "    subprocess.call(to_run.split(\" \"))\n",
    "    \n",
    "def run_formatudb(fastafile, databasefile=\"db.udb\", ublast_path=\"/home/sbiller/usearch7.0.1090_i86linux64\"):\n",
    "    to_run=ublast_path+\" -makeudb_ublast \"+fastafile+\" -output \"+databasefile\n",
    "    subprocess.call(to_run.split(\" \"))\n",
    "    \n",
    "def run_ublastp(fastafile, out_file, udb, evalue, ublast_path=\"/home/sbiller/usearch7.0.1090_i86linux64\"):\n",
    "    to_run=ublast_path+\" -ublast \"+fastafile+\" -db \"+udb+\" -evalue \"+evalue+\" -accel 0.5 -blast6out \"+out_file+\" -top_hit_only\"\n",
    "    subprocess.call(to_run.split(\" \"))\n",
    "    \n",
    "def run_trna_scan(input_file, output):\n",
    "    if os.path.exists(output):\n",
    "        os.remove(output)\n",
    "    args=[\"tRNAscan-SE\", \"-o\", output, \"-G\", \"-D\",\"-N\", input_file]\n",
    "    subprocess.call(args)\n",
    "    print(\"tRNA scan of \"+input_file+\" is done!\")\n",
    "\n",
    "def run_crt(path_to_crt, input_fasta, output):\n",
    "    args=\"java -cp \"+path_to_crt+\" crt -minNR 2 \"+input_fasta+\" \"+output\n",
    "    subprocess.call(args.split(\" \"))"
   ]
  },
  {
   "cell_type": "markdown",
   "metadata": {},
   "source": [
    "##Combining annotation outputs into one .gff3 file"
   ]
  },
  {
   "cell_type": "markdown",
   "metadata": {},
   "source": [
    "Below: Creating DB dicts for quick access to blast DB sequence codes, annotations and OGs"
   ]
  },
  {
   "cell_type": "code",
   "execution_count": 108,
   "metadata": {
    "collapsed": false
   },
   "outputs": [],
   "source": [
    "#create DB dicts for BLAST result processing:\n",
    "\n",
    "#ACLAME:\n",
    "aclame=open(\"./databases/DB_Info/aclame/aclame_proteins_all_0.4.tab\").readlines()\n",
    "aclame_dict={}\n",
    "\n",
    "for line in aclame[2:-1]:\n",
    "    protein=line.split(\"\\t\")[0]\n",
    "    ncbi_ann=line.split(\"\\t\")[2]\n",
    "    aclame_dict[protein]=ncbi_ann\n",
    "\n",
    "##COG needs two dbs:\n",
    "cogs=open(\"./databases/DB_Info/COG/cog2003-2014.csv\").readlines()         #all COG sequences and COG groups\n",
    "cogs2=open(\"./databases/DB_Info/COG/cognames2003-2014.tab\").readlines()   #COG group definitions/functions\n",
    "\n",
    "cog_dict={}\n",
    "cog_defs={}\n",
    "\n",
    "#dict from gi to COG:\n",
    "for line in cogs:\n",
    "    gi=line.split(\",\")[0]\n",
    "    cog=line.split(\",\")[6]\n",
    "    cog_dict[gi]=cog\n",
    "#dict from COG to function definition:\n",
    "for line in cogs2:\n",
    "    cog=line.split(\"\\t\")[0]\n",
    "    func=line.split(\"\\t\")[2]\n",
    "    cog_defs[cog]=func\n",
    "\n",
    "##Pfam needs two DBs as well:\n",
    "pfams=open(\"./databases/DB_Info/PFam/Pfam-A.titles.txt\").readlines()   #ID all pfam sequences in BLAST db\n",
    "pfams2=open(\"./databases/DB_Info/PFam/Pfam-A.clans.tsv\").readlines()   #Matches IDs to \"clans\" with functions\n",
    "pfam_dict={}\n",
    "pfam_defs={}\n",
    "\n",
    "#sequence to pfam:\n",
    "for line in pfams:\n",
    "    seq=line.split(\" \")[0].replace(\">\",\"\")\n",
    "    pfam=line.split(\" \")[2].split(\";\")[0]\n",
    "    pfam_dict[seq]=pfam\n",
    "#pfam to function:\n",
    "for line in pfams2:\n",
    "    pfam=line.split(\"\\t\")[0]\n",
    "    function=line.split(\"\\t\")[4]\n",
    "    pfam_defs[pfam]=function\n",
    "    \n",
    "##CAMERA Viral Proteins annotations are complicated; extracting definitions from sequence titles:\n",
    "cvp=open(\"./databases/DB_Info/CVP/CVP_titles.txt\").readlines()\n",
    "\n",
    "cvp_dict={}\n",
    "\n",
    "headers=[]\n",
    "\n",
    "for line in cvp:\n",
    "    defs={}\n",
    "    line=line.replace(\">\",\"\")\n",
    "    annotation=\"\"\n",
    "    info=line.split(\"/\")[1:]\n",
    "    ID=line.split(\"/\")[0].replace(\" \",\"\")\n",
    "    for i in info: \n",
    "        if \"=\" in i:\n",
    "            defs[i.split(\"=\")[0]]=i.split(\"=\")[1]\n",
    "    if \"DESCRIPTION\" in defs.keys():\n",
    "        annotation=defs[\"DESCRIPTION\"]\n",
    "    elif \"definition\" in defs.keys():\n",
    "        annotation=defs[\"definition\"]\n",
    "    \n",
    "    cvp_dict[ID]=annotation.replace('\"','')\n"
   ]
  },
  {
   "cell_type": "markdown",
   "metadata": {},
   "source": [
    "###Now parse through the BLAST files:"
   ]
  },
  {
   "cell_type": "code",
   "execution_count": null,
   "metadata": {
    "collapsed": true
   },
   "outputs": [],
   "source": [
    "from __future__ import division\n",
    "from Bio.KEGG import REST\n",
    "from pyfaidx import Fasta"
   ]
  },
  {
   "cell_type": "code",
   "execution_count": 140,
   "metadata": {
    "collapsed": false
   },
   "outputs": [],
   "source": [
    "#general info\n",
    "\n",
    "#get number of genes in genome to know how many digits to use in locus tag\n",
    "def get_digits(faa):\n",
    "    faa=open(faa).read()\n",
    "    digits=len(str(faa.count(\">\")))\n",
    "    return digits\n",
    "\n",
    "#create locus tag from protein sequence name in BLAST output file:\n",
    "def get_locus_tag(line, digits, phage):\n",
    "    query=line.split(\"\\t\")[0].split(\" \")[0]\n",
    "    number=query.split(\"_\")[-1]\n",
    "    z=\"0\"*(digits-len(number))\n",
    "    return \"NVP\"+phage.replace(\".\",\"\")+\"_\"+z+number\n",
    "        \n",
    "\n",
    "from pyfaidx import Fasta\n",
    "\n",
    "def get_prot_lens(faa_file, phage):\n",
    "    len_dict={}\n",
    "    digits=get_digits(faa_file)\n",
    "    #def make_seq_len_dict(faa):\n",
    "    f=Fasta(faa_file)\n",
    "    for i in f.keys():\n",
    "        name=get_locus_tag(i, digits=digits, phage=phage)\n",
    "        length=len(str(f[i]))\n",
    "        len_dict[name]=length\n",
    "    return len_dict\n",
    "\n",
    "#set up dict of general info from BLAST:\n",
    "def set_up_blast_dict(blast, prod, faa):\n",
    "    phage=blast.split(\"v\")[0]\n",
    "    digits=get_digits(faa)\n",
    "    len_dict=get_prot_lens(faa, phage)\n",
    "    records=[]\n",
    "    blast_dict={}\n",
    "    \n",
    "    blast=open(blast).readlines()\n",
    "    for line in blast:\n",
    "        name=line.split(\" \")[0]\n",
    "        hit=line.split(\"\\t\")[1]\n",
    "        lt=get_locus_tag(name, digits=digits, phage=phage)\n",
    "        prot_len=len_dict[lt]\n",
    "        aln_len=int(line.split(\"\\t\")[3])\n",
    "        pct_id=float(line.split(\"\\t\")[2])\n",
    "        ev=line.split(\"\\t\")[-2]\n",
    "        pct_cov=(aln_len/prot_len)*100\n",
    "\n",
    "        if pct_id>35 and pct_cov>75 and lt not in records:\n",
    "            records.append(lt)\n",
    "            blast_dict[lt]=[hit, pct_cov, pct_id, ev]\n",
    "    return blast_dict\n",
    "\n",
    "\n",
    "\n",
    "#functions for adding annotations/info to BLAST hit based on BLAST database\n",
    "\n",
    "def add_kegg_descript(hit):\n",
    "    desc= REST.kegg_find(\"genes\", hit).read()\n",
    "    K=re.search(r\"K[0-9]{5}\", desc)\n",
    "    KEGG=K.group(0)\n",
    "    a=re.search(r\"(?<=K[0-9]{5}).*\", desc)\n",
    "    ann=a.group(0)\n",
    "    return [KEGG, ann]\n",
    "\n",
    "def add_cog_descript(hit):\n",
    "    cog=cog_dict[(hit.split(\"|\")[1])]\n",
    "    func=cog_defs[cog].replace(\"\\n\",\"\")\n",
    "    return [cog, func]\n",
    "\n",
    "def add_pfam_descript(hit):\n",
    "    pfam=pfam_dict[hit].split(\".\")[0]\n",
    "    function=pfam_defs[pfam].replace(\"\\n\",\"\")\n",
    "    return [pfam, function]\n",
    "\n",
    "def add_aclame_descript(hit):\n",
    "    annotation=aclame_dict[hit]\n",
    "    return [hit, annotation]\n",
    "\n",
    "def add_cvp_descript(hit):\n",
    "    func=cvp_dict[hit]\n",
    "    return [hit, func]\n",
    "\n",
    "def add_tara_descript(hit):   #right now just adding the closest hit, TARA sequences come with COG/Pfam info etc \n",
    "    return [hit, hit]\n",
    "\n",
    "db_dict={\"kegg\":add_kegg_descript, \"cog\":add_cog_descript, \"pfam\":add_pfam_descript, \"aclame\":add_aclame_descript,\n",
    "        \"cvp\":add_cvp_descript, \"tara\":add_tara_descript}"
   ]
  },
  {
   "cell_type": "code",
   "execution_count": 135,
   "metadata": {
    "collapsed": false
   },
   "outputs": [
    {
     "name": "stdout",
     "output_type": "stream",
     "text": [
      "True\n",
      "True\n",
      "True\n",
      "True\n",
      "True\n",
      "True\n"
     ]
    }
   ],
   "source": [
    "##tests:\n",
    "print add_kegg_descript('mtt:Ftrac_0033')==['K00287',' dihydrofolate reductase [EC:1.5.1.3]']\n",
    "print add_cog_descript('gi|158522899|ref|YP_001530769.1|')==['COG3093','Plasmid maintenance system antidote protein VapI, contains XRE-type HTH domain']\n",
    "print add_pfam_descript('F1D5B4_9CAUD/2-450')==['PF03237','Terminase-like family']\n",
    "print add_aclame_descript('protein:plasmid:126053')==['protein:plasmid:126053','putative transcriptional regulator protein']\n",
    "print add_cvp_descript('NCBI_PEP_323514092')==['NCBI_PEP_323514092','putative large terminase subunit ']\n",
    "print add_tara_descript('OM-RGC.v1.003885702')==['OM-RGC.v1.003885702','OM-RGC.v1.003885702']\n",
    "\n"
   ]
  },
  {
   "cell_type": "code",
   "execution_count": 125,
   "metadata": {
    "collapsed": false
   },
   "outputs": [],
   "source": [
    "#add database specific annotations to BLAST dict\n",
    "def annotated_blast_dict(blast, prod, faa, db):\n",
    "    blast_dict=set_up_blast_dict(blast, prod, faa)\n",
    "    blast_db_function=db_dict[db]\n",
    "    for i in blast_dict.keys():\n",
    "        hit=blast_dict[i][0]\n",
    "        info=blast_db_function(hit)\n",
    "        blast_dict[i]+=info\n",
    "    \n",
    "    return blast_dict"
   ]
  },
  {
   "cell_type": "code",
   "execution_count": 139,
   "metadata": {
    "collapsed": false,
    "scrolled": true
   },
   "outputs": [
    {
     "name": "stdout",
     "output_type": "stream",
     "text": [
      "['F1D4J7_9CAUD/6-302', 99.34640522875817, 51.3, '4e-74', 'PF09615', 'CRISPR-associated protein (Cas_Csy3)']\n",
      "{'NVP1161O_047': ['gi|383753766|ref|YP_005432669.1|', 102.35690235690235, 39.5, '2.2e-49', 'COG1518', 'CRISPR/Cas system-associated endonuclease Cas1'], 'NVP1161O_169': ['gi|387120486|ref|YP_006286369.1|', 101.0600706713781, 40.9, '4.3e-47', 'COG0207', 'Thymidylate synthase'], 'NVP1161O_168': ['gi|313674162|ref|YP_004052158.1|', 81.3953488372093, 35.7, '3.6e-12', 'COG0262', 'Dihydrofolate reductase'], 'NVP1161O_036': ['gi|158522899|ref|YP_001530769.1|', 101.04166666666667, 41.2, '1.1e-10', 'COG3093', 'Plasmid maintenance system antidote protein VapI, contains XRE-type HTH domain'], 'NVP1161O_208': ['gi|427711674|ref|YP_007060298.1|', 76.47058823529412, 37.4, '4.5e-06', 'COG0216', 'Protein chain release factor A']}\n"
     ]
    }
   ],
   "source": [
    "#testing functions\n",
    "blast_dict=set_up_blast_dict(\"1.161.O.vs.Pfam.out\",\"1.161.O.gene\", \"1.161.O.faa\")\n",
    "i=blast_dict.keys()[1]\n",
    "hit=blast_dict[i][0]\n",
    "blast_db_function=db_dict[\"pfam\"]\n",
    "info=blast_db_function(hit)\n",
    "blast_dict[i]+=info\n",
    "print blast_dict[i]\n",
    "\n",
    "print annotated_blast_dict(\"1.161.O.vs.cogs_2003-2014.out\",\"1.161.O.gene\",\"1.161.O.faa\", db=\"cog\")"
   ]
  },
  {
   "cell_type": "code",
   "execution_count": 181,
   "metadata": {
    "collapsed": false
   },
   "outputs": [],
   "source": [
    "#i=prodigal line that begins with a location identifier..\n",
    "#function meant to iterate over the length of a prodigal file every two lines starting at line 3 as such: \n",
    "'''\n",
    "for i in range (2, len(open(prod_file).readlines())-1,2):\n",
    "    get_prod_cds_info(i,...)\n",
    "'''\n",
    "\n",
    "def get_prod_cds_info(i, prod, digits, phage):  \n",
    "    loc=prod[i]\n",
    "    if len(loc.split())==2:\n",
    "        if \"complement\" in prod[i].split()[1]:\n",
    "            strand=\"-\"\n",
    "            start=loc.split(\"..\")[1].replace(\")\\n\",\"\")\n",
    "            stop=loc.split(\"(\")[1].split(\"..\")[0]\n",
    "        else:\n",
    "            strand=\"+\"\n",
    "            start=loc.split()[1].split(\"..\")[0]\n",
    "            stop=loc.split()[1].split(\"..\")[1].replace(\"\\n\",\"\")\n",
    "        start=start.replace(\">\",\"\").replace(\"<\",\"\")\n",
    "        stop=stop.replace(\">\",\"\").replace(\"<\",\"\")\n",
    "    info=prod[i+1]\n",
    "    number=info.split(\";\")[0].split(\"=\")[2].split(\"_\")[1]\n",
    "    z=\"0\"*(digits-len(number))\n",
    "    t=\"NVP\"+phage.replace(\".\",\"\")+\"_\"+z+number\n",
    "    return [t, start, stop, strand]"
   ]
  },
  {
   "cell_type": "code",
   "execution_count": 142,
   "metadata": {
    "collapsed": true
   },
   "outputs": [],
   "source": [
    "def find_best_hit(gene_id, dict_list):\n",
    "    evals=1\n",
    "    annotation=\"\"\n",
    "    best_hit=\"\"\n",
    "    for i in range(0, len(first_look)):\n",
    "        if gene_id in dict_list[i].keys():\n",
    "            hit=dict_list[i][gene_id]\n",
    "            #print hit[1]\n",
    "            if float(hit[3])<evals:\n",
    "                evals=float(hit[3])\n",
    "                best_hit=dict_names[i]\n",
    "                annotation=hit[-1]\n",
    "            #print(dict_names[i]+\"\\t\"+hit[1]+\"\\t\"+hit[-1])    \n",
    "    #print(\"best annotation for\"+gene_id+\" is from \"+best_hit+\" with e-value \"+str(evals)+\" and annotation of \"+annotation)\n",
    "    return [annotation, best_hit]\n",
    "\n",
    "\n",
    "\n",
    "#below: considers hits to more informative databases before less informative databases\n",
    "#dict_list* are lists of blast_dicts and dl*_names are the names of the dicts in the same order\n",
    "\n",
    "def find_best_hit2(gene_id, dict_list1, dl1_names, dict_list2=[], dl2_names=[]):\n",
    "    evals=1\n",
    "    annotation=\"\"\n",
    "    best_hit=\"\"\n",
    "    hits=[]\n",
    "    es=[]\n",
    "    names=[]\n",
    "    for i in range(0, len(dict_list1)):\n",
    "        if gene_id in dict_list1[i].keys():\n",
    "            hit=dict_list1[i][gene_id]\n",
    "            hits.append(hit[-1])\n",
    "            es.append(float(hit[3]))\n",
    "            names.append(dl1_names[i])\n",
    "    if len(hits)>0:\n",
    "        best_annotation=[hits[es.index(min(es))],names[es.index(min(es))]]\n",
    "    else:\n",
    "        for i in range(0, len(dict_list2)):\n",
    "            if gene_id in dict_list2[i].keys():\n",
    "                hit=dict_list2[i][gene_id]\n",
    "                hits.append(hit[-1])\n",
    "                es.append(float(hit[3]))\n",
    "                names.append(dl2_names[i])\n",
    "        if len(hits)>0:\n",
    "            best_annotation=[hits[es.index(min(es))],names[es.index(min(es))]]\n",
    "        else:\n",
    "            best_annotation=[\"\",\"\"]\n",
    "\n",
    "    #print(\"best annotation for\"+gene_id+\" is from \"+best_hit+\" with e-value \"+str(evals)+\" and annotation of \"+annotation)\n",
    "    return best_annotation "
   ]
  },
  {
   "cell_type": "code",
   "execution_count": 143,
   "metadata": {
    "collapsed": true
   },
   "outputs": [],
   "source": [
    "def gff3_header(prod):\n",
    "    Sequence=open(prod).readlines()[0].split(\";\")[2].split(\"=\")[1].replace('\"','')\n",
    "    return Sequence+\"\\n\""
   ]
  },
  {
   "cell_type": "code",
   "execution_count": 176,
   "metadata": {
    "collapsed": false,
    "scrolled": true
   },
   "outputs": [],
   "source": [
    "#merge BLAST results into one gff3\n",
    "    \n",
    "def cds_blast_annotations_to_gff3(phage):\n",
    "    #prodigal and fasta files:\n",
    "    prod=phage+\"gene\"\n",
    "    faa=phage+\"faa\"\n",
    "    \n",
    "    #blast files:\n",
    "    pfam_blast=phage+\"vs.Pfam.out\"\n",
    "    cog_blast=phage+\"vs.cogs_2003-2014.out\"\n",
    "    aclame_blast=phage+\"vs.aclame.out\"\n",
    "    cvp_blast=phage+\"vs.CVP.out\"\n",
    "    kegg_blast=phage+\"vs.kegg.out\"\n",
    "    tara_blast=phage+\"vs.tara.out\"\n",
    "\n",
    "    Sequence=open(prod).readlines()[0].split(\";\")[2].split(\"=\")[1].replace('\"','')\n",
    "    \n",
    "    #set up dicts from all BLASTs\n",
    "    kegg_blast_dict=annotated_blast_dict(blast=kegg_blast, prod=prod, faa=faa, db=\"kegg\")\n",
    "    pfam_blast_dict=annotated_blast_dict(blast=pfam_blast, prod=prod, faa=faa, db=\"pfam\")\n",
    "    cog_blast_dict=annotated_blast_dict(blast=cog_blast, prod=prod, faa=faa, db=\"cog\")\n",
    "    aclame_blast_dict=annotated_blast_dict(blast=aclame_blast, prod=prod, faa=faa, db=\"aclame\")\n",
    "    cvp_blast_dict=annotated_blast_dict(blast=cvp_blast, prod=prod, faa=faa, db=\"cvp\")\n",
    "    tara_blast_dict=annotated_blast_dict(blast=tara_blast, prod=prod, faa=faa, db=\"tara\")\n",
    "\n",
    "    #prioritize and name dicts:\n",
    "    #preferred blast dbs to annotate from if there's a match:\n",
    "    first_looks=[kegg_blast_dict, pfam_blast_dict, cog_blast_dict, aclame_blast_dict]\n",
    "    flnames=[\"kegg\",\"pfam\",\"cog\",\"aclame\"]\n",
    "    #secondary database(s) to annotate from:\n",
    "    second_look=[cvp_blast_dict]\n",
    "    slnames=[\"CVP\"]\n",
    "    #databases with orthologous groups to include in annotation\n",
    "    OGs=[kegg_blast_dict, pfam_blast_dict, cog_blast_dict]\n",
    "    OG_names=[\"KEGG\",\"PFam\",\"COG\"]\n",
    "    #databases where the closest hit will be referenced, but no other info will be provided:\n",
    "    annotes=[aclame_blast_dict, cvp_blast_dict, tara_blast_dict]\n",
    "    annotes_names=[\"ACLAME\",\"CAMERA_viral_proteins\",\"TARA_Oceans_Dataset\"]\n",
    "    \n",
    "    out=\"\"  #set up string to write to\n",
    "    \n",
    "    #run through annotations of each prodigal-identified CDS:\n",
    "    prod=open(prod).readlines()\n",
    "    digits=get_digits(faa)\n",
    "    \n",
    "    #write gff3 lines from prodigal files and blast dicts:\n",
    "    for i in range(2,len(prod)-1,2):\n",
    "\n",
    "        coords=get_prod_cds_info(i, prod, digits, phage)\n",
    "        locus_tag=coords[0]\n",
    "        start=coords[1]\n",
    "        stop=coords[2]\n",
    "        strand=coords[3]\n",
    "        \n",
    "        #set up col9\n",
    "        col9=\"ID=\"+locus_tag\n",
    "        \n",
    "        #ID best hit:\n",
    "        best_hits=find_best_hit2(locus_tag, dict_list1=first_looks, dl1_names=flnames, dict_list2=second_look, dl2_names=slnames)\n",
    "\n",
    "        #establish name:\n",
    "        Name=best_hits[0]\n",
    "        if len(Name)==0:\n",
    "            col9+='; Name=hypothetical protein'\n",
    "        else:\n",
    "            col9+=\"; Name=\"+Name.replace('\"','')\n",
    "\n",
    "        #Add OG annotations:\n",
    "        for d in range(0, len(OGs)):\n",
    "            og_dict=OGs[d]\n",
    "            if locus_tag in og_dict.keys():\n",
    "                col9+='; Ontology_term=\"'+OG_names[d]+\":\"+og_dict[locus_tag][-2]+'\"'\n",
    "\n",
    "        #Add db closest hits to notes\n",
    "        for d in range(0, len(annotes)):\n",
    "            annote_dict=annotes[d]\n",
    "            if locus_tag in annote_dict.keys():\n",
    "                col9+='; note=\"'+annotes_names[d]+\"_best_match:\"+annote_dict[locus_tag][-2]+'\"'\n",
    "        out+=Sequence+\"\\t\"+\"prod\"+\"\\t\"+\"CDS\"+\"\\t\"+start+\"\\t\"+stop+\"\\t\"+\".\"+\"\\t\"+strand+\"\\t\"+\"0\"+\"\\t\"+col9+\"\\n\"\n",
    "\n",
    "    return out"
   ]
  },
  {
   "cell_type": "code",
   "execution_count": 177,
   "metadata": {
    "collapsed": false,
    "scrolled": true
   },
   "outputs": [
    {
     "name": "stdout",
     "output_type": "stream",
     "text": [
      "['Vibriophage_1.161.O._10N.261.48.C5\\tprod\\tCDS\\t<3\\t212\\t.\\t+\\t0\\tID=NVP1161O_001; Name=hypothetical protein', 'Vibriophage_1.161.O._10N.261.48.C5\\tprod\\tCDS\\t388\\t1881\\t.\\t+\\t0\\tID=NVP1161O_002; Name=Terminase-like family; Ontology_term=\"PFam:PF03237\"; note=\"CAMERA_viral_proteins_best_match:NCBI_PEP_323514092\"; note=\"TARA_Oceans_Dataset_best_match:OM-RGC.v1.003885702\"', 'Vibriophage_1.161.O._10N.261.48.C5\\tprod\\tCDS\\t2939\\t1917\\t.\\t-\\t0\\tID=NVP1161O_003; Name=C-5 cytosine-specific DNA methylase; Ontology_term=\"PFam:PF00145\"; note=\"CAMERA_viral_proteins_best_match:NCBI_PEP_535137\"', 'Vibriophage_1.161.O._10N.261.48.C5\\tprod\\tCDS\\t3368\\t2985\\t.\\t-\\t0\\tID=NVP1161O_004; Name=hypothetical protein', 'Vibriophage_1.161.O._10N.261.48.C5\\tprod\\tCDS\\t3787\\t3380\\t.\\t-\\t0\\tID=NVP1161O_005; Name=predicted protein ; note=\"CAMERA_viral_proteins_best_match:CAMPEP_0000011774\"; note=\"TARA_Oceans_Dataset_best_match:OM-RGC.v1.028578108\"', 'Vibriophage_1.161.O._10N.261.48.C5\\tprod\\tCDS\\t4106\\t3735\\t.\\t-\\t0\\tID=NVP1161O_006; Name=predicted protein ; note=\"CAMERA_viral_proteins_best_match:CAMPEP_0000011360\"; note=\"TARA_Oceans_Dataset_best_match:OM-RGC.v1.027951854\"', 'Vibriophage_1.161.O._10N.261.48.C5\\tprod\\tCDS\\t4471\\t4310\\t.\\t-\\t0\\tID=NVP1161O_007; Name=hypothetical protein', 'Vibriophage_1.161.O._10N.261.48.C5\\tprod\\tCDS\\t5228\\t4434\\t.\\t-\\t0\\tID=NVP1161O_008; Name=hypothetical protein', 'Vibriophage_1.161.O._10N.261.48.C5\\tprod\\tCDS\\t5309\\t6850\\t.\\t+\\t0\\tID=NVP1161O_009; Name=predicted protein ; note=\"CAMERA_viral_proteins_best_match:CAMPEP_0000011538\"; note=\"TARA_Oceans_Dataset_best_match:OM-RGC.v1.001563120\"', 'Vibriophage_1.161.O._10N.261.48.C5\\tprod\\tCDS\\t6857\\t7417\\t.\\t+\\t0\\tID=NVP1161O_010; Name=hypothetical protein ; note=\"CAMERA_viral_proteins_best_match:NCBI_PEP_323513857\"']\n"
     ]
    }
   ],
   "source": [
    "#test:\n",
    "out=cds_blast_annotations_to_gff3(\"1.161.O.\")\n",
    "print str(out.split(\"\\n\")[0:10])"
   ]
  },
  {
   "cell_type": "code",
   "execution_count": 85,
   "metadata": {
    "collapsed": false
   },
   "outputs": [],
   "source": [
    "def CRISPR_gff3(input_fasta, crt_output):\n",
    "    crtout=open(crt_output).readlines()\n",
    "\n",
    "    sequence=open(input_fasta).readlines()\n",
    "    name= [i.replace(\">\",\"\") for i in sequence if i.startswith(\">\")][0]\n",
    "    out=\"\"\n",
    "    for line in crtout:\n",
    "        if line.startswith(\"CRISPR\"):\n",
    "            vec=line.split()\n",
    "            number=vec[1]\n",
    "            start=vec[3]\n",
    "            stop=vec[5]\n",
    "            ID=\"NVP\"+name.split(\"_\")[1].replace(\".\",\"\")+\"_CRISPR-like_\"+number\n",
    "            out+=name.replace(\"\\n\",\"\")+\"\\t\"+\"crt\"+\"\\tputative CRISPR feature\\t%s\\t%s\\t.\\t.\\t.\\tID=%s\" % (start, stop, ID)\n",
    "            out+=\", note=CRISPR region\\n\"\n",
    "    return out"
   ]
  },
  {
   "cell_type": "code",
   "execution_count": 88,
   "metadata": {
    "collapsed": false
   },
   "outputs": [],
   "source": [
    "def tRNA_scan_to_gff3(tRNAScanSE_file):\n",
    "    if os.path.getsize(tRNAScanSE_file)>0:\n",
    "        t=open(tRNAScanSE_file).readlines()\n",
    "        tanns=\"\"\n",
    "        for line in t[3:]:\n",
    "            l=line.split(\"\\t\")\n",
    "\n",
    "            locus_tag=\"NVP\"+l[0].split(\"_\")[1].replace(\".\",\"\")+\"_tRNA_\"+l[1]\n",
    "            start=l[2]\n",
    "            stop=l[3]\n",
    "            if start<stop:\n",
    "                strand=\"+\"\n",
    "            else:\n",
    "                strand=\"-\"\n",
    "            aa=l[4]\n",
    "            codon=l[5]\n",
    "            SeqID=l[0]\n",
    "            col9=\"ID=\"+locus_tag+\", aa=\"+aa+\", codon=\"+codon\n",
    "            out=SeqID+\"\\t\"+\"tRNAScanSE\"+\"\\t\"+\"tRNA\"+\"\\t\"+start+\"\\t\"+stop+\"\\t\"+l[-1].replace(\"\\n\",\"\")+\"\\t\"+strand+\"\\t\"+\"0\"+\"\\t\"+col9+\"\\n\"\n",
    "            tanns+=out\n",
    "        return tanns\n",
    "    else:\n",
    "        print \"no tRNAs found in genome\"\n",
    "        return \"\""
   ]
  },
  {
   "cell_type": "code",
   "execution_count": 169,
   "metadata": {
    "collapsed": true
   },
   "outputs": [],
   "source": [
    "#put them all together:\n",
    "\n",
    "def write_gff3_file(phage):\n",
    "    prod=phage+\".gene\"\n",
    "    faa=phage+\".faa\"\n",
    "    genomic_fasta=\"./genomes/%sfinal.fasta\" % phage\n",
    "    \n",
    "    out=open(phage+\"test.gff3\",\"w\")\n",
    "    #out.write(gff3_header(phage+\"gene\"))\n",
    "    out.write(cds_blast_annotations_to_gff3(phage))\n",
    "    \n",
    "    trna=\"../tRNA_info/data/nahant_tRNA_count/%strnas.txt\" % phage \n",
    "    if os.path.getsize(trna)>0:\n",
    "        out.write(tRNA_scan_to_gff3(trna))\n",
    "    \n",
    "    crt_output=phage+\"crt\"\n",
    "    out.write(CRISPR_gff3(genomic_fasta, crt_output))\n",
    "    \n",
    "    \n",
    "    out.close()\n"
   ]
  },
  {
   "cell_type": "code",
   "execution_count": 182,
   "metadata": {
    "collapsed": false
   },
   "outputs": [],
   "source": [
    "write_gff3_file(\"1.161.O.\")"
   ]
  },
  {
   "cell_type": "markdown",
   "metadata": {
    "collapsed": false
   },
   "source": [
    "###The final conversion:"
   ]
  },
  {
   "cell_type": "code",
   "execution_count": 183,
   "metadata": {
    "collapsed": false
   },
   "outputs": [],
   "source": [
    "###from https://www.biostars.org/p/2492/\n",
    "\n",
    "\"\"\"Convert a GFF and associated FASTA file into GenBank format.\n",
    "\n",
    "Usage:\n",
    "gff_to_genbank.py <GFF annotation file> <FASTA sequence file>\n",
    "\"\"\"\n",
    "import sys\n",
    "import os\n",
    "\n",
    "from Bio import SeqIO\n",
    "from Bio.Alphabet import generic_dna\n",
    "from BCBio import GFF\n",
    "\n",
    "def gff_to_gbk(gff_file, fasta_file):\n",
    "    out_file = \"%s.gb\" % os.path.splitext(gff_file)[0]\n",
    "    fasta_input = SeqIO.to_dict(SeqIO.parse(fasta_file, \"fasta\", generic_dna))\n",
    "    gff_iter = GFF.parse(gff_file, fasta_input)\n",
    "    SeqIO.write(gff_iter, out_file, \"genbank\")"
   ]
  },
  {
   "cell_type": "code",
   "execution_count": 184,
   "metadata": {
    "collapsed": false
   },
   "outputs": [
    {
     "ename": "AssertionError",
     "evalue": "['ID', 'NVP1161O_005; Name', 'predicted protein']",
     "output_type": "error",
     "traceback": [
      "\u001b[0;31m---------------------------------------------------------------------------\u001b[0m",
      "\u001b[0;31mAssertionError\u001b[0m                            Traceback (most recent call last)",
      "\u001b[0;32m<ipython-input-184-2a69698fb075>\u001b[0m in \u001b[0;36m<module>\u001b[0;34m()\u001b[0m\n\u001b[0;32m----> 1\u001b[0;31m \u001b[0mgff_to_gbk\u001b[0m\u001b[0;34m(\u001b[0m\u001b[0;34m\"1.161.O.test.gff3\"\u001b[0m\u001b[0;34m,\u001b[0m\u001b[0;34m\"./genomes/1.161.O.final.fasta\"\u001b[0m\u001b[0;34m)\u001b[0m\u001b[0;34m\u001b[0m\u001b[0m\n\u001b[0m",
      "\u001b[0;32m<ipython-input-183-39b31751a188>\u001b[0m in \u001b[0;36mgff_to_gbk\u001b[0;34m(gff_file, fasta_file)\u001b[0m\n\u001b[1;32m     17\u001b[0m     \u001b[0mfasta_input\u001b[0m \u001b[0;34m=\u001b[0m \u001b[0mSeqIO\u001b[0m\u001b[0;34m.\u001b[0m\u001b[0mto_dict\u001b[0m\u001b[0;34m(\u001b[0m\u001b[0mSeqIO\u001b[0m\u001b[0;34m.\u001b[0m\u001b[0mparse\u001b[0m\u001b[0;34m(\u001b[0m\u001b[0mfasta_file\u001b[0m\u001b[0;34m,\u001b[0m \u001b[0;34m\"fasta\"\u001b[0m\u001b[0;34m,\u001b[0m \u001b[0mgeneric_dna\u001b[0m\u001b[0;34m)\u001b[0m\u001b[0;34m)\u001b[0m\u001b[0;34m\u001b[0m\u001b[0m\n\u001b[1;32m     18\u001b[0m     \u001b[0mgff_iter\u001b[0m \u001b[0;34m=\u001b[0m \u001b[0mGFF\u001b[0m\u001b[0;34m.\u001b[0m\u001b[0mparse\u001b[0m\u001b[0;34m(\u001b[0m\u001b[0mgff_file\u001b[0m\u001b[0;34m,\u001b[0m \u001b[0mfasta_input\u001b[0m\u001b[0;34m)\u001b[0m\u001b[0;34m\u001b[0m\u001b[0m\n\u001b[0;32m---> 19\u001b[0;31m     \u001b[0mSeqIO\u001b[0m\u001b[0;34m.\u001b[0m\u001b[0mwrite\u001b[0m\u001b[0;34m(\u001b[0m\u001b[0mgff_iter\u001b[0m\u001b[0;34m,\u001b[0m \u001b[0mout_file\u001b[0m\u001b[0;34m,\u001b[0m \u001b[0;34m\"genbank\"\u001b[0m\u001b[0;34m)\u001b[0m\u001b[0;34m\u001b[0m\u001b[0m\n\u001b[0m",
      "\u001b[0;32m/Users/jmb/anaconda/lib/python2.7/site-packages/biopython-1.65-py2.7-macosx-10.5-x86_64.egg/Bio/SeqIO/__init__.pyc\u001b[0m in \u001b[0;36mwrite\u001b[0;34m(sequences, handle, format)\u001b[0m\n\u001b[1;32m    470\u001b[0m         \u001b[0;32mif\u001b[0m \u001b[0mformat\u001b[0m \u001b[0;32min\u001b[0m \u001b[0m_FormatToWriter\u001b[0m\u001b[0;34m:\u001b[0m\u001b[0;34m\u001b[0m\u001b[0m\n\u001b[1;32m    471\u001b[0m             \u001b[0mwriter_class\u001b[0m \u001b[0;34m=\u001b[0m \u001b[0m_FormatToWriter\u001b[0m\u001b[0;34m[\u001b[0m\u001b[0mformat\u001b[0m\u001b[0;34m]\u001b[0m\u001b[0;34m\u001b[0m\u001b[0m\n\u001b[0;32m--> 472\u001b[0;31m             \u001b[0mcount\u001b[0m \u001b[0;34m=\u001b[0m \u001b[0mwriter_class\u001b[0m\u001b[0;34m(\u001b[0m\u001b[0mfp\u001b[0m\u001b[0;34m)\u001b[0m\u001b[0;34m.\u001b[0m\u001b[0mwrite_file\u001b[0m\u001b[0;34m(\u001b[0m\u001b[0msequences\u001b[0m\u001b[0;34m)\u001b[0m\u001b[0;34m\u001b[0m\u001b[0m\n\u001b[0m\u001b[1;32m    473\u001b[0m         \u001b[0;32melif\u001b[0m \u001b[0mformat\u001b[0m \u001b[0;32min\u001b[0m \u001b[0mAlignIO\u001b[0m\u001b[0;34m.\u001b[0m\u001b[0m_FormatToWriter\u001b[0m\u001b[0;34m:\u001b[0m\u001b[0;34m\u001b[0m\u001b[0m\n\u001b[1;32m    474\u001b[0m             \u001b[0;31m# Try and turn all the records into a single alignment,\u001b[0m\u001b[0;34m\u001b[0m\u001b[0;34m\u001b[0m\u001b[0m\n",
      "\u001b[0;32m/Users/jmb/anaconda/lib/python2.7/site-packages/biopython-1.65-py2.7-macosx-10.5-x86_64.egg/Bio/SeqIO/Interfaces.pyc\u001b[0m in \u001b[0;36mwrite_file\u001b[0;34m(self, records)\u001b[0m\n\u001b[1;32m    209\u001b[0m         \"\"\"\n\u001b[1;32m    210\u001b[0m         \u001b[0mself\u001b[0m\u001b[0;34m.\u001b[0m\u001b[0mwrite_header\u001b[0m\u001b[0;34m(\u001b[0m\u001b[0;34m)\u001b[0m\u001b[0;34m\u001b[0m\u001b[0m\n\u001b[0;32m--> 211\u001b[0;31m         \u001b[0mcount\u001b[0m \u001b[0;34m=\u001b[0m \u001b[0mself\u001b[0m\u001b[0;34m.\u001b[0m\u001b[0mwrite_records\u001b[0m\u001b[0;34m(\u001b[0m\u001b[0mrecords\u001b[0m\u001b[0;34m)\u001b[0m\u001b[0;34m\u001b[0m\u001b[0m\n\u001b[0m\u001b[1;32m    212\u001b[0m         \u001b[0mself\u001b[0m\u001b[0;34m.\u001b[0m\u001b[0mwrite_footer\u001b[0m\u001b[0;34m(\u001b[0m\u001b[0;34m)\u001b[0m\u001b[0;34m\u001b[0m\u001b[0m\n\u001b[1;32m    213\u001b[0m         \u001b[0;32mreturn\u001b[0m \u001b[0mcount\u001b[0m\u001b[0;34m\u001b[0m\u001b[0m\n",
      "\u001b[0;32m/Users/jmb/anaconda/lib/python2.7/site-packages/biopython-1.65-py2.7-macosx-10.5-x86_64.egg/Bio/SeqIO/Interfaces.pyc\u001b[0m in \u001b[0;36mwrite_records\u001b[0;34m(self, records)\u001b[0m\n\u001b[1;32m    193\u001b[0m         \u001b[0;32massert\u001b[0m \u001b[0;32mnot\u001b[0m \u001b[0mself\u001b[0m\u001b[0;34m.\u001b[0m\u001b[0m_footer_written\u001b[0m\u001b[0;34m,\u001b[0m \u001b[0;34m\"You have already called write_footer()\"\u001b[0m\u001b[0;34m\u001b[0m\u001b[0m\n\u001b[1;32m    194\u001b[0m         \u001b[0mcount\u001b[0m \u001b[0;34m=\u001b[0m \u001b[0;36m0\u001b[0m\u001b[0;34m\u001b[0m\u001b[0m\n\u001b[0;32m--> 195\u001b[0;31m         \u001b[0;32mfor\u001b[0m \u001b[0mrecord\u001b[0m \u001b[0;32min\u001b[0m \u001b[0mrecords\u001b[0m\u001b[0;34m:\u001b[0m\u001b[0;34m\u001b[0m\u001b[0m\n\u001b[0m\u001b[1;32m    196\u001b[0m             \u001b[0mself\u001b[0m\u001b[0;34m.\u001b[0m\u001b[0mwrite_record\u001b[0m\u001b[0;34m(\u001b[0m\u001b[0mrecord\u001b[0m\u001b[0;34m)\u001b[0m\u001b[0;34m\u001b[0m\u001b[0m\n\u001b[1;32m    197\u001b[0m             \u001b[0mcount\u001b[0m \u001b[0;34m+=\u001b[0m \u001b[0;36m1\u001b[0m\u001b[0;34m\u001b[0m\u001b[0m\n",
      "\u001b[0;32m/Users/jmb/anaconda/lib/python2.7/site-packages/BCBio/GFF/GFFParser.pyc\u001b[0m in \u001b[0;36mparse\u001b[0;34m(gff_files, base_dict, limit_info, target_lines)\u001b[0m\n\u001b[1;32m    735\u001b[0m     \u001b[0mparser\u001b[0m \u001b[0;34m=\u001b[0m \u001b[0mGFFParser\u001b[0m\u001b[0;34m(\u001b[0m\u001b[0;34m)\u001b[0m\u001b[0;34m\u001b[0m\u001b[0m\n\u001b[1;32m    736\u001b[0m     for rec in parser.parse_in_parts(gff_files, base_dict, limit_info,\n\u001b[0;32m--> 737\u001b[0;31m             target_lines):\n\u001b[0m\u001b[1;32m    738\u001b[0m         \u001b[0;32myield\u001b[0m \u001b[0mrec\u001b[0m\u001b[0;34m\u001b[0m\u001b[0m\n\u001b[1;32m    739\u001b[0m \u001b[0;34m\u001b[0m\u001b[0m\n",
      "\u001b[0;32m/Users/jmb/anaconda/lib/python2.7/site-packages/BCBio/GFF/GFFParser.pyc\u001b[0m in \u001b[0;36mparse_in_parts\u001b[0;34m(self, gff_files, base_dict, limit_info, target_lines)\u001b[0m\n\u001b[1;32m    320\u001b[0m         \u001b[0mmemory\u001b[0m\u001b[0;34m.\u001b[0m\u001b[0;34m\u001b[0m\u001b[0m\n\u001b[1;32m    321\u001b[0m         \"\"\"\n\u001b[0;32m--> 322\u001b[0;31m         \u001b[0;32mfor\u001b[0m \u001b[0mresults\u001b[0m \u001b[0;32min\u001b[0m \u001b[0mself\u001b[0m\u001b[0;34m.\u001b[0m\u001b[0mparse_simple\u001b[0m\u001b[0;34m(\u001b[0m\u001b[0mgff_files\u001b[0m\u001b[0;34m,\u001b[0m \u001b[0mlimit_info\u001b[0m\u001b[0;34m,\u001b[0m \u001b[0mtarget_lines\u001b[0m\u001b[0;34m)\u001b[0m\u001b[0;34m:\u001b[0m\u001b[0;34m\u001b[0m\u001b[0m\n\u001b[0m\u001b[1;32m    323\u001b[0m             \u001b[0;32mif\u001b[0m \u001b[0mbase_dict\u001b[0m \u001b[0;32mis\u001b[0m \u001b[0mNone\u001b[0m\u001b[0;34m:\u001b[0m\u001b[0;34m\u001b[0m\u001b[0m\n\u001b[1;32m    324\u001b[0m                 \u001b[0mcur_dict\u001b[0m \u001b[0;34m=\u001b[0m \u001b[0mdict\u001b[0m\u001b[0;34m(\u001b[0m\u001b[0;34m)\u001b[0m\u001b[0;34m\u001b[0m\u001b[0m\n",
      "\u001b[0;32m/Users/jmb/anaconda/lib/python2.7/site-packages/BCBio/GFF/GFFParser.pyc\u001b[0m in \u001b[0;36mparse_simple\u001b[0;34m(self, gff_files, limit_info, target_lines)\u001b[0m\n\u001b[1;32m    341\u001b[0m             \u001b[0mgff_files\u001b[0m \u001b[0;34m=\u001b[0m \u001b[0;34m[\u001b[0m\u001b[0mgff_files\u001b[0m\u001b[0;34m]\u001b[0m\u001b[0;34m\u001b[0m\u001b[0m\n\u001b[1;32m    342\u001b[0m         \u001b[0mlimit_info\u001b[0m \u001b[0;34m=\u001b[0m \u001b[0mself\u001b[0m\u001b[0;34m.\u001b[0m\u001b[0m_normalize_limit_info\u001b[0m\u001b[0;34m(\u001b[0m\u001b[0mlimit_info\u001b[0m\u001b[0;34m)\u001b[0m\u001b[0;34m\u001b[0m\u001b[0m\n\u001b[0;32m--> 343\u001b[0;31m         \u001b[0;32mfor\u001b[0m \u001b[0mresults\u001b[0m \u001b[0;32min\u001b[0m \u001b[0mself\u001b[0m\u001b[0;34m.\u001b[0m\u001b[0m_gff_process\u001b[0m\u001b[0;34m(\u001b[0m\u001b[0mgff_files\u001b[0m\u001b[0;34m,\u001b[0m \u001b[0mlimit_info\u001b[0m\u001b[0;34m,\u001b[0m \u001b[0mtarget_lines\u001b[0m\u001b[0;34m)\u001b[0m\u001b[0;34m:\u001b[0m\u001b[0;34m\u001b[0m\u001b[0m\n\u001b[0m\u001b[1;32m    344\u001b[0m             \u001b[0;32myield\u001b[0m \u001b[0mresults\u001b[0m\u001b[0;34m\u001b[0m\u001b[0m\n\u001b[1;32m    345\u001b[0m \u001b[0;34m\u001b[0m\u001b[0m\n",
      "\u001b[0;32m/Users/jmb/anaconda/lib/python2.7/site-packages/BCBio/GFF/GFFParser.pyc\u001b[0m in \u001b[0;36m_gff_process\u001b[0;34m(self, gff_files, limit_info, target_lines)\u001b[0m\n\u001b[1;32m    630\u001b[0m         \"\"\"\n\u001b[1;32m    631\u001b[0m         \u001b[0mline_gen\u001b[0m \u001b[0;34m=\u001b[0m \u001b[0mself\u001b[0m\u001b[0;34m.\u001b[0m\u001b[0m_file_line_generator\u001b[0m\u001b[0;34m(\u001b[0m\u001b[0mgff_files\u001b[0m\u001b[0;34m)\u001b[0m\u001b[0;34m\u001b[0m\u001b[0m\n\u001b[0;32m--> 632\u001b[0;31m         \u001b[0;32mfor\u001b[0m \u001b[0mout\u001b[0m \u001b[0;32min\u001b[0m \u001b[0mself\u001b[0m\u001b[0;34m.\u001b[0m\u001b[0m_lines_to_out_info\u001b[0m\u001b[0;34m(\u001b[0m\u001b[0mline_gen\u001b[0m\u001b[0;34m,\u001b[0m \u001b[0mlimit_info\u001b[0m\u001b[0;34m,\u001b[0m \u001b[0mtarget_lines\u001b[0m\u001b[0;34m)\u001b[0m\u001b[0;34m:\u001b[0m\u001b[0;34m\u001b[0m\u001b[0m\n\u001b[0m\u001b[1;32m    633\u001b[0m             \u001b[0;32myield\u001b[0m \u001b[0mout\u001b[0m\u001b[0;34m\u001b[0m\u001b[0m\n\u001b[1;32m    634\u001b[0m \u001b[0;34m\u001b[0m\u001b[0m\n",
      "\u001b[0;32m/Users/jmb/anaconda/lib/python2.7/site-packages/BCBio/GFF/GFFParser.pyc\u001b[0m in \u001b[0;36m_lines_to_out_info\u001b[0;34m(self, line_iter, limit_info, target_lines)\u001b[0m\n\u001b[1;32m    660\u001b[0m         \u001b[0mfound_seqs\u001b[0m \u001b[0;34m=\u001b[0m \u001b[0mFalse\u001b[0m\u001b[0;34m\u001b[0m\u001b[0m\n\u001b[1;32m    661\u001b[0m         \u001b[0;32mfor\u001b[0m \u001b[0mline\u001b[0m \u001b[0;32min\u001b[0m \u001b[0mline_iter\u001b[0m\u001b[0;34m:\u001b[0m\u001b[0;34m\u001b[0m\u001b[0m\n\u001b[0;32m--> 662\u001b[0;31m             \u001b[0mresults\u001b[0m \u001b[0;34m=\u001b[0m \u001b[0mself\u001b[0m\u001b[0;34m.\u001b[0m\u001b[0m_map_fn\u001b[0m\u001b[0;34m(\u001b[0m\u001b[0mline\u001b[0m\u001b[0;34m,\u001b[0m \u001b[0mparams\u001b[0m\u001b[0;34m)\u001b[0m\u001b[0;34m\u001b[0m\u001b[0m\n\u001b[0m\u001b[1;32m    663\u001b[0m             \u001b[0;32mif\u001b[0m \u001b[0mself\u001b[0m\u001b[0;34m.\u001b[0m\u001b[0m_line_adjust_fn\u001b[0m \u001b[0;32mand\u001b[0m \u001b[0mresults\u001b[0m\u001b[0;34m:\u001b[0m\u001b[0;34m\u001b[0m\u001b[0m\n\u001b[1;32m    664\u001b[0m                 \u001b[0;32mif\u001b[0m \u001b[0mresults\u001b[0m\u001b[0;34m[\u001b[0m\u001b[0;36m0\u001b[0m\u001b[0;34m]\u001b[0m\u001b[0;34m[\u001b[0m\u001b[0;36m0\u001b[0m\u001b[0;34m]\u001b[0m \u001b[0;32mnot\u001b[0m \u001b[0;32min\u001b[0m \u001b[0;34m[\u001b[0m\u001b[0;34m'directive'\u001b[0m\u001b[0;34m]\u001b[0m\u001b[0;34m:\u001b[0m\u001b[0;34m\u001b[0m\u001b[0m\n",
      "\u001b[0;32m/Users/jmb/anaconda/lib/python2.7/site-packages/BCBio/GFF/GFFParser.pyc\u001b[0m in \u001b[0;36m_gff_line_map\u001b[0;34m(line, params)\u001b[0m\n\u001b[1;32m    187\u001b[0m             \u001b[0;31m# collect all of the base qualifiers for this item\u001b[0m\u001b[0;34m\u001b[0m\u001b[0;34m\u001b[0m\u001b[0m\n\u001b[1;32m    188\u001b[0m             \u001b[0;32mif\u001b[0m \u001b[0mlen\u001b[0m\u001b[0;34m(\u001b[0m\u001b[0mparts\u001b[0m\u001b[0;34m)\u001b[0m \u001b[0;34m>\u001b[0m \u001b[0;36m8\u001b[0m\u001b[0;34m:\u001b[0m\u001b[0;34m\u001b[0m\u001b[0m\n\u001b[0;32m--> 189\u001b[0;31m                 \u001b[0mquals\u001b[0m\u001b[0;34m,\u001b[0m \u001b[0mis_gff2\u001b[0m \u001b[0;34m=\u001b[0m \u001b[0m_split_keyvals\u001b[0m\u001b[0;34m(\u001b[0m\u001b[0mgff_parts\u001b[0m\u001b[0;34m[\u001b[0m\u001b[0;36m8\u001b[0m\u001b[0;34m]\u001b[0m\u001b[0;34m)\u001b[0m\u001b[0;34m\u001b[0m\u001b[0m\n\u001b[0m\u001b[1;32m    190\u001b[0m             \u001b[0;32melse\u001b[0m\u001b[0;34m:\u001b[0m\u001b[0;34m\u001b[0m\u001b[0m\n\u001b[1;32m    191\u001b[0m                 \u001b[0mquals\u001b[0m\u001b[0;34m,\u001b[0m \u001b[0mis_gff2\u001b[0m \u001b[0;34m=\u001b[0m \u001b[0mcollections\u001b[0m\u001b[0;34m.\u001b[0m\u001b[0mdefaultdict\u001b[0m\u001b[0;34m(\u001b[0m\u001b[0mlist\u001b[0m\u001b[0;34m)\u001b[0m\u001b[0;34m,\u001b[0m \u001b[0mFalse\u001b[0m\u001b[0;34m\u001b[0m\u001b[0m\n",
      "\u001b[0;32m/Users/jmb/anaconda/lib/python2.7/site-packages/BCBio/GFF/GFFParser.pyc\u001b[0m in \u001b[0;36m_split_keyvals\u001b[0;34m(keyval_str)\u001b[0m\n\u001b[1;32m    106\u001b[0m             \u001b[0;31m# which will be changed to true later to standardize.\u001b[0m\u001b[0;34m\u001b[0m\u001b[0;34m\u001b[0m\u001b[0m\n\u001b[1;32m    107\u001b[0m             \u001b[0;32melse\u001b[0m\u001b[0;34m:\u001b[0m\u001b[0;34m\u001b[0m\u001b[0m\n\u001b[0;32m--> 108\u001b[0;31m                 \u001b[0;32massert\u001b[0m \u001b[0mlen\u001b[0m\u001b[0;34m(\u001b[0m\u001b[0mitem\u001b[0m\u001b[0;34m)\u001b[0m \u001b[0;34m==\u001b[0m \u001b[0;36m1\u001b[0m\u001b[0;34m,\u001b[0m \u001b[0mitem\u001b[0m\u001b[0;34m\u001b[0m\u001b[0m\n\u001b[0m\u001b[1;32m    109\u001b[0m                 \u001b[0mkey\u001b[0m \u001b[0;34m=\u001b[0m \u001b[0mitem\u001b[0m\u001b[0;34m[\u001b[0m\u001b[0;36m0\u001b[0m\u001b[0;34m]\u001b[0m\u001b[0;34m\u001b[0m\u001b[0m\n\u001b[1;32m    110\u001b[0m                 \u001b[0mval\u001b[0m \u001b[0;34m=\u001b[0m \u001b[0;34m''\u001b[0m\u001b[0;34m\u001b[0m\u001b[0m\n",
      "\u001b[0;31mAssertionError\u001b[0m: ['ID', 'NVP1161O_005; Name', 'predicted protein']"
     ]
    }
   ],
   "source": [
    "gff_to_gbk(\"1.161.O.test.gff3\",\"./genomes/1.161.O.final.fasta\")"
   ]
  },
  {
   "cell_type": "code",
   "execution_count": null,
   "metadata": {
    "collapsed": true
   },
   "outputs": [],
   "source": []
  },
  {
   "cell_type": "code",
   "execution_count": null,
   "metadata": {
    "collapsed": true
   },
   "outputs": [],
   "source": []
  },
  {
   "cell_type": "code",
   "execution_count": null,
   "metadata": {
    "collapsed": true
   },
   "outputs": [],
   "source": []
  },
  {
   "cell_type": "code",
   "execution_count": null,
   "metadata": {
    "collapsed": true
   },
   "outputs": [],
   "source": []
  },
  {
   "cell_type": "code",
   "execution_count": null,
   "metadata": {
    "collapsed": false
   },
   "outputs": [],
   "source": []
  },
  {
   "cell_type": "code",
   "execution_count": 48,
   "metadata": {
    "collapsed": true
   },
   "outputs": [],
   "source": []
  },
  {
   "cell_type": "code",
   "execution_count": 23,
   "metadata": {
    "collapsed": false
   },
   "outputs": [],
   "source": []
  },
  {
   "cell_type": "code",
   "execution_count": null,
   "metadata": {
    "collapsed": false
   },
   "outputs": [],
   "source": []
  },
  {
   "cell_type": "code",
   "execution_count": null,
   "metadata": {
    "collapsed": true
   },
   "outputs": [],
   "source": []
  }
 ],
 "metadata": {
  "kernelspec": {
   "display_name": "Python 2",
   "language": "python",
   "name": "python2"
  },
  "language_info": {
   "codemirror_mode": {
    "name": "ipython",
    "version": 2
   },
   "file_extension": ".py",
   "mimetype": "text/x-python",
   "name": "python",
   "nbconvert_exporter": "python",
   "pygments_lexer": "ipython2",
   "version": "2.7.10"
  }
 },
 "nbformat": 4,
 "nbformat_minor": 0
}
