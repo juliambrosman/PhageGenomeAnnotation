{
 "cells": [
  {
   "cell_type": "code",
   "execution_count": 2,
   "metadata": {
    "collapsed": true
   },
   "outputs": [],
   "source": [
    "from tables import *\n",
    "import numpy"
   ]
  },
  {
   "cell_type": "code",
   "execution_count": 22,
   "metadata": {
    "collapsed": false
   },
   "outputs": [],
   "source": [
    "class tara_entry(IsDescription):\n",
    "    ID=StringCol(20)\n",
    "    gene_id=StringCol(20)\n",
    "    eggNOG_OG=StringCol(20)\n",
    "    KEGG_ko=StringCol(6)\n",
    "    KEGG_module=StringCol(30)\n",
    "    kingdom=StringCol(30)\n",
    "    phylum=StringCol(30)\n",
    "    phyclass=StringCol(30)\n",
    "    order=StringCol(30)\n",
    "    family=StringCol(30)\n",
    "    genus=StringCol(30)\n",
    "    species=StringCol(30)\n",
    "    sequence=StringCol(30)"
   ]
  },
  {
   "cell_type": "code",
   "execution_count": 30,
   "metadata": {
    "collapsed": false
   },
   "outputs": [],
   "source": [
    "h5file.close()\n",
    "h5file = open_file(\"tutorial1.h5\", mode = \"w\", title = \"Test file\")"
   ]
  },
  {
   "cell_type": "code",
   "execution_count": 31,
   "metadata": {
    "collapsed": false
   },
   "outputs": [
    {
     "ename": "ClosedNodeError",
     "evalue": "the node object is closed",
     "output_type": "error",
     "traceback": [
      "\u001b[0;31m---------------------------------------------------------------------------\u001b[0m",
      "\u001b[0;31mClosedNodeError\u001b[0m                           Traceback (most recent call last)",
      "\u001b[0;32m<ipython-input-31-82be5492da04>\u001b[0m in \u001b[0;36m<module>\u001b[0;34m()\u001b[0m\n\u001b[0;32m----> 1\u001b[0;31m \u001b[0mtable\u001b[0m \u001b[0;34m=\u001b[0m \u001b[0mh5file\u001b[0m\u001b[0;34m.\u001b[0m\u001b[0mcreate_table\u001b[0m\u001b[0;34m(\u001b[0m\u001b[0mgroup\u001b[0m\u001b[0;34m,\u001b[0m \u001b[0;34m'readout'\u001b[0m\u001b[0;34m,\u001b[0m \u001b[0mtara_entry\u001b[0m\u001b[0;34m,\u001b[0m \u001b[0;34m\"Readout example\"\u001b[0m\u001b[0;34m)\u001b[0m\u001b[0;34m\u001b[0m\u001b[0m\n\u001b[0m",
      "\u001b[0;32m/Users/jmb/anaconda/lib/python2.7/site-packages/tables/file.pyc\u001b[0m in \u001b[0;36mcreate_table\u001b[0;34m(self, where, name, description, title, filters, expectedrows, chunkshape, byteorder, createparents, obj)\u001b[0m\n\u001b[1;32m   1050\u001b[0m                 \u001b[0mdescription\u001b[0m \u001b[0;34m=\u001b[0m \u001b[0mdescr\u001b[0m\u001b[0;34m\u001b[0m\u001b[0m\n\u001b[1;32m   1051\u001b[0m \u001b[0;34m\u001b[0m\u001b[0m\n\u001b[0;32m-> 1052\u001b[0;31m         \u001b[0mparentnode\u001b[0m \u001b[0;34m=\u001b[0m \u001b[0mself\u001b[0m\u001b[0;34m.\u001b[0m\u001b[0m_get_or_create_path\u001b[0m\u001b[0;34m(\u001b[0m\u001b[0mwhere\u001b[0m\u001b[0;34m,\u001b[0m \u001b[0mcreateparents\u001b[0m\u001b[0;34m)\u001b[0m\u001b[0;34m\u001b[0m\u001b[0m\n\u001b[0m\u001b[1;32m   1053\u001b[0m         \u001b[0;32mif\u001b[0m \u001b[0mdescription\u001b[0m \u001b[0;32mis\u001b[0m \u001b[0mNone\u001b[0m\u001b[0;34m:\u001b[0m\u001b[0;34m\u001b[0m\u001b[0m\n\u001b[1;32m   1054\u001b[0m             \u001b[0;32mraise\u001b[0m \u001b[0mValueError\u001b[0m\u001b[0;34m(\u001b[0m\u001b[0;34m\"invalid table description: None\"\u001b[0m\u001b[0;34m)\u001b[0m\u001b[0;34m\u001b[0m\u001b[0m\n",
      "\u001b[0;32m/Users/jmb/anaconda/lib/python2.7/site-packages/tables/file.pyc\u001b[0m in \u001b[0;36m_get_or_create_path\u001b[0;34m(self, path, create)\u001b[0m\n\u001b[1;32m    887\u001b[0m             \u001b[0;32mreturn\u001b[0m \u001b[0mself\u001b[0m\u001b[0;34m.\u001b[0m\u001b[0m_create_path\u001b[0m\u001b[0;34m(\u001b[0m\u001b[0mpath\u001b[0m\u001b[0;34m)\u001b[0m\u001b[0;34m\u001b[0m\u001b[0m\n\u001b[1;32m    888\u001b[0m         \u001b[0;32melse\u001b[0m\u001b[0;34m:\u001b[0m\u001b[0;34m\u001b[0m\u001b[0m\n\u001b[0;32m--> 889\u001b[0;31m             \u001b[0;32mreturn\u001b[0m \u001b[0mself\u001b[0m\u001b[0;34m.\u001b[0m\u001b[0mget_node\u001b[0m\u001b[0;34m(\u001b[0m\u001b[0mpath\u001b[0m\u001b[0;34m)\u001b[0m\u001b[0;34m\u001b[0m\u001b[0m\n\u001b[0m\u001b[1;32m    890\u001b[0m \u001b[0;34m\u001b[0m\u001b[0m\n\u001b[1;32m    891\u001b[0m     \u001b[0m_getOrCreatePath\u001b[0m \u001b[0;34m=\u001b[0m \u001b[0mprevious_api\u001b[0m\u001b[0;34m(\u001b[0m\u001b[0m_get_or_create_path\u001b[0m\u001b[0;34m)\u001b[0m\u001b[0;34m\u001b[0m\u001b[0m\n",
      "\u001b[0;32m/Users/jmb/anaconda/lib/python2.7/site-packages/tables/file.pyc\u001b[0m in \u001b[0;36mget_node\u001b[0;34m(self, where, name, classname)\u001b[0m\n\u001b[1;32m   1592\u001b[0m         \u001b[0;32mif\u001b[0m \u001b[0misinstance\u001b[0m\u001b[0;34m(\u001b[0m\u001b[0mwhere\u001b[0m\u001b[0;34m,\u001b[0m \u001b[0mNode\u001b[0m\u001b[0;34m)\u001b[0m\u001b[0;34m:\u001b[0m\u001b[0;34m\u001b[0m\u001b[0m\n\u001b[1;32m   1593\u001b[0m             \u001b[0mnode\u001b[0m \u001b[0;34m=\u001b[0m \u001b[0mwhere\u001b[0m\u001b[0;34m\u001b[0m\u001b[0m\n\u001b[0;32m-> 1594\u001b[0;31m             \u001b[0mnode\u001b[0m\u001b[0;34m.\u001b[0m\u001b[0m_g_check_open\u001b[0m\u001b[0;34m(\u001b[0m\u001b[0;34m)\u001b[0m  \u001b[0;31m# the node object must be open\u001b[0m\u001b[0;34m\u001b[0m\u001b[0m\n\u001b[0m\u001b[1;32m   1595\u001b[0m             \u001b[0mnodepath\u001b[0m \u001b[0;34m=\u001b[0m \u001b[0mwhere\u001b[0m\u001b[0;34m.\u001b[0m\u001b[0m_v_pathname\u001b[0m\u001b[0;34m\u001b[0m\u001b[0m\n\u001b[1;32m   1596\u001b[0m         \u001b[0;32melif\u001b[0m \u001b[0misinstance\u001b[0m\u001b[0;34m(\u001b[0m\u001b[0mwhere\u001b[0m\u001b[0;34m,\u001b[0m \u001b[0;34m(\u001b[0m\u001b[0mbasestring\u001b[0m\u001b[0;34m,\u001b[0m \u001b[0mnumpy\u001b[0m\u001b[0;34m.\u001b[0m\u001b[0mstr_\u001b[0m\u001b[0;34m)\u001b[0m\u001b[0;34m)\u001b[0m\u001b[0;34m:\u001b[0m\u001b[0;34m\u001b[0m\u001b[0m\n",
      "\u001b[0;32m/Users/jmb/anaconda/lib/python2.7/site-packages/tables/node.pyc\u001b[0m in \u001b[0;36m_g_check_open\u001b[0;34m(self)\u001b[0m\n\u001b[1;32m    348\u001b[0m \u001b[0;34m\u001b[0m\u001b[0m\n\u001b[1;32m    349\u001b[0m         \u001b[0;32mif\u001b[0m \u001b[0;32mnot\u001b[0m \u001b[0mself\u001b[0m\u001b[0;34m.\u001b[0m\u001b[0m_v_isopen\u001b[0m\u001b[0;34m:\u001b[0m\u001b[0;34m\u001b[0m\u001b[0m\n\u001b[0;32m--> 350\u001b[0;31m             \u001b[0;32mraise\u001b[0m \u001b[0mClosedNodeError\u001b[0m\u001b[0;34m(\u001b[0m\u001b[0;34m\"the node object is closed\"\u001b[0m\u001b[0;34m)\u001b[0m\u001b[0;34m\u001b[0m\u001b[0m\n\u001b[0m\u001b[1;32m    351\u001b[0m         \u001b[0;32massert\u001b[0m \u001b[0mself\u001b[0m\u001b[0;34m.\u001b[0m\u001b[0m_v_file\u001b[0m\u001b[0;34m.\u001b[0m\u001b[0misopen\u001b[0m\u001b[0;34m,\u001b[0m \u001b[0;34m\"found an open node in a closed file\"\u001b[0m\u001b[0;34m\u001b[0m\u001b[0m\n\u001b[1;32m    352\u001b[0m \u001b[0;34m\u001b[0m\u001b[0m\n",
      "\u001b[0;31mClosedNodeError\u001b[0m: the node object is closed"
     ]
    }
   ],
   "source": [
    "group = h5file.create_group(\"/\", 'detector', 'Detector information')\n",
    "\n",
    "table = h5file.create_table(group, 'readout', tara_entry, \"Readout example\")"
   ]
  },
  {
   "cell_type": "code",
   "execution_count": 25,
   "metadata": {
    "collapsed": false
   },
   "outputs": [
    {
     "name": "stdout",
     "output_type": "stream",
     "text": [
      "tutorial1.h5 (File) 'Test file'\n",
      "Last modif.: 'Tue Nov  3 15:08:38 2015'\n",
      "Object Tree: \n",
      "/ (RootGroup) 'Test file'\n",
      "/detector (Group) 'Detector information'\n",
      "/detector/readout (Table(0,)) 'Readout example'\n",
      "\n"
     ]
    }
   ],
   "source": [
    "print h5file"
   ]
  },
  {
   "cell_type": "code",
   "execution_count": 37,
   "metadata": {
    "collapsed": true
   },
   "outputs": [],
   "source": [
    "import sqlite3\n",
    "import os"
   ]
  },
  {
   "cell_type": "code",
   "execution_count": 38,
   "metadata": {
    "collapsed": false
   },
   "outputs": [
    {
     "ename": "OperationalError",
     "evalue": "table tara_db already exists",
     "output_type": "error",
     "traceback": [
      "\u001b[0;31m---------------------------------------------------------------------------\u001b[0m",
      "\u001b[0;31mOperationalError\u001b[0m                          Traceback (most recent call last)",
      "\u001b[0;32m<ipython-input-38-90b203eaa20c>\u001b[0m in \u001b[0;36m<module>\u001b[0;34m()\u001b[0m\n\u001b[1;32m      7\u001b[0m \u001b[0mc\u001b[0m\u001b[0;34m=\u001b[0m\u001b[0mconn\u001b[0m\u001b[0;34m.\u001b[0m\u001b[0mcursor\u001b[0m\u001b[0;34m(\u001b[0m\u001b[0;34m)\u001b[0m\u001b[0;34m\u001b[0m\u001b[0m\n\u001b[1;32m      8\u001b[0m \u001b[0;34m\u001b[0m\u001b[0m\n\u001b[0;32m----> 9\u001b[0;31m \u001b[0mc\u001b[0m\u001b[0;34m.\u001b[0m\u001b[0mexecute\u001b[0m\u001b[0;34m(\u001b[0m\u001b[0;34m'CREATE TABLE {tn} ({nf} {ft} PRIMARY KEY)'\u001b[0m    \u001b[0;34m.\u001b[0m\u001b[0mformat\u001b[0m\u001b[0;34m(\u001b[0m\u001b[0mtn\u001b[0m\u001b[0;34m=\u001b[0m\u001b[0mtable_name1\u001b[0m\u001b[0;34m,\u001b[0m \u001b[0mnf\u001b[0m\u001b[0;34m=\u001b[0m\u001b[0mnew_field\u001b[0m\u001b[0;34m,\u001b[0m \u001b[0mft\u001b[0m\u001b[0;34m=\u001b[0m\u001b[0mfield_type\u001b[0m\u001b[0;34m)\u001b[0m\u001b[0;34m)\u001b[0m\u001b[0;34m\u001b[0m\u001b[0m\n\u001b[0m\u001b[1;32m     10\u001b[0m \u001b[0;34m\u001b[0m\u001b[0m\n\u001b[1;32m     11\u001b[0m \u001b[0mconn\u001b[0m\u001b[0;34m.\u001b[0m\u001b[0mcommit\u001b[0m\u001b[0;34m(\u001b[0m\u001b[0;34m)\u001b[0m\u001b[0;34m\u001b[0m\u001b[0m\n",
      "\u001b[0;31mOperationalError\u001b[0m: table tara_db already exists"
     ]
    }
   ],
   "source": [
    "sqlite_file='tara_db.sqlite'\n",
    "table_name1=\"tara_db\"\n",
    "new_field=\"id_column\"\n",
    "field_type=\"TEXT\"\n",
    "\n",
    "conn=sqlite3.connect(sqlite_file)\n",
    "c=conn.cursor()\n",
    "\n",
    "c.execute('CREATE TABLE {tn} ({nf} {ft} PRIMARY KEY)'\\\n",
    "    .format(tn=table_name1, nf=new_field, ft=field_type))\n",
    "\n",
    "conn.commit()\n",
    "conn.close()"
   ]
  },
  {
   "cell_type": "code",
   "execution_count": 41,
   "metadata": {
    "collapsed": false
   },
   "outputs": [
    {
     "ename": "OperationalError",
     "evalue": "duplicate column name: gene_id",
     "output_type": "error",
     "traceback": [
      "\u001b[0;31m---------------------------------------------------------------------------\u001b[0m",
      "\u001b[0;31mOperationalError\u001b[0m                          Traceback (most recent call last)",
      "\u001b[0;32m<ipython-input-41-870c46d1bfe0>\u001b[0m in \u001b[0;36m<module>\u001b[0;34m()\u001b[0m\n\u001b[1;32m     22\u001b[0m \u001b[0;34m\u001b[0m\u001b[0m\n\u001b[1;32m     23\u001b[0m \u001b[0;32mfor\u001b[0m \u001b[0mi\u001b[0m \u001b[0;32min\u001b[0m \u001b[0mcolumns\u001b[0m\u001b[0;34m:\u001b[0m\u001b[0;34m\u001b[0m\u001b[0m\n\u001b[0;32m---> 24\u001b[0;31m     \u001b[0mc\u001b[0m\u001b[0;34m.\u001b[0m\u001b[0mexecute\u001b[0m\u001b[0;34m(\u001b[0m\u001b[0;34m\"ALTER TABLE {tn} ADD COLUMN '{cn}' {ct}\"\u001b[0m          \u001b[0;34m.\u001b[0m\u001b[0mformat\u001b[0m\u001b[0;34m(\u001b[0m\u001b[0mtn\u001b[0m\u001b[0;34m=\u001b[0m\u001b[0mtable_name1\u001b[0m\u001b[0;34m,\u001b[0m \u001b[0mcn\u001b[0m\u001b[0;34m=\u001b[0m\u001b[0mi\u001b[0m\u001b[0;34m,\u001b[0m \u001b[0mct\u001b[0m\u001b[0;34m=\u001b[0m\u001b[0mcolumn_type\u001b[0m\u001b[0;34m)\u001b[0m\u001b[0;34m)\u001b[0m\u001b[0;34m\u001b[0m\u001b[0m\n\u001b[0m\u001b[1;32m     25\u001b[0m \u001b[0;34m\u001b[0m\u001b[0m\n\u001b[1;32m     26\u001b[0m \u001b[0mconn\u001b[0m\u001b[0;34m.\u001b[0m\u001b[0mcommit\u001b[0m\u001b[0;34m(\u001b[0m\u001b[0;34m)\u001b[0m\u001b[0;34m\u001b[0m\u001b[0m\n",
      "\u001b[0;31mOperationalError\u001b[0m: duplicate column name: gene_id"
     ]
    }
   ],
   "source": [
    "sqlite_file='tara_db.sqlite'\n",
    "table_name1=\"tara_db\"\n",
    "id_column='ID'\n",
    "column1=\"gene_id\"\n",
    "column2=\"eggNOG_OG\"\n",
    "column3=\"KEGG_ko\"\n",
    "column4=\"kingdom\"\n",
    "column5=\"phylum\"\n",
    "column6=\"class\"\n",
    "column7=\"order\"\n",
    "column8=\"family\"\n",
    "column9=\"genus\"\n",
    "column10=\"species\"\n",
    "column11=\"sequence\"\n",
    "column_type='TEXT'\n",
    "\n",
    "columns=[column1, column2, column3, column4, column5, column6, column7, column8,\n",
    "        column9, column10, column11]\n",
    "\n",
    "conn=sqlite3.connect(sqlite_file)\n",
    "c=conn.cursor()\n",
    "\n",
    "for i in columns:\n",
    "    c.execute(\"ALTER TABLE {tn} ADD COLUMN '{cn}' {ct}\"\\\n",
    "          .format(tn=table_name1, cn=i, ct=column_type))\n",
    "\n",
    "conn.commit()\n",
    "conn.close()"
   ]
  },
  {
   "cell_type": "code",
   "execution_count": 43,
   "metadata": {
    "collapsed": false
   },
   "outputs": [],
   "source": [
    "tinfo=open(\"./example.tara.tsv\").readlines()\n",
    "row=tinfo[0]\n",
    "    "
   ]
  },
  {
   "cell_type": "code",
   "execution_count": 49,
   "metadata": {
    "collapsed": false
   },
   "outputs": [
    {
     "ename": "OperationalError",
     "evalue": "unrecognized token: \"{\"",
     "output_type": "error",
     "traceback": [
      "\u001b[0;31m---------------------------------------------------------------------------\u001b[0m",
      "\u001b[0;31mOperationalError\u001b[0m                          Traceback (most recent call last)",
      "\u001b[0;32m<ipython-input-49-95b052bc19a1>\u001b[0m in \u001b[0;36m<module>\u001b[0;34m()\u001b[0m\n\u001b[1;32m     27\u001b[0m \u001b[0;34m\u001b[0m\u001b[0m\n\u001b[1;32m     28\u001b[0m \u001b[0;32mtry\u001b[0m\u001b[0;34m:\u001b[0m\u001b[0;34m\u001b[0m\u001b[0m\n\u001b[0;32m---> 29\u001b[0;31m     \u001b[0mc\u001b[0m\u001b[0;34m.\u001b[0m\u001b[0mexecute\u001b[0m\u001b[0;34m(\u001b[0m\u001b[0;34m\"INSERT INTO {tn} ({idf}, {cn}) VALUES (\"\u001b[0m\u001b[0;34m+\u001b[0m\u001b[0mID\u001b[0m\u001b[0;34m+\u001b[0m\u001b[0;34m\",\"\u001b[0m\u001b[0;34m+\u001b[0m\u001b[0mgene_id\u001b[0m\u001b[0;34m+\u001b[0m\u001b[0;34m\")\"\u001b[0m\u001b[0;34m.\u001b[0m        \u001b[0mformat\u001b[0m\u001b[0;34m(\u001b[0m\u001b[0mtn\u001b[0m\u001b[0;34m=\u001b[0m\u001b[0mtable_name1\u001b[0m\u001b[0;34m,\u001b[0m \u001b[0midf\u001b[0m\u001b[0;34m=\u001b[0m\u001b[0mid_column\u001b[0m\u001b[0;34m,\u001b[0m \u001b[0mcn\u001b[0m\u001b[0;34m=\u001b[0m\u001b[0mcolumn1\u001b[0m\u001b[0;34m)\u001b[0m\u001b[0;34m)\u001b[0m\u001b[0;34m\u001b[0m\u001b[0m\n\u001b[0m\u001b[1;32m     30\u001b[0m \u001b[0;32mexcept\u001b[0m \u001b[0msqlite3\u001b[0m\u001b[0;34m.\u001b[0m\u001b[0mIntegrityError\u001b[0m\u001b[0;34m:\u001b[0m\u001b[0;34m\u001b[0m\u001b[0m\n\u001b[1;32m     31\u001b[0m     \u001b[0;32mprint\u001b[0m\u001b[0;34m(\u001b[0m\u001b[0;34m'ERROR: ID already exists in PRIMARY KEY column {}'\u001b[0m\u001b[0;34m.\u001b[0m\u001b[0mformat\u001b[0m\u001b[0;34m(\u001b[0m\u001b[0mid_column\u001b[0m\u001b[0;34m)\u001b[0m\u001b[0;34m)\u001b[0m\u001b[0;34m\u001b[0m\u001b[0m\n",
      "\u001b[0;31mOperationalError\u001b[0m: unrecognized token: \"{\""
     ]
    }
   ],
   "source": [
    "sqlite_file='tara_db.sqlite'\n",
    "table_name1=\"tara_db\"\n",
    "\n",
    "id_column='ID'\n",
    "column1=\"gene_id\"\n",
    "column2=\"eggNOG_OG\"\n",
    "column3=\"KEGG_ko\"\n",
    "column4=\"kingdom\"\n",
    "column5=\"phylum\"\n",
    "column6=\"class\"\n",
    "column7=\"order\"\n",
    "column8=\"family\"\n",
    "column9=\"genus\"\n",
    "column10=\"species\"\n",
    "column11=\"sequence\"\n",
    "column_type='TEXT'\n",
    "\n",
    "columns=[column1, column2, column3, column4, column5, column6, column7, column8,\n",
    "        column9, column10, column11]\n",
    "\n",
    "conn = sqlite3.connect(sqlite_file)\n",
    "c = conn.cursor()\n",
    "\n",
    "vec=row.replace(\"\\n\",\"\").split(\"\\t\")\n",
    "ID=vec[0]\n",
    "gene_id=vec[1]\n",
    "\n",
    "try:\n",
    "    c.execute(\"INSERT INTO {tn} ({idf}, {cn}) VALUES (\"+ID+\",\"+gene_id+\")\".\\\n",
    "        format(tn=table_name1, idf=id_column, cn=column1))\n",
    "except sqlite3.IntegrityError:\n",
    "    print('ERROR: ID already exists in PRIMARY KEY column {}'.format(id_column))"
   ]
  },
  {
   "cell_type": "markdown",
   "metadata": {},
   "source": [
    "Set up a sqlite3 database... below appears to work for the tara file:"
   ]
  },
  {
   "cell_type": "code",
   "execution_count": 59,
   "metadata": {
    "collapsed": false
   },
   "outputs": [],
   "source": [
    "conn=sqlite3.connect('tara4.sqlite')\n",
    "c=conn.cursor()\n",
    "c.execute('''CREATE TABLE taratbl\n",
    "            (ID primary key, gene, egg, ko, kfunc)''')\n",
    "with open(\"./example.tara.tsv\") as infile:\n",
    "    for r in infile:\n",
    "        vec=r.replace('\"','').split(\"\\t\")\n",
    "        ID=vec[0]\n",
    "        gene=vec[1]\n",
    "        egg=vec[2]\n",
    "        ko=vec[3]\n",
    "        kfunc=vec[4]\n",
    "        c.execute(\"INSERT INTO taratbl VALUES ('\"+ID+\"','\"+gene+\"','\"+egg+\"','\"+ko+\"','\"+kfunc+\"')\")\n",
    "conn.commit()\n",
    "conn.close()"
   ]
  },
  {
   "cell_type": "markdown",
   "metadata": {},
   "source": [
    "Now to query the database:"
   ]
  },
  {
   "cell_type": "code",
   "execution_count": 70,
   "metadata": {
    "collapsed": false
   },
   "outputs": [
    {
     "name": "stdout",
     "output_type": "stream",
     "text": [
      "(u'483219.LILAB_09250', u'', u'', u'')\n",
      "483219.LILAB_09250\n"
     ]
    }
   ],
   "source": [
    "conn=sqlite3.connect('tara4.sqlite')\n",
    "c=conn.cursor()\n",
    "tara_id=\"OM-RGC.v1.040154628\"\n",
    "\n",
    "\n",
    "c.execute(\"SELECT * from taratbl where ID='\"+tara_id+\"'\")\n",
    "output=c.fetchall()\n",
    "gene=output[0][1]\n",
    "egg=output[0][2]\n",
    "ko=output[0][3]\n",
    "kfunc=output[0][4]\n",
    "\n",
    "print(gene, egg, ko, kfunc)\n",
    "print gene"
   ]
  },
  {
   "cell_type": "code",
   "execution_count": 67,
   "metadata": {
    "collapsed": false
   },
   "outputs": [
    {
     "name": "stdout",
     "output_type": "stream",
     "text": [
      "<type 'tuple'>\n",
      "472759.Nhal_2562\n"
     ]
    }
   ],
   "source": [
    "type(output)\n",
    "for l in output:\n",
    "    print type(l)\n",
    "\n",
    "print output[0][1]"
   ]
  },
  {
   "cell_type": "code",
   "execution_count": null,
   "metadata": {
    "collapsed": true
   },
   "outputs": [],
   "source": []
  }
 ],
 "metadata": {
  "kernelspec": {
   "display_name": "Python 2",
   "language": "python",
   "name": "python2"
  },
  "language_info": {
   "codemirror_mode": {
    "name": "ipython",
    "version": 2
   },
   "file_extension": ".py",
   "mimetype": "text/x-python",
   "name": "python",
   "nbconvert_exporter": "python",
   "pygments_lexer": "ipython2",
   "version": "2.7.10"
  }
 },
 "nbformat": 4,
 "nbformat_minor": 0
}
