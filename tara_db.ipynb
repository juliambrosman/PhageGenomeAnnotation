{
 "cells": [
  {
   "cell_type": "code",
   "execution_count": 24,
   "metadata": {
    "collapsed": true
   },
   "outputs": [],
   "source": [
    "import sqlite3\n",
    "import os"
   ]
  },
  {
   "cell_type": "markdown",
   "metadata": {},
   "source": [
    "Set up a sqlite3 database... below appears to work for the tara file:"
   ]
  },
  {
   "cell_type": "code",
   "execution_count": 59,
   "metadata": {
    "collapsed": false
   },
   "outputs": [],
   "source": [
    "conn=sqlite3.connect('tara4.sqlite')\n",
    "c=conn.cursor()\n",
    "c.execute('''CREATE TABLE taratbl\n",
    "            (ID primary key, gene, egg, ko, kfunc)''')\n",
    "with open(\"./example.tara.tsv\") as infile:\n",
    "    for r in infile:\n",
    "        vec=r.replace('\"','').split(\"\\t\")\n",
    "        ID=vec[0]\n",
    "        gene=vec[1]\n",
    "        egg=vec[2]\n",
    "        ko=vec[3]\n",
    "        kfunc=vec[4]\n",
    "        c.execute(\"INSERT INTO taratbl VALUES ('\"+ID+\"','\"+gene+\"','\"+egg+\"','\"+ko+\"','\"+kfunc+\"')\")\n",
    "conn.commit()\n",
    "conn.close()"
   ]
  },
  {
   "cell_type": "markdown",
   "metadata": {},
   "source": [
    "Now to query the database:"
   ]
  },
  {
   "cell_type": "code",
   "execution_count": 70,
   "metadata": {
    "collapsed": false
   },
   "outputs": [
    {
     "name": "stdout",
     "output_type": "stream",
     "text": [
      "(u'483219.LILAB_09250', u'', u'', u'')\n",
      "483219.LILAB_09250\n"
     ]
    }
   ],
   "source": [
    "conn=sqlite3.connect('tara4.sqlite')\n",
    "c=conn.cursor()\n",
    "tara_id=\"OM-RGC.v1.040154628\"\n",
    "\n",
    "\n",
    "c.execute(\"SELECT * from taratbl where ID='\"+tara_id+\"'\")\n",
    "output=c.fetchall()\n",
    "gene=output[0][1]\n",
    "egg=output[0][2]\n",
    "ko=output[0][3]\n",
    "kfunc=output[0][4]\n",
    "\n",
    "print(gene, egg, ko, kfunc)\n",
    "print gene"
   ]
  },
  {
   "cell_type": "code",
   "execution_count": 1,
   "metadata": {
    "collapsed": false
   },
   "outputs": [
    {
     "name": "stdout",
     "output_type": "stream",
     "text": [
      "1.161.O.vs.tara.translated.out                100% 3476KB   3.4MB/s   00:00    \n"
     ]
    }
   ],
   "source": [
    "!scp jbrown@eofe4.mit.edu:/nobackup1/jbrown/annotation/blasts/tara.translated/1.161.O.* ./"
   ]
  },
  {
   "cell_type": "code",
   "execution_count": 15,
   "metadata": {
    "collapsed": false
   },
   "outputs": [],
   "source": [
    "# %load ./scripts/annotation_functions.py\n",
    "#Functions to run annotation-associated programs:\n",
    "\n",
    "import subprocess\n",
    "import os\n",
    "import cPickle as pickle\n",
    "\n",
    "def run_prodigal_phage(inputfasta, out_gene, out_prot):\n",
    "    to_run=\"prodigal -i \"+inputfasta+\" -o \"+out_gene+\" -a \"+out_prot+\" -p meta\"\n",
    "    subprocess.call(to_run.split(\" \"))\n",
    "    \n",
    "def run_formatudb(fastafile, databasefile=\"db.udb\", ublast_path=\"/home/sbiller/usearch7.0.1090_i86linux64\"):\n",
    "    to_run=ublast_path+\" -makeudb_ublast \"+fastafile+\" -output \"+databasefile\n",
    "    subprocess.call(to_run.split(\" \"))\n",
    "    \n",
    "def run_ublastp(fastafile, out_file, udb, evalue, ublast_path=\"/home/sbiller/usearch7.0.1090_i86linux64\"):\n",
    "    to_run=ublast_path+\" -ublast \"+fastafile+\" -db \"+udb+\" -evalue \"+evalue+\" -accel 0.5 -blast6out \"+out_file+\" -top_hit_only\"\n",
    "    subprocess.call(to_run.split(\" \"))\n",
    "    \n",
    "def run_trna_scan(input_file, output):\n",
    "    if os.path.exists(output):\n",
    "        os.remove(output)\n",
    "    args=[\"tRNAscan-SE\", \"-o\", output, \"-G\", \"-D\",\"-N\", input_file]\n",
    "    subprocess.call(args)\n",
    "    print(\"tRNA scan of \"+input_file+\" is done!\")\n",
    "\n",
    "def run_crt(path_to_crt, input_fasta, output):\n",
    "    args=\"java -cp \"+path_to_crt+\" crt -minNR 2 \"+input_fasta+\" \"+output\n",
    "    subprocess.call(args.split(\" \"))\n",
    "    \n",
    "#general info\n",
    "\n",
    "#get number of genes in genome to know how many digits to use in locus tag\n",
    "\n",
    "\n",
    "def get_digits(faa):\n",
    "    faa=open(faa).read()\n",
    "    digits=len(str(faa.count(\">\")))\n",
    "    return digits\n",
    "\n",
    "#create locus tag from protein sequence name in BLAST output file:\n",
    "def get_locus_tag(line, digits, phage):\n",
    "    query=line.split(\"\\t\")[0].split(\" \")[0]\n",
    "    number=query.split(\"_\")[-1]\n",
    "    z=\"0\"*(digits-len(number))\n",
    "    return \"NVP\"+phage.replace(\".\",\"\")+\"_\"+z+number\n",
    "        \n",
    "\n",
    "from pyfaidx import Fasta\n",
    "\n",
    "def get_prot_lens(faa_file, phage):\n",
    "    len_dict={}\n",
    "    digits=get_digits(faa_file)\n",
    "    #def make_seq_len_dict(faa):\n",
    "    f=Fasta(faa_file)\n",
    "    for i in f.keys():\n",
    "        name=get_locus_tag(i, digits=digits, phage=phage)\n",
    "        length=len(str(f[i]))\n",
    "        len_dict[name]=length\n",
    "    return len_dict\n",
    "\n",
    "#set up dict of general info from BLAST:\n",
    "def set_up_blast_dict(blast, prod, faa):\n",
    "    phage=blast.split(\"v\")[0].replace(\"/\",\"\")\n",
    "    digits=get_digits(faa)\n",
    "    len_dict=get_prot_lens(faa, phage)\n",
    "    records=[]\n",
    "    blast_dict={}\n",
    "    \n",
    "    blast=open(blast).readlines()\n",
    "    for line in blast:\n",
    "        name=line.split(\" \")[0]\n",
    "        hit=line.split(\"\\t\")[1]\n",
    "        lt=get_locus_tag(name, digits=digits, phage=phage)\n",
    "        prot_len=len_dict[lt]\n",
    "        aln_len=int(line.split(\"\\t\")[3])\n",
    "        pct_id=float(line.split(\"\\t\")[2])\n",
    "        ev=line.split(\"\\t\")[-2]\n",
    "        pct_cov=(aln_len/prot_len)*100\n",
    "\n",
    "        if pct_id>35 and pct_cov>75 and lt not in records:\n",
    "            records.append(lt)\n",
    "            blast_dict[lt]=[hit, pct_cov, pct_id, ev]\n",
    "    return blast_dict\n",
    "\n",
    "#load blast database dictionaries:\n",
    "aclame_dict=pickle.load(open(\"./databases/pickled_dicts/aclame_dict.p\",\"rb\"))\n",
    "cog_dict=pickle.load(open(\"./databases/pickled_dicts/cog_dict.p\",\"rb\"))\n",
    "cog_defs=pickle.load(open(\"./databases/pickled_dicts/cog_def.p\",\"rb\"))\n",
    "pfam_dict=pickle.load(open(\"./databases/pickled_dicts/pfam_dict.p\",\"rb\"))\n",
    "pfam_defs=pickle.load(open(\"./databases/pickled_dicts/pfam_def.p\",\"rb\"))\n",
    "cvp_dict=pickle.load(open(\"./databases/pickled_dicts/cvp_dict.p\",\"rb\"))\n",
    "\n",
    "#functions for adding annotations/info to BLAST hit based on BLAST database\n",
    "\n",
    "def add_kegg_descript(hit):\n",
    "    desc= REST.kegg_find(\"genes\", hit).read()\n",
    "    K=re.search(r\"K[0-9]{5}\", desc)\n",
    "    KEGG=K.group(0)\n",
    "    a=re.search(r\"(?<=K[0-9]{5}).*\", desc)\n",
    "    ann=a.group(0)\n",
    "    return [KEGG, ann]\n",
    "\n",
    "def add_cog_descript(hit):\n",
    "    cog=cog_dict[(hit.split(\"|\")[1])]\n",
    "    func=cog_defs[cog].replace(\"\\n\",\"\")\n",
    "    return [cog, func]\n",
    "\n",
    "def add_pfam_descript(hit):\n",
    "    pfam=pfam_dict[hit].split(\".\")[0]\n",
    "    function=pfam_defs[pfam].replace(\"\\n\",\"\")\n",
    "    return [pfam, function]\n",
    "\n",
    "def add_aclame_descript(hit):\n",
    "    annotation=aclame_dict[hit]\n",
    "    return [hit, annotation]\n",
    "\n",
    "def add_cvp_descript(hit):\n",
    "    func=cvp_dict[hit]\n",
    "    return [hit, func]\n",
    "\n",
    "def add_tara_descript(hit):   #right now just adding the closest hit, TARA sequences come with COG/Pfam info etc \n",
    "    return [hit, hit]\n",
    "\n",
    "db_dict={\"kegg\":add_kegg_descript, \"cog\":add_cog_descript, \"pfam\":add_pfam_descript, \"aclame\":add_aclame_descript,\n",
    "        \"cvp\":add_cvp_descript, \"tara\":add_tara_descript}\n",
    "\n",
    "def annotated_blast_dict(blast, prod, faa, db):\n",
    "    blast_dict=set_up_blast_dict(blast, prod, faa)\n",
    "    blast_db_function=db_dict[db]\n",
    "    for i in blast_dict.keys():\n",
    "        hit=blast_dict[i][0]\n",
    "        info=blast_db_function(hit)\n",
    "        blast_dict[i]+=info\n",
    "    \n",
    "    return blast_dict\n",
    "\n",
    "#i=prodigal line that begins with a location identifier..\n",
    "#function meant to iterate over the length of a prodigal file every two lines starting at line 3 as such: \n",
    "'''\n",
    "for i in range (2, len(open(prod_file).readlines())-1,2):\n",
    "    get_prod_cds_info(i,...)\n",
    "'''\n",
    "\n",
    "def get_prod_cds_info(i, prod, digits, phage):  \n",
    "    loc=prod[i]\n",
    "    if len(loc.split())==2:\n",
    "        if \"complement\" in prod[i].split()[1]:\n",
    "            strand=\"-\"\n",
    "            start=loc.split(\"..\")[1].replace(\")\\n\",\"\")\n",
    "            stop=loc.split(\"(\")[1].split(\"..\")[0]\n",
    "        else:\n",
    "            strand=\"+\"\n",
    "            start=loc.split()[1].split(\"..\")[0]\n",
    "            stop=loc.split()[1].split(\"..\")[1].replace(\"\\n\",\"\")\n",
    "        start=start.replace(\">\",\"\").replace(\"<\",\"\")\n",
    "        stop=stop.replace(\">\",\"\").replace(\"<\",\"\")\n",
    "    info=prod[i+1]\n",
    "    number=info.split(\";\")[0].split(\"=\")[2].split(\"_\")[1]\n",
    "    z=\"0\"*(digits-len(number))\n",
    "    t=\"NVP\"+phage.replace(\".\",\"\")+\"_\"+z+number\n",
    "    return [t, start, stop, strand]\n",
    "\n",
    "#below: considers hits to more informative databases before less informative databases\n",
    "#dict_list* are lists of blast_dicts and dl*_names are the names of the dicts in the same order\n",
    "\n",
    "def find_best_hit2(gene_id, dict_list1, dl1_names, dict_list2=[], dl2_names=[]):\n",
    "    evals=1\n",
    "    annotation=\"\"\n",
    "    best_hit=\"\"\n",
    "    hits=[]\n",
    "    es=[]\n",
    "    names=[]\n",
    "    for i in range(0, len(dict_list1)):\n",
    "        if gene_id in dict_list1[i].keys():\n",
    "            hit=dict_list1[i][gene_id]\n",
    "            hits.append(hit[-1])\n",
    "            es.append(float(hit[3]))\n",
    "            names.append(dl1_names[i])\n",
    "    if len(hits)>0:\n",
    "        best_annotation=[hits[es.index(min(es))],names[es.index(min(es))]]\n",
    "    else:\n",
    "        for i in range(0, len(dict_list2)):\n",
    "            if gene_id in dict_list2[i].keys():\n",
    "                hit=dict_list2[i][gene_id]\n",
    "                hits.append(hit[-1])\n",
    "                es.append(float(hit[3]))\n",
    "                names.append(dl2_names[i])\n",
    "        if len(hits)>0:\n",
    "            best_annotation=[hits[es.index(min(es))],names[es.index(min(es))]]\n",
    "        else:\n",
    "            best_annotation=[\"\",\"\"]\n",
    "\n",
    "    #print(\"best annotation for\"+gene_id+\" is from \"+best_hit+\" with e-value \"+str(evals)+\" and annotation of \"+annotation)\n",
    "    return best_annotation \n",
    "\n",
    "def gff3_header(prod):\n",
    "    Sequence=open(prod).readlines()[0].split(\";\")[2].split(\"=\")[1].replace('\"','')\n",
    "    return Sequence+\"\\n\"\n",
    "\n",
    "#merge BLAST results into one gff3\n",
    "    \n",
    "def cds_blast_annotations_to_gff3(phage):\n",
    "    #prodigal and fasta files:\n",
    "    prod=phage+\"gene\"\n",
    "    faa=phage+\"faa\"\n",
    "    \n",
    "    #blast files:\n",
    "    pfam_blast=phage+\"vs.Pfam.out\"\n",
    "    cog_blast=phage+\"vs.cogs_2003-2014.out\"\n",
    "    aclame_blast=phage+\"vs.aclame.out\"\n",
    "    cvp_blast=phage+\"vs.CVP.out\"\n",
    "    kegg_blast=phage+\"vs.kegg.out\"\n",
    "    tara_blast=phage+\"vs.tara.out\"\n",
    "\n",
    "    Sequence=open(prod).readlines()[0].split(\";\")[2].split(\"=\")[1].replace('\"','')\n",
    "    \n",
    "    #set up dicts from all BLASTs\n",
    "    kegg_blast_dict=annotated_blast_dict(blast=kegg_blast, prod=prod, faa=faa, db=\"kegg\")\n",
    "    pfam_blast_dict=annotated_blast_dict(blast=pfam_blast, prod=prod, faa=faa, db=\"pfam\")\n",
    "    cog_blast_dict=annotated_blast_dict(blast=cog_blast, prod=prod, faa=faa, db=\"cog\")\n",
    "    aclame_blast_dict=annotated_blast_dict(blast=aclame_blast, prod=prod, faa=faa, db=\"aclame\")\n",
    "    cvp_blast_dict=annotated_blast_dict(blast=cvp_blast, prod=prod, faa=faa, db=\"cvp\")\n",
    "    tara_blast_dict=annotated_blast_dict(blast=tara_blast, prod=prod, faa=faa, db=\"tara\")\n",
    "\n",
    "    #prioritize and name dicts:\n",
    "    #preferred blast dbs to annotate from if there's a match:\n",
    "    first_looks=[kegg_blast_dict, pfam_blast_dict, cog_blast_dict, aclame_blast_dict]\n",
    "    flnames=[\"kegg\",\"pfam\",\"cog\",\"aclame\"]\n",
    "    #secondary database(s) to annotate from:\n",
    "    second_look=[cvp_blast_dict]\n",
    "    slnames=[\"CVP\"]\n",
    "    #databases with orthologous groups to include in annotation\n",
    "    OGs=[kegg_blast_dict, pfam_blast_dict, cog_blast_dict]\n",
    "    OG_names=[\"KEGG\",\"PFam\",\"COG\"]\n",
    "    #databases where the closest hit will be referenced, but no other info will be provided:\n",
    "    annotes=[aclame_blast_dict, cvp_blast_dict, tara_blast_dict]\n",
    "    annotes_names=[\"ACLAME\",\"CAMERA_viral_proteins\",\"TARA_Oceans_Dataset\"]\n",
    "    \n",
    "    out=\"\"  #set up string to write to\n",
    "    \n",
    "    #run through annotations of each prodigal-identified CDS:\n",
    "    prod=open(prod).readlines()\n",
    "    digits=get_digits(faa)\n",
    "    \n",
    "    #write gff3 lines from prodigal files and blast dicts:\n",
    "    for i in range(2,len(prod)-1,2):\n",
    "\n",
    "        coords=get_prod_cds_info(i, prod, digits, phage)\n",
    "        locus_tag=coords[0]\n",
    "        start=coords[1]\n",
    "        stop=coords[2]\n",
    "        strand=coords[3]\n",
    "        \n",
    "        #set up col9\n",
    "        col9=\"ID=\"+locus_tag\n",
    "        \n",
    "        #ID best hit:\n",
    "        best_hits=find_best_hit2(locus_tag, dict_list1=first_looks, dl1_names=flnames, dict_list2=second_look, dl2_names=slnames)\n",
    "\n",
    "        #establish name:\n",
    "        Name=best_hits[0]\n",
    "        if len(Name)==0:\n",
    "            col9+='; Name=hypothetical protein'\n",
    "        else:\n",
    "            col9+=\"; Name=\"+Name.replace('\"','')\n",
    "\n",
    "        #Add OG annotations:\n",
    "        for d in range(0, len(OGs)):\n",
    "            og_dict=OGs[d]\n",
    "            if locus_tag in og_dict.keys():\n",
    "                col9+='; Ontology_term=\"'+OG_names[d]+\":\"+og_dict[locus_tag][-2]+'\"'\n",
    "\n",
    "        #Add db closest hits to notes\n",
    "        for d in range(0, len(annotes)):\n",
    "            annote_dict=annotes[d]\n",
    "            if locus_tag in annote_dict.keys():\n",
    "                col9+='; note=\"'+annotes_names[d]+\"_best_match:\"+annote_dict[locus_tag][-2]+'\"'\n",
    "        out+=Sequence+\"\\t\"+\"prod\"+\"\\t\"+\"CDS\"+\"\\t\"+start+\"\\t\"+stop+\"\\t\"+\".\"+\"\\t\"+strand+\"\\t\"+\"0\"+\"\\t\"+col9+\"\\n\"\n",
    "\n",
    "    return out\n",
    "\n",
    "def CRISPR_gff3(input_fasta, crt_output):\n",
    "    crtout=open(crt_output).readlines()\n",
    "\n",
    "    sequence=open(input_fasta).readlines()\n",
    "    name= [i.replace(\">\",\"\") for i in sequence if i.startswith(\">\")][0]\n",
    "    out=\"\"\n",
    "    for line in crtout:\n",
    "        if line.startswith(\"CRISPR\"):\n",
    "            vec=line.split()\n",
    "            number=vec[1]\n",
    "            start=vec[3]\n",
    "            stop=vec[5]\n",
    "            ID=\"NVP\"+name.split(\"_\")[1].replace(\".\",\"\")+\"_CRISPR-like_\"+number\n",
    "            out+=name.replace(\"\\n\",\"\")+\"\\t\"+\"crt\"+\"\\tputative CRISPR feature\\t%s\\t%s\\t.\\t.\\t.\\tID=%s\" % (start, stop, ID)\n",
    "            out+=\", note=CRISPR region\\n\"\n",
    "    return out\n",
    "\n",
    "def tRNA_scan_to_gff3(tRNAScanSE_file):\n",
    "    if os.path.getsize(tRNAScanSE_file)>0:\n",
    "        t=open(tRNAScanSE_file).readlines()\n",
    "        tanns=\"\"\n",
    "        for line in t[3:]:\n",
    "            l=line.split(\"\\t\")\n",
    "\n",
    "            locus_tag=\"NVP\"+l[0].split(\"_\")[1].replace(\".\",\"\")+\"_tRNA_\"+l[1]\n",
    "            start=l[2]\n",
    "            stop=l[3]\n",
    "            if start<stop:\n",
    "                strand=\"+\"\n",
    "            else:\n",
    "                strand=\"-\"\n",
    "            aa=l[4]\n",
    "            codon=l[5]\n",
    "            SeqID=l[0]\n",
    "            col9=\"ID=\"+locus_tag+\", aa=\"+aa+\", codon=\"+codon\n",
    "            out=SeqID+\"\\t\"+\"tRNAScanSE\"+\"\\t\"+\"tRNA\"+\"\\t\"+start+\"\\t\"+stop+\"\\t\"+l[-1].replace(\"\\n\",\"\")+\"\\t\"+strand+\"\\t\"+\"0\"+\"\\t\"+col9+\"\\n\"\n",
    "            tanns+=out\n",
    "        return tanns\n",
    "    else:\n",
    "        print \"no tRNAs found in genome\"\n",
    "        return \"\"\n",
    "    \n",
    "#put them all together:\n",
    "def write_gff3_file(phage):\n",
    "    prod=phage+\".gene\"\n",
    "    faa=phage+\".faa\"\n",
    "    genomic_fasta=\"./genomes/%sfinal.fasta\" % phage\n",
    "    \n",
    "    out=open(phage+\"test.gff3\",\"w\")\n",
    "    #out.write(gff3_header(phage+\"gene\"))\n",
    "    out.write(cds_blast_annotations_to_gff3(phage))\n",
    "    \n",
    "    trna=\"../tRNA_info/data/nahant_tRNA_count/%strnas.txt\" % phage \n",
    "    if os.path.getsize(trna)>0:\n",
    "        out.write(tRNA_scan_to_gff3(trna))\n",
    "    \n",
    "    crt_output=phage+\"crt\"\n",
    "    out.write(CRISPR_gff3(genomic_fasta, crt_output))\n",
    "    \n",
    "    out.close()\n"
   ]
  },
  {
   "cell_type": "code",
   "execution_count": 16,
   "metadata": {
    "collapsed": true
   },
   "outputs": [],
   "source": [
    "tarablast=set_up_blast_dict(\"./1.161.O.vs.tara.translated.out\",\"1.161.O.gene\",\"1.161.O.faa\")"
   ]
  },
  {
   "cell_type": "code",
   "execution_count": 19,
   "metadata": {
    "collapsed": false
   },
   "outputs": [
    {
     "name": "stdout",
     "output_type": "stream",
     "text": [
      "['OM-RGC.v1.031044528', 100, 84.8, '1.1e-41']\n",
      "['OM-RGC.v1.029216919', 100, 89.4, '2.8e-49']\n",
      "['OM-RGC.v1.023443165', 100, 95.6, '1.3e-79']\n",
      "['OM-RGC.v1.005269655', 100, 37.1, '6.4e-46']\n",
      "['OM-RGC.v1.036345776', 100, 85.2, '6.6e-21']\n",
      "['OM-RGC.v1.018155996', 100, 76.6, '1.1e-74']\n",
      "['OM-RGC.v1.037561010', 100, 94.4, '5.3e-22']\n",
      "['OM-RGC.v1.022734525', 100, 78.8, '2.5e-70']\n",
      "['OM-RGC.v1.005709073', 100, 41.2, '9e-50']\n",
      "['OM-RGC.v1.002040829', 100, 64.5, '1.2e-165']\n"
     ]
    }
   ],
   "source": [
    "for k in tarablast.keys()[0:10]:\n",
    "    print tarablast[k]"
   ]
  },
  {
   "cell_type": "code",
   "execution_count": null,
   "metadata": {
    "collapsed": true
   },
   "outputs": [],
   "source": [
    "def query_tara_db(tid):\n",
    "    conn=sqlite3.connect('/pool001/jbrown/tara_db.sqlite')\n",
    "    c=conn.cursor()\n",
    "\n",
    "    c.execute(\"SELECT * from taratbl where ID='\"+tid+\"'\")\n",
    "    output=c.fetchall()\n",
    "    gene=output[0][1]\n",
    "    egg=output[0][2]\n",
    "    ko=output[0][3]\n",
    "    kfunc=output[0][4]\n",
    "    conn.close()\n",
    "    \n",
    "    return [gene, egg, ko, kfunc]\n"
   ]
  },
  {
   "cell_type": "code",
   "execution_count": null,
   "metadata": {
    "collapsed": true
   },
   "outputs": [],
   "source": [
    "for k in tarablast.keys():\n",
    "    tid=tarablast[k][0]\n",
    "    tann=query_tara_db(tid)\n",
    "    tarablast[k]+=tann\n",
    "    out.write(k+\"\\t\"+\"\\t\".join(tarablast[k]))"
   ]
  },
  {
   "cell_type": "code",
   "execution_count": 21,
   "metadata": {
    "collapsed": false
   },
   "outputs": [
    {
     "data": {
      "text/plain": [
       "'hello\\thow\\tare\\tyou\\t?'"
      ]
     },
     "execution_count": 21,
     "metadata": {},
     "output_type": "execute_result"
    }
   ],
   "source": [
    "mylist=[\"hello\",\"how\",\"are\",\"you\",\"?\"]\n",
    "\"\\t\".join(mylist)"
   ]
  },
  {
   "cell_type": "code",
   "execution_count": 25,
   "metadata": {
    "collapsed": true
   },
   "outputs": [],
   "source": [
    "def query_tara_db(tid):\n",
    "    conn=sqlite3.connect('./tara4.sqlite')\n",
    "    c=conn.cursor()\n",
    "\n",
    "    c.execute(\"SELECT * from taratbl where ID='\"+tid+\"'\")\n",
    "    output=c.fetchall()\n",
    "    gene=output[0][1]\n",
    "    egg=output[0][2]\n",
    "    ko=output[0][3]\n",
    "    kfunc=output[0][4]\n",
    "    conn.close()\n",
    "    \n",
    "    return [gene, egg, ko, kfunc]\n"
   ]
  },
  {
   "cell_type": "code",
   "execution_count": 28,
   "metadata": {
    "collapsed": false
   },
   "outputs": [
    {
     "name": "stdout",
     "output_type": "stream",
     "text": [
      "472759.Nhal_2297\t\t\t\n"
     ]
    }
   ],
   "source": [
    "tid=\"OM-RGC.v1.040154624\"\n",
    "\n",
    "q=query_tara_db(tid)\n",
    "out=\"\\t\".join(q)\n",
    "print out"
   ]
  },
  {
   "cell_type": "code",
   "execution_count": null,
   "metadata": {
    "collapsed": true
   },
   "outputs": [],
   "source": []
  },
  {
   "cell_type": "code",
   "execution_count": null,
   "metadata": {
    "collapsed": true
   },
   "outputs": [],
   "source": [
    "for k in tarablast.keys():\n",
    "    tid=tarablast[k][0]\n",
    "    tann=query_tara_db(tid)\n",
    "    print tann\n",
    "    together=tarablast[k]+tann\n",
    "    print together\n",
    "    print \"\\t\".join(together)\n",
    "    to_write=\"\\t\".join(together)\n",
    "    out.write(k+\"\\t\"+to_write+\"\\n\")\n",
    "out.close()"
   ]
  },
  {
   "cell_type": "code",
   "execution_count": null,
   "metadata": {
    "collapsed": true
   },
   "outputs": [],
   "source": []
  },
  {
   "cell_type": "code",
   "execution_count": null,
   "metadata": {
    "collapsed": true
   },
   "outputs": [],
   "source": []
  },
  {
   "cell_type": "markdown",
   "metadata": {},
   "source": [
    "Connect to eggNOG REST api:"
   ]
  },
  {
   "cell_type": "code",
   "execution_count": 29,
   "metadata": {
    "collapsed": true
   },
   "outputs": [],
   "source": [
    "import urllib2"
   ]
  },
  {
   "cell_type": "code",
   "execution_count": 47,
   "metadata": {
    "collapsed": false
   },
   "outputs": [
    {
     "ename": "HTTPError",
     "evalue": "HTTP Error 500: Internal Server Error",
     "output_type": "error",
     "traceback": [
      "\u001b[0;31m---------------------------------------------------------------------------\u001b[0m",
      "\u001b[0;31mHTTPError\u001b[0m                                 Traceback (most recent call last)",
      "\u001b[0;32m<ipython-input-47-a50a4ebaf2e2>\u001b[0m in \u001b[0;36m<module>\u001b[0;34m()\u001b[0m\n\u001b[1;32m      1\u001b[0m \u001b[0murl\u001b[0m \u001b[0;34m=\u001b[0m \u001b[0;34m'http://eggnogapi.embl.de/nog_data/text/go_terms/COG5511'\u001b[0m\u001b[0;34m\u001b[0m\u001b[0m\n\u001b[0;32m----> 2\u001b[0;31m \u001b[0mresponse\u001b[0m \u001b[0;34m=\u001b[0m \u001b[0murllib2\u001b[0m\u001b[0;34m.\u001b[0m\u001b[0murlopen\u001b[0m\u001b[0;34m(\u001b[0m\u001b[0murl\u001b[0m\u001b[0;34m)\u001b[0m\u001b[0;34m.\u001b[0m\u001b[0mread\u001b[0m\u001b[0;34m(\u001b[0m\u001b[0;34m)\u001b[0m\u001b[0;34m\u001b[0m\u001b[0m\n\u001b[0m",
      "\u001b[0;32m/Users/jmb/anaconda/lib/python2.7/urllib2.pyc\u001b[0m in \u001b[0;36murlopen\u001b[0;34m(url, data, timeout, cafile, capath, cadefault, context)\u001b[0m\n\u001b[1;32m    152\u001b[0m     \u001b[0;32melse\u001b[0m\u001b[0;34m:\u001b[0m\u001b[0;34m\u001b[0m\u001b[0m\n\u001b[1;32m    153\u001b[0m         \u001b[0mopener\u001b[0m \u001b[0;34m=\u001b[0m \u001b[0m_opener\u001b[0m\u001b[0;34m\u001b[0m\u001b[0m\n\u001b[0;32m--> 154\u001b[0;31m     \u001b[0;32mreturn\u001b[0m \u001b[0mopener\u001b[0m\u001b[0;34m.\u001b[0m\u001b[0mopen\u001b[0m\u001b[0;34m(\u001b[0m\u001b[0murl\u001b[0m\u001b[0;34m,\u001b[0m \u001b[0mdata\u001b[0m\u001b[0;34m,\u001b[0m \u001b[0mtimeout\u001b[0m\u001b[0;34m)\u001b[0m\u001b[0;34m\u001b[0m\u001b[0m\n\u001b[0m\u001b[1;32m    155\u001b[0m \u001b[0;34m\u001b[0m\u001b[0m\n\u001b[1;32m    156\u001b[0m \u001b[0;32mdef\u001b[0m \u001b[0minstall_opener\u001b[0m\u001b[0;34m(\u001b[0m\u001b[0mopener\u001b[0m\u001b[0;34m)\u001b[0m\u001b[0;34m:\u001b[0m\u001b[0;34m\u001b[0m\u001b[0m\n",
      "\u001b[0;32m/Users/jmb/anaconda/lib/python2.7/urllib2.pyc\u001b[0m in \u001b[0;36mopen\u001b[0;34m(self, fullurl, data, timeout)\u001b[0m\n\u001b[1;32m    435\u001b[0m         \u001b[0;32mfor\u001b[0m \u001b[0mprocessor\u001b[0m \u001b[0;32min\u001b[0m \u001b[0mself\u001b[0m\u001b[0;34m.\u001b[0m\u001b[0mprocess_response\u001b[0m\u001b[0;34m.\u001b[0m\u001b[0mget\u001b[0m\u001b[0;34m(\u001b[0m\u001b[0mprotocol\u001b[0m\u001b[0;34m,\u001b[0m \u001b[0;34m[\u001b[0m\u001b[0;34m]\u001b[0m\u001b[0;34m)\u001b[0m\u001b[0;34m:\u001b[0m\u001b[0;34m\u001b[0m\u001b[0m\n\u001b[1;32m    436\u001b[0m             \u001b[0mmeth\u001b[0m \u001b[0;34m=\u001b[0m \u001b[0mgetattr\u001b[0m\u001b[0;34m(\u001b[0m\u001b[0mprocessor\u001b[0m\u001b[0;34m,\u001b[0m \u001b[0mmeth_name\u001b[0m\u001b[0;34m)\u001b[0m\u001b[0;34m\u001b[0m\u001b[0m\n\u001b[0;32m--> 437\u001b[0;31m             \u001b[0mresponse\u001b[0m \u001b[0;34m=\u001b[0m \u001b[0mmeth\u001b[0m\u001b[0;34m(\u001b[0m\u001b[0mreq\u001b[0m\u001b[0;34m,\u001b[0m \u001b[0mresponse\u001b[0m\u001b[0;34m)\u001b[0m\u001b[0;34m\u001b[0m\u001b[0m\n\u001b[0m\u001b[1;32m    438\u001b[0m \u001b[0;34m\u001b[0m\u001b[0m\n\u001b[1;32m    439\u001b[0m         \u001b[0;32mreturn\u001b[0m \u001b[0mresponse\u001b[0m\u001b[0;34m\u001b[0m\u001b[0m\n",
      "\u001b[0;32m/Users/jmb/anaconda/lib/python2.7/urllib2.pyc\u001b[0m in \u001b[0;36mhttp_response\u001b[0;34m(self, request, response)\u001b[0m\n\u001b[1;32m    548\u001b[0m         \u001b[0;32mif\u001b[0m \u001b[0;32mnot\u001b[0m \u001b[0;34m(\u001b[0m\u001b[0;36m200\u001b[0m \u001b[0;34m<=\u001b[0m \u001b[0mcode\u001b[0m \u001b[0;34m<\u001b[0m \u001b[0;36m300\u001b[0m\u001b[0;34m)\u001b[0m\u001b[0;34m:\u001b[0m\u001b[0;34m\u001b[0m\u001b[0m\n\u001b[1;32m    549\u001b[0m             response = self.parent.error(\n\u001b[0;32m--> 550\u001b[0;31m                 'http', request, response, code, msg, hdrs)\n\u001b[0m\u001b[1;32m    551\u001b[0m \u001b[0;34m\u001b[0m\u001b[0m\n\u001b[1;32m    552\u001b[0m         \u001b[0;32mreturn\u001b[0m \u001b[0mresponse\u001b[0m\u001b[0;34m\u001b[0m\u001b[0m\n",
      "\u001b[0;32m/Users/jmb/anaconda/lib/python2.7/urllib2.pyc\u001b[0m in \u001b[0;36merror\u001b[0;34m(self, proto, *args)\u001b[0m\n\u001b[1;32m    473\u001b[0m         \u001b[0;32mif\u001b[0m \u001b[0mhttp_err\u001b[0m\u001b[0;34m:\u001b[0m\u001b[0;34m\u001b[0m\u001b[0m\n\u001b[1;32m    474\u001b[0m             \u001b[0margs\u001b[0m \u001b[0;34m=\u001b[0m \u001b[0;34m(\u001b[0m\u001b[0mdict\u001b[0m\u001b[0;34m,\u001b[0m \u001b[0;34m'default'\u001b[0m\u001b[0;34m,\u001b[0m \u001b[0;34m'http_error_default'\u001b[0m\u001b[0;34m)\u001b[0m \u001b[0;34m+\u001b[0m \u001b[0morig_args\u001b[0m\u001b[0;34m\u001b[0m\u001b[0m\n\u001b[0;32m--> 475\u001b[0;31m             \u001b[0;32mreturn\u001b[0m \u001b[0mself\u001b[0m\u001b[0;34m.\u001b[0m\u001b[0m_call_chain\u001b[0m\u001b[0;34m(\u001b[0m\u001b[0;34m*\u001b[0m\u001b[0margs\u001b[0m\u001b[0;34m)\u001b[0m\u001b[0;34m\u001b[0m\u001b[0m\n\u001b[0m\u001b[1;32m    476\u001b[0m \u001b[0;34m\u001b[0m\u001b[0m\n\u001b[1;32m    477\u001b[0m \u001b[0;31m# XXX probably also want an abstract factory that knows when it makes\u001b[0m\u001b[0;34m\u001b[0m\u001b[0;34m\u001b[0m\u001b[0m\n",
      "\u001b[0;32m/Users/jmb/anaconda/lib/python2.7/urllib2.pyc\u001b[0m in \u001b[0;36m_call_chain\u001b[0;34m(self, chain, kind, meth_name, *args)\u001b[0m\n\u001b[1;32m    407\u001b[0m             \u001b[0mfunc\u001b[0m \u001b[0;34m=\u001b[0m \u001b[0mgetattr\u001b[0m\u001b[0;34m(\u001b[0m\u001b[0mhandler\u001b[0m\u001b[0;34m,\u001b[0m \u001b[0mmeth_name\u001b[0m\u001b[0;34m)\u001b[0m\u001b[0;34m\u001b[0m\u001b[0m\n\u001b[1;32m    408\u001b[0m \u001b[0;34m\u001b[0m\u001b[0m\n\u001b[0;32m--> 409\u001b[0;31m             \u001b[0mresult\u001b[0m \u001b[0;34m=\u001b[0m \u001b[0mfunc\u001b[0m\u001b[0;34m(\u001b[0m\u001b[0;34m*\u001b[0m\u001b[0margs\u001b[0m\u001b[0;34m)\u001b[0m\u001b[0;34m\u001b[0m\u001b[0m\n\u001b[0m\u001b[1;32m    410\u001b[0m             \u001b[0;32mif\u001b[0m \u001b[0mresult\u001b[0m \u001b[0;32mis\u001b[0m \u001b[0;32mnot\u001b[0m \u001b[0mNone\u001b[0m\u001b[0;34m:\u001b[0m\u001b[0;34m\u001b[0m\u001b[0m\n\u001b[1;32m    411\u001b[0m                 \u001b[0;32mreturn\u001b[0m \u001b[0mresult\u001b[0m\u001b[0;34m\u001b[0m\u001b[0m\n",
      "\u001b[0;32m/Users/jmb/anaconda/lib/python2.7/urllib2.pyc\u001b[0m in \u001b[0;36mhttp_error_default\u001b[0;34m(self, req, fp, code, msg, hdrs)\u001b[0m\n\u001b[1;32m    556\u001b[0m \u001b[0;32mclass\u001b[0m \u001b[0mHTTPDefaultErrorHandler\u001b[0m\u001b[0;34m(\u001b[0m\u001b[0mBaseHandler\u001b[0m\u001b[0;34m)\u001b[0m\u001b[0;34m:\u001b[0m\u001b[0;34m\u001b[0m\u001b[0m\n\u001b[1;32m    557\u001b[0m     \u001b[0;32mdef\u001b[0m \u001b[0mhttp_error_default\u001b[0m\u001b[0;34m(\u001b[0m\u001b[0mself\u001b[0m\u001b[0;34m,\u001b[0m \u001b[0mreq\u001b[0m\u001b[0;34m,\u001b[0m \u001b[0mfp\u001b[0m\u001b[0;34m,\u001b[0m \u001b[0mcode\u001b[0m\u001b[0;34m,\u001b[0m \u001b[0mmsg\u001b[0m\u001b[0;34m,\u001b[0m \u001b[0mhdrs\u001b[0m\u001b[0;34m)\u001b[0m\u001b[0;34m:\u001b[0m\u001b[0;34m\u001b[0m\u001b[0m\n\u001b[0;32m--> 558\u001b[0;31m         \u001b[0;32mraise\u001b[0m \u001b[0mHTTPError\u001b[0m\u001b[0;34m(\u001b[0m\u001b[0mreq\u001b[0m\u001b[0;34m.\u001b[0m\u001b[0mget_full_url\u001b[0m\u001b[0;34m(\u001b[0m\u001b[0;34m)\u001b[0m\u001b[0;34m,\u001b[0m \u001b[0mcode\u001b[0m\u001b[0;34m,\u001b[0m \u001b[0mmsg\u001b[0m\u001b[0;34m,\u001b[0m \u001b[0mhdrs\u001b[0m\u001b[0;34m,\u001b[0m \u001b[0mfp\u001b[0m\u001b[0;34m)\u001b[0m\u001b[0;34m\u001b[0m\u001b[0m\n\u001b[0m\u001b[1;32m    559\u001b[0m \u001b[0;34m\u001b[0m\u001b[0m\n\u001b[1;32m    560\u001b[0m \u001b[0;32mclass\u001b[0m \u001b[0mHTTPRedirectHandler\u001b[0m\u001b[0;34m(\u001b[0m\u001b[0mBaseHandler\u001b[0m\u001b[0;34m)\u001b[0m\u001b[0;34m:\u001b[0m\u001b[0;34m\u001b[0m\u001b[0m\n",
      "\u001b[0;31mHTTPError\u001b[0m: HTTP Error 500: Internal Server Error"
     ]
    }
   ],
   "source": [
    "url = 'http://eggnogapi.embl.de/nog_data/text/go_terms/COG5511'\n",
    "response = urllib2.urlopen(url).read()"
   ]
  },
  {
   "cell_type": "code",
   "execution_count": 40,
   "metadata": {
    "collapsed": false
   },
   "outputs": [],
   "source": [
    "import collections\n",
    "from restful_lib import Connection\n"
   ]
  },
  {
   "cell_type": "code",
   "execution_count": 50,
   "metadata": {
    "collapsed": false
   },
   "outputs": [],
   "source": [
    "kegg_url = \"http://rest.kegg.jp\"\n",
    "conn = Connection(kegg_url)"
   ]
  },
  {
   "cell_type": "code",
   "execution_count": 52,
   "metadata": {
    "collapsed": false
   },
   "outputs": [
    {
     "name": "stdout",
     "output_type": "stream",
     "text": [
      "{'status': '200', 'content-location': u'http://rest.kegg.jp/list/ko', 'transfer-encoding': 'chunked', 'server': 'Apache', 'date': 'Wed, 04 Nov 2015 21:58:35 GMT', 'content-type': 'text/plain; charset=utf-8'}\n",
      "<type 'unicode'>\n"
     ]
    }
   ],
   "source": [
    "allKOs = conn.request_get('list/ko', headers={'Accept':'text/json'})\n",
    "print allKOs['headers']\n",
    "print type(allKOs['body'])"
   ]
  },
  {
   "cell_type": "code",
   "execution_count": 48,
   "metadata": {
    "collapsed": true
   },
   "outputs": [],
   "source": [
    "test = conn.request_get('text/go_terms/COG5511', headers={'Accept':'text/json'})"
   ]
  },
  {
   "cell_type": "code",
   "execution_count": 49,
   "metadata": {
    "collapsed": false
   },
   "outputs": [
    {
     "name": "stdout",
     "output_type": "stream",
     "text": [
      "{u'body': u'\\n    <!DOCTYPE HTML PUBLIC \"-//IETF//DTD HTML 2.0//EN\">\\n    <html>\\n        <head>\\n            <title>Error: 500 Internal Server Error</title>\\n            <style type=\"text/css\">\\n              html {background-color: #eee; font-family: sans;}\\n              body {background-color: #fff; border: 1px solid #ddd;\\n                    padding: 15px; margin: 15px;}\\n              pre {background-color: #eee; border: 1px solid #ddd; padding: 5px;}\\n            </style>\\n        </head>\\n        <body>\\n            <h1>Error: 500 Internal Server Error</h1>\\n            <p>Sorry, the requested URL <tt>&#039;http://eggnogapi.embl.de/nog_data/text/go_terms/COG5511&#039;</tt>\\n               caused an error:</p>\\n            <pre>Internal Server Error</pre>\\n        </body>\\n    </html>\\n', u'headers': {'status': '500', 'content-length': '774', 'server': 'dylan.embl.de', 'connection': 'close', 'date': 'Wed, 04 Nov 2015 21:06:04 GMT', 'content-type': 'text/html; charset=UTF-8'}}\n"
     ]
    }
   ],
   "source": [
    "print test"
   ]
  },
  {
   "cell_type": "markdown",
   "metadata": {},
   "source": [
    "Screw this... I'm going to just download the EGGNOG database onto the server and set up another sqlite3 library!"
   ]
  },
  {
   "cell_type": "code",
   "execution_count": null,
   "metadata": {
    "collapsed": true
   },
   "outputs": [],
   "source": [
    "conn=sqlite3.connect('tara4.sqlite')\n",
    "c=conn.cursor()\n",
    "c.execute('''CREATE TABLE eggnog\n",
    "            (ID primary key, gene, egg, ko, kfunc)''')\n",
    "\n",
    "\n",
    "with open(\"./example.tara.tsv\") as infile:\n",
    "    for r in infile:\n",
    "        vec=r.replace('\"','').split(\"\\t\")\n",
    "        ID=vec[0]\n",
    "        gene=vec[1]\n",
    "        egg=vec[2]\n",
    "        ko=vec[3]\n",
    "        kfunc=vec[4]\n",
    "        c.execute(\"INSERT INTO taratbl VALUES ('\"+ID+\"','\"+gene+\"','\"+egg+\"','\"+ko+\"','\"+kfunc+\"')\")\n",
    "conn.commit()\n",
    "conn.close()"
   ]
  }
 ],
 "metadata": {
  "kernelspec": {
   "display_name": "Python 2",
   "language": "python",
   "name": "python2"
  },
  "language_info": {
   "codemirror_mode": {
    "name": "ipython",
    "version": 2
   },
   "file_extension": ".py",
   "mimetype": "text/x-python",
   "name": "python",
   "nbconvert_exporter": "python",
   "pygments_lexer": "ipython2",
   "version": "2.7.10"
  }
 },
 "nbformat": 4,
 "nbformat_minor": 0
}
